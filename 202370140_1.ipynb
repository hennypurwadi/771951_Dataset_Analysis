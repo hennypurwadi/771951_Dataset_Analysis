{
 "cells": [
  {
   "cell_type": "code",
   "execution_count": 2,
   "id": "03bd4a29",
   "metadata": {},
   "outputs": [],
   "source": [
    "#import os\n",
    "import numpy as np\n",
    "import pandas as pd\n",
    "from sklearn import tree\n",
    "import matplotlib.pyplot as plt\n",
    "pd.set_option('display.max_colwidth', 120)"
   ]
  },
  {
   "cell_type": "code",
   "execution_count": 3,
   "id": "08bf3b93",
   "metadata": {},
   "outputs": [
    {
     "data": {
      "text/html": [
       "<div>\n",
       "<style scoped>\n",
       "    .dataframe tbody tr th:only-of-type {\n",
       "        vertical-align: middle;\n",
       "    }\n",
       "\n",
       "    .dataframe tbody tr th {\n",
       "        vertical-align: top;\n",
       "    }\n",
       "\n",
       "    .dataframe thead th {\n",
       "        text-align: right;\n",
       "    }\n",
       "</style>\n",
       "<table border=\"1\" class=\"dataframe\">\n",
       "  <thead>\n",
       "    <tr style=\"text-align: right;\">\n",
       "      <th></th>\n",
       "      <th>Row ID</th>\n",
       "      <th>Order ID</th>\n",
       "      <th>Order Date</th>\n",
       "      <th>Ship Date</th>\n",
       "      <th>Ship Mode</th>\n",
       "      <th>Customer ID</th>\n",
       "      <th>Customer Name</th>\n",
       "      <th>Segment</th>\n",
       "      <th>Country</th>\n",
       "      <th>City</th>\n",
       "      <th>...</th>\n",
       "      <th>Postal Code</th>\n",
       "      <th>Region</th>\n",
       "      <th>Product ID</th>\n",
       "      <th>Category</th>\n",
       "      <th>Sub-Category</th>\n",
       "      <th>Product Name</th>\n",
       "      <th>Sales</th>\n",
       "      <th>Quantity</th>\n",
       "      <th>Discount</th>\n",
       "      <th>Profit</th>\n",
       "    </tr>\n",
       "  </thead>\n",
       "  <tbody>\n",
       "    <tr>\n",
       "      <th>0</th>\n",
       "      <td>7773</td>\n",
       "      <td>CA-2016-108196</td>\n",
       "      <td>25/11/2016</td>\n",
       "      <td>12/02/2016</td>\n",
       "      <td>Standard Class</td>\n",
       "      <td>CS-12505</td>\n",
       "      <td>Cindy Stewart</td>\n",
       "      <td>Consumer</td>\n",
       "      <td>United States</td>\n",
       "      <td>Lancaster</td>\n",
       "      <td>...</td>\n",
       "      <td>43130</td>\n",
       "      <td>Est</td>\n",
       "      <td>TEC-MA-10000418</td>\n",
       "      <td>Technology</td>\n",
       "      <td>Machines</td>\n",
       "      <td>Cubify CubeX 3D Printer Double Head Print</td>\n",
       "      <td>4499.985</td>\n",
       "      <td>5</td>\n",
       "      <td>0.7</td>\n",
       "      <td>-6599.978</td>\n",
       "    </tr>\n",
       "    <tr>\n",
       "      <th>1</th>\n",
       "      <td>684</td>\n",
       "      <td>US-2017-168116</td>\n",
       "      <td>11/04/2017</td>\n",
       "      <td>11/04/2017</td>\n",
       "      <td>Same Day</td>\n",
       "      <td>GT-14635</td>\n",
       "      <td>Grant Thornton</td>\n",
       "      <td>Corporate</td>\n",
       "      <td>United States</td>\n",
       "      <td>Burlington</td>\n",
       "      <td>...</td>\n",
       "      <td>\"27217\"</td>\n",
       "      <td>South</td>\n",
       "      <td>TEC-MA-10004125</td>\n",
       "      <td>Technology</td>\n",
       "      <td>Machines</td>\n",
       "      <td>Cubify CubeX 3D Printer Triple Head Print</td>\n",
       "      <td>7999.980</td>\n",
       "      <td>4</td>\n",
       "      <td>0.5</td>\n",
       "      <td>-3839.9904</td>\n",
       "    </tr>\n",
       "    <tr>\n",
       "      <th>2</th>\n",
       "      <td>9775</td>\n",
       "      <td>CA-2014-169019</td>\n",
       "      <td>26/07/2014</td>\n",
       "      <td>30/07/2014</td>\n",
       "      <td>Standard Class</td>\n",
       "      <td>LF-17185</td>\n",
       "      <td>Luke Foster</td>\n",
       "      <td>Consumer</td>\n",
       "      <td>United States</td>\n",
       "      <td>San Antonio</td>\n",
       "      <td>...</td>\n",
       "      <td>78207</td>\n",
       "      <td>Central</td>\n",
       "      <td>OFF-BI-10004995</td>\n",
       "      <td>Office Supplies</td>\n",
       "      <td>Binders</td>\n",
       "      <td>GBC DocuBind P400 Electric Binding System</td>\n",
       "      <td>2177.584</td>\n",
       "      <td>8</td>\n",
       "      <td>0.8</td>\n",
       "      <td>-3701.8928</td>\n",
       "    </tr>\n",
       "    <tr>\n",
       "      <th>3</th>\n",
       "      <td>3012</td>\n",
       "      <td>CA-2017-134845</td>\n",
       "      <td>17/04/2017</td>\n",
       "      <td>24/04/2017</td>\n",
       "      <td>Standard Class</td>\n",
       "      <td>SR-20425</td>\n",
       "      <td>Sharelle Roach</td>\n",
       "      <td>Home Office</td>\n",
       "      <td>United States</td>\n",
       "      <td>Louisville</td>\n",
       "      <td>...</td>\n",
       "      <td>80027</td>\n",
       "      <td>West</td>\n",
       "      <td>TEC-MA-10000822</td>\n",
       "      <td>Technology</td>\n",
       "      <td>Machines</td>\n",
       "      <td>Lexmark MX611dhe Monochrome Laser Printer</td>\n",
       "      <td>2549.985</td>\n",
       "      <td>5</td>\n",
       "      <td>0.7</td>\n",
       "      <td>-3399.98</td>\n",
       "    </tr>\n",
       "    <tr>\n",
       "      <th>4</th>\n",
       "      <td>4992</td>\n",
       "      <td>US-2017-122714</td>\n",
       "      <td>12/07/2017</td>\n",
       "      <td>13/12/2017</td>\n",
       "      <td>Standard Class</td>\n",
       "      <td>HG-14965</td>\n",
       "      <td>Henry Goldwyn</td>\n",
       "      <td>Corporate</td>\n",
       "      <td>United States</td>\n",
       "      <td>Chicago</td>\n",
       "      <td>...</td>\n",
       "      <td>60653</td>\n",
       "      <td>Central</td>\n",
       "      <td>OFF-BI-10001120</td>\n",
       "      <td>Office Supplies</td>\n",
       "      <td>Binders</td>\n",
       "      <td>Ibico EPK-21 Electric Binding System</td>\n",
       "      <td>1889.990</td>\n",
       "      <td>5</td>\n",
       "      <td>0.8</td>\n",
       "      <td>-2929.4845</td>\n",
       "    </tr>\n",
       "    <tr>\n",
       "      <th>5</th>\n",
       "      <td>3152</td>\n",
       "      <td>CA-2015-147830</td>\n",
       "      <td>15/12/2015</td>\n",
       "      <td>18/12/2015</td>\n",
       "      <td>First Class</td>\n",
       "      <td>NF-18385</td>\n",
       "      <td>Natalie Fritzler</td>\n",
       "      <td>Consumer</td>\n",
       "      <td>United States</td>\n",
       "      <td>Newark</td>\n",
       "      <td>...</td>\n",
       "      <td>43055</td>\n",
       "      <td>East</td>\n",
       "      <td>TEC-MA-10000418</td>\n",
       "      <td>Technology</td>\n",
       "      <td>Machines</td>\n",
       "      <td>Cubify CubeX 3D Printer Double Head Print</td>\n",
       "      <td>1799.994</td>\n",
       "      <td>Two</td>\n",
       "      <td>0.7</td>\n",
       "      <td>\"-2639.9912\"</td>\n",
       "    </tr>\n",
       "    <tr>\n",
       "      <th>6</th>\n",
       "      <td>5311</td>\n",
       "      <td>CA-2017-131254</td>\n",
       "      <td>19/11/2017</td>\n",
       "      <td>21/11/2017</td>\n",
       "      <td>First Class</td>\n",
       "      <td>NC-18415</td>\n",
       "      <td>Nathan Cano</td>\n",
       "      <td>Consumer</td>\n",
       "      <td>United States</td>\n",
       "      <td>Houston</td>\n",
       "      <td>...</td>\n",
       "      <td>77095</td>\n",
       "      <td>Central</td>\n",
       "      <td>OFF-BI-10003527</td>\n",
       "      <td>Office Supplies</td>\n",
       "      <td>Binders</td>\n",
       "      <td>Fellowes PB500 Electric Punch Plastic Comb Binding Machine with Manual Bind</td>\n",
       "      <td>1525.188</td>\n",
       "      <td>6</td>\n",
       "      <td>0.8</td>\n",
       "      <td>-2287.782</td>\n",
       "    </tr>\n",
       "    <tr>\n",
       "      <th>7</th>\n",
       "      <td>9640</td>\n",
       "      <td>CA-2015-116638</td>\n",
       "      <td>28/01/2015</td>\n",
       "      <td>NaN</td>\n",
       "      <td>Second Class</td>\n",
       "      <td>JH-15985</td>\n",
       "      <td>Joseph Holt</td>\n",
       "      <td>Consumer</td>\n",
       "      <td>United States</td>\n",
       "      <td>Concord</td>\n",
       "      <td>...</td>\n",
       "      <td>28027</td>\n",
       "      <td>South</td>\n",
       "      <td>FUR-TA-10000198</td>\n",
       "      <td>Frnture</td>\n",
       "      <td>Tables</td>\n",
       "      <td>Chromcraft Bull-Nose Wood Oval Conference Tables &amp; Bases</td>\n",
       "      <td>4297.644</td>\n",
       "      <td>Thirteen</td>\n",
       "      <td>0.4</td>\n",
       "      <td>NaN</td>\n",
       "    </tr>\n",
       "    <tr>\n",
       "      <th>8</th>\n",
       "      <td>1200</td>\n",
       "      <td>CA-2016-130946</td>\n",
       "      <td>04/08/2016</td>\n",
       "      <td>04/12/2016</td>\n",
       "      <td>Standard Class</td>\n",
       "      <td>ZC-21910</td>\n",
       "      <td>Zuschuss Carroll</td>\n",
       "      <td>Consumer</td>\n",
       "      <td>United States</td>\n",
       "      <td>Houston</td>\n",
       "      <td>...</td>\n",
       "      <td>77041</td>\n",
       "      <td>Central</td>\n",
       "      <td>OFF-BI-10004995</td>\n",
       "      <td>Office Supplies</td>\n",
       "      <td>Binders</td>\n",
       "      <td>GBC DocuBind P400 Electric Binding System</td>\n",
       "      <td>1088.792</td>\n",
       "      <td>4</td>\n",
       "      <td>0.8</td>\n",
       "      <td>-1850.9464</td>\n",
       "    </tr>\n",
       "    <tr>\n",
       "      <th>9</th>\n",
       "      <td>2698</td>\n",
       "      <td>CA-2014-145317</td>\n",
       "      <td>18/03/2014</td>\n",
       "      <td>23/03/2014</td>\n",
       "      <td>Standard Class</td>\n",
       "      <td>SM-20320</td>\n",
       "      <td>Sean Miller</td>\n",
       "      <td>Home Office</td>\n",
       "      <td>NaN</td>\n",
       "      <td>Jacksonville</td>\n",
       "      <td>...</td>\n",
       "      <td>32216</td>\n",
       "      <td>Southh</td>\n",
       "      <td>TEC-MA-10002412</td>\n",
       "      <td>Technology</td>\n",
       "      <td>Machines</td>\n",
       "      <td>Cisco TelePresence System EX90 Videoconferencing Unit</td>\n",
       "      <td>22638.480</td>\n",
       "      <td>6</td>\n",
       "      <td>0.5</td>\n",
       "      <td>-1811.0784</td>\n",
       "    </tr>\n",
       "  </tbody>\n",
       "</table>\n",
       "<p>10 rows × 21 columns</p>\n",
       "</div>"
      ],
      "text/plain": [
       "   Row ID        Order ID  Order Date   Ship Date       Ship Mode Customer ID  \\\n",
       "0    7773  CA-2016-108196  25/11/2016  12/02/2016  Standard Class    CS-12505   \n",
       "1     684  US-2017-168116  11/04/2017  11/04/2017        Same Day    GT-14635   \n",
       "2    9775  CA-2014-169019  26/07/2014  30/07/2014  Standard Class    LF-17185   \n",
       "3    3012  CA-2017-134845  17/04/2017  24/04/2017  Standard Class    SR-20425   \n",
       "4    4992  US-2017-122714  12/07/2017  13/12/2017  Standard Class    HG-14965   \n",
       "5    3152  CA-2015-147830  15/12/2015  18/12/2015     First Class    NF-18385   \n",
       "6    5311  CA-2017-131254  19/11/2017  21/11/2017     First Class    NC-18415   \n",
       "7    9640  CA-2015-116638  28/01/2015         NaN    Second Class    JH-15985   \n",
       "8    1200  CA-2016-130946  04/08/2016  04/12/2016  Standard Class    ZC-21910   \n",
       "9    2698  CA-2014-145317  18/03/2014  23/03/2014  Standard Class    SM-20320   \n",
       "\n",
       "      Customer Name      Segment        Country          City  ...  \\\n",
       "0     Cindy Stewart     Consumer  United States     Lancaster  ...   \n",
       "1    Grant Thornton    Corporate  United States    Burlington  ...   \n",
       "2       Luke Foster     Consumer  United States   San Antonio  ...   \n",
       "3    Sharelle Roach  Home Office  United States    Louisville  ...   \n",
       "4     Henry Goldwyn    Corporate  United States       Chicago  ...   \n",
       "5  Natalie Fritzler     Consumer  United States        Newark  ...   \n",
       "6       Nathan Cano     Consumer  United States       Houston  ...   \n",
       "7       Joseph Holt     Consumer  United States       Concord  ...   \n",
       "8  Zuschuss Carroll     Consumer  United States       Houston  ...   \n",
       "9       Sean Miller  Home Office            NaN  Jacksonville  ...   \n",
       "\n",
       "  Postal Code   Region       Product ID         Category Sub-Category  \\\n",
       "0       43130      Est  TEC-MA-10000418       Technology     Machines   \n",
       "1     \"27217\"    South  TEC-MA-10004125       Technology     Machines   \n",
       "2       78207  Central  OFF-BI-10004995  Office Supplies      Binders   \n",
       "3       80027     West  TEC-MA-10000822       Technology     Machines   \n",
       "4       60653  Central  OFF-BI-10001120  Office Supplies      Binders   \n",
       "5       43055     East  TEC-MA-10000418       Technology     Machines   \n",
       "6       77095  Central  OFF-BI-10003527  Office Supplies      Binders   \n",
       "7       28027    South  FUR-TA-10000198          Frnture       Tables   \n",
       "8       77041  Central  OFF-BI-10004995  Office Supplies      Binders   \n",
       "9       32216   Southh  TEC-MA-10002412       Technology     Machines   \n",
       "\n",
       "                                                                  Product Name  \\\n",
       "0                                    Cubify CubeX 3D Printer Double Head Print   \n",
       "1                                    Cubify CubeX 3D Printer Triple Head Print   \n",
       "2                                    GBC DocuBind P400 Electric Binding System   \n",
       "3                                    Lexmark MX611dhe Monochrome Laser Printer   \n",
       "4                                         Ibico EPK-21 Electric Binding System   \n",
       "5                                    Cubify CubeX 3D Printer Double Head Print   \n",
       "6  Fellowes PB500 Electric Punch Plastic Comb Binding Machine with Manual Bind   \n",
       "7                     Chromcraft Bull-Nose Wood Oval Conference Tables & Bases   \n",
       "8                                    GBC DocuBind P400 Electric Binding System   \n",
       "9                        Cisco TelePresence System EX90 Videoconferencing Unit   \n",
       "\n",
       "       Sales  Quantity Discount        Profit  \n",
       "0   4499.985         5      0.7     -6599.978  \n",
       "1   7999.980         4      0.5    -3839.9904  \n",
       "2   2177.584         8      0.8    -3701.8928  \n",
       "3   2549.985         5      0.7      -3399.98  \n",
       "4   1889.990         5      0.8    -2929.4845  \n",
       "5   1799.994       Two      0.7  \"-2639.9912\"  \n",
       "6   1525.188         6      0.8     -2287.782  \n",
       "7   4297.644  Thirteen      0.4           NaN  \n",
       "8   1088.792         4      0.8    -1850.9464  \n",
       "9  22638.480         6      0.5    -1811.0784  \n",
       "\n",
       "[10 rows x 21 columns]"
      ]
     },
     "execution_count": 3,
     "metadata": {},
     "output_type": "execute_result"
    }
   ],
   "source": [
    "input_file = \"sample-superstore_2023_T3.csv\"\n",
    "df = pd.read_csv(input_file, header = 0)\n",
    "df.head(10)"
   ]
  },
  {
   "cell_type": "code",
   "execution_count": 4,
   "id": "214a6490",
   "metadata": {},
   "outputs": [
    {
     "data": {
      "text/plain": [
       "9994"
      ]
     },
     "execution_count": 4,
     "metadata": {},
     "output_type": "execute_result"
    }
   ],
   "source": [
    "len(df)"
   ]
  },
  {
   "cell_type": "code",
   "execution_count": 5,
   "id": "3b2a8321",
   "metadata": {},
   "outputs": [
    {
     "name": "stdout",
     "output_type": "stream",
     "text": [
      "Index(['Row ID', 'Order ID', 'Order Date', 'Ship Date', 'Ship Mode',\n",
      "       'Customer ID', 'Customer Name', 'Segment', 'Country', 'City', 'State',\n",
      "       'Postal Code', 'Region', 'Product ID', 'Category', 'Sub-Category',\n",
      "       'Product Name', 'Sales', 'Quantity', 'Discount', 'Profit'],\n",
      "      dtype='object')\n"
     ]
    }
   ],
   "source": [
    "print(df.columns)"
   ]
  },
  {
   "cell_type": "markdown",
   "id": "979becf5",
   "metadata": {},
   "source": [
    "## Handling missing values in the dataset"
   ]
  },
  {
   "cell_type": "markdown",
   "id": "79b922d7",
   "metadata": {},
   "source": [
    "### Count missing values in each column"
   ]
  },
  {
   "cell_type": "code",
   "execution_count": 6,
   "id": "945a7185",
   "metadata": {},
   "outputs": [
    {
     "name": "stdout",
     "output_type": "stream",
     "text": [
      "Row ID            0\n",
      "Order ID          1\n",
      "Order Date        2\n",
      "Ship Date         3\n",
      "Ship Mode         4\n",
      "Customer ID       0\n",
      "Customer Name     3\n",
      "Segment           3\n",
      "Country           4\n",
      "City              2\n",
      "State             4\n",
      "Postal Code       3\n",
      "Region            3\n",
      "Product ID        2\n",
      "Category          2\n",
      "Sub-Category      4\n",
      "Product Name      3\n",
      "Sales             1\n",
      "Quantity          5\n",
      "Discount          3\n",
      "Profit           11\n",
      "dtype: int64\n"
     ]
    }
   ],
   "source": [
    "missing_values = df.isnull().sum()\n",
    "print(missing_values)"
   ]
  },
  {
   "cell_type": "markdown",
   "id": "c2fb5e02",
   "metadata": {},
   "source": [
    "###  \"Imputation with Corresponding Values\" for missing values in \"Customer Name\" column."
   ]
  },
  {
   "cell_type": "markdown",
   "id": "98d84d4d",
   "metadata": {},
   "source": [
    "To fill in missing 'Customer Name' values using names linked to the unique 'Customer ID' values in the dataset."
   ]
  },
  {
   "cell_type": "code",
   "execution_count": 7,
   "id": "c6021dae",
   "metadata": {},
   "outputs": [
    {
     "name": "stdout",
     "output_type": "stream",
     "text": [
      "    Customer ID Customer Name\n",
      "76     SO-20335           NaN\n",
      "869    DH-13075           NaN\n",
      "877    BP-11095           NaN\n"
     ]
    }
   ],
   "source": [
    "#Find 'Customer ID' where 'Customer Name' is missing\n",
    "\n",
    "missing_customer_name = (df['Customer Name'].isnull()) & (~df['Customer ID'].isnull())\n",
    "print(df.loc[missing_customer_name, ['Customer ID', 'Customer Name']])"
   ]
  },
  {
   "cell_type": "code",
   "execution_count": 8,
   "id": "8a7cb8f8",
   "metadata": {},
   "outputs": [
    {
     "name": "stdout",
     "output_type": "stream",
     "text": [
      "     Customer ID   Customer Name\n",
      "76      SO-20335             NaN\n",
      "869     DH-13075             NaN\n",
      "877     BP-11095             NaN\n",
      "898     DH-13075   Dave Hallsten\n",
      "1152    BP-11095    Bart Pistole\n",
      "1628    SO-20335  Sean O'Donnell\n"
     ]
    }
   ],
   "source": [
    "#Compare with specified 'Customer ID' and 'Customer Name' in other rows\n",
    "\n",
    "customer_ids_missing_name = df.loc[df['Customer Name'].isnull(), 'Customer ID'].unique()\n",
    "\n",
    "unique_customer_info = df[df['Customer ID'].isin(customer_ids_missing_name)][[\n",
    "    'Customer ID','Customer Name']].drop_duplicates()\n",
    "print(unique_customer_info)"
   ]
  },
  {
   "cell_type": "code",
   "execution_count": 9,
   "id": "9904b20f",
   "metadata": {},
   "outputs": [
    {
     "name": "stdout",
     "output_type": "stream",
     "text": [
      "    Customer ID   Customer Name\n",
      "76     SO-20335  Sean O'Donnell\n",
      "869    DH-13075   Dave Hallsten\n",
      "877    BP-11095    Bart Pistole\n"
     ]
    }
   ],
   "source": [
    "# Replace NaN values in 'Customer Name' with \"Customer Name\" values in corresponding Customer ID\"\n",
    "\n",
    "for index, row in unique_customer_info.iterrows():\n",
    "    customer_id = row['Customer ID']\n",
    "    customer_name = df.loc[df['Customer ID'] == customer_id, 'Customer Name'].dropna().iloc[0]\n",
    "    df.loc[df['Customer ID'] == customer_id, 'Customer Name'] = customer_name\n",
    "    \n",
    "specific_customer_name_info = df[df['Customer ID'].isin(['SO-20335', 'DH-13075', 'BP-11095'])][[\n",
    "    'Customer ID', 'Customer Name']].drop_duplicates()\n",
    "print(specific_customer_name_info)"
   ]
  },
  {
   "cell_type": "code",
   "execution_count": null,
   "id": "0d8d9f36",
   "metadata": {},
   "outputs": [],
   "source": []
  },
  {
   "cell_type": "markdown",
   "id": "12527cc5",
   "metadata": {},
   "source": [
    "To fill in missing 'Segment' values linked to the unique 'Customer ID' values in the dataset."
   ]
  },
  {
   "cell_type": "code",
   "execution_count": 10,
   "id": "a7cc3369",
   "metadata": {},
   "outputs": [
    {
     "name": "stdout",
     "output_type": "stream",
     "text": [
      "    Customer ID Segment\n",
      "206    EP-13915     NaN\n",
      "443    TG-21310     NaN\n",
      "494    TC-21475     NaN\n"
     ]
    }
   ],
   "source": [
    "#Find 'Customer ID' where 'Segment' is missing\n",
    "\n",
    "missing_segment = (df['Segment'].isnull()) & (~df['Customer ID'].isnull())\n",
    "print(df.loc[missing_segment, ['Customer ID', 'Segment',]])"
   ]
  },
  {
   "cell_type": "code",
   "execution_count": 11,
   "id": "5a65c664",
   "metadata": {},
   "outputs": [
    {
     "name": "stdout",
     "output_type": "stream",
     "text": [
      "    Customer ID      Segment\n",
      "142    EP-13915     Consumer\n",
      "163    TG-21310     Consumer\n",
      "206    EP-13915          NaN\n",
      "414    TC-21475  Home Office\n",
      "443    TG-21310          NaN\n",
      "494    TC-21475          NaN\n"
     ]
    }
   ],
   "source": [
    "#Compare with specified 'Customer ID' and 'Segment' in other rows\n",
    "\n",
    "customer_ids_missing_segment = df.loc[df['Segment'].isnull(), 'Customer ID'].unique()\n",
    "\n",
    "unique_segment_info = df[df['Customer ID'].isin(customer_ids_missing_segment)][[\n",
    "    'Customer ID','Segment']].drop_duplicates()\n",
    "print(unique_segment_info)"
   ]
  },
  {
   "cell_type": "code",
   "execution_count": 35,
   "id": "1b970156",
   "metadata": {},
   "outputs": [
    {
     "name": "stdout",
     "output_type": "stream",
     "text": [
      "    Customer ID      Segment\n",
      "142    EP-13915     Consumer\n",
      "163    TG-21310     Consumer\n",
      "206    EP-13915     Consumer\n",
      "414    TC-21475  Home Office\n",
      "443    TG-21310     Consumer\n",
      "494    TC-21475  Home Office\n"
     ]
    }
   ],
   "source": [
    "# Replace NaN values in 'Segment' with \"Segment\" values in corresponding Customer ID\" \n",
    "\n",
    "for index, row in unique_segment_info.iterrows():\n",
    "    customer_id = row['Customer ID']\n",
    "    segment = df.loc[df['Customer ID'] == customer_id, 'Segment'].dropna().iloc[0]\n",
    "    df.loc[df['Customer ID'] == customer_id, 'Segment'] = segment\n",
    "    \n",
    "specific_segment_info = df[df['Customer ID'].isin(['EP-13915', 'TG-21310', 'TC-21475'])][[\n",
    "    'Customer ID', 'Segment']]\n",
    "\n",
    "#print(specific_segment_info)\n",
    "specific_rows = df.loc[[142, 163, 206, 414, 443, 494], ['Customer ID', 'Segment']]\n",
    "print(specific_rows)"
   ]
  },
  {
   "cell_type": "code",
   "execution_count": null,
   "id": "b38c0c05",
   "metadata": {},
   "outputs": [],
   "source": []
  },
  {
   "cell_type": "code",
   "execution_count": null,
   "id": "9d58d826",
   "metadata": {},
   "outputs": [],
   "source": []
  },
  {
   "cell_type": "code",
   "execution_count": null,
   "id": "e25a182d",
   "metadata": {},
   "outputs": [],
   "source": []
  },
  {
   "cell_type": "code",
   "execution_count": null,
   "id": "b7c6798c",
   "metadata": {},
   "outputs": [],
   "source": [
    "'''columns1_to_check = ['Row ID', 'Order ID', 'Order Date', 'Ship Date']\n",
    "\n",
    "for column in columns1_to_check:\n",
    "    unique_values = df[column].unique().tolist()\n",
    "    print(f\"\\nUnique {column}:\", unique_values)'''"
   ]
  },
  {
   "cell_type": "code",
   "execution_count": null,
   "id": "e3d10afe",
   "metadata": {},
   "outputs": [],
   "source": [
    "columns2_to_check = ['Ship Mode']\n",
    "\n",
    "for column in columns2_to_check:\n",
    "    unique_values = df[column].unique().tolist()\n",
    "    print(f\"\\nUnique {column}:\", unique_values)"
   ]
  },
  {
   "cell_type": "code",
   "execution_count": null,
   "id": "96d8e86b",
   "metadata": {},
   "outputs": [],
   "source": [
    "columns_to_check = ['Customer ID', 'Customer Name', 'Segment', 'Country', 'City', 'State',\n",
    "                    'Postal Code', 'Region']\n",
    "\n",
    "for column in columns_to_check:\n",
    "    unique_values = df[column].unique().tolist()\n",
    "    print(f\"\\nUnique {column}:\", unique_values)"
   ]
  },
  {
   "cell_type": "code",
   "execution_count": null,
   "id": "fdb44ff4",
   "metadata": {},
   "outputs": [],
   "source": [
    "columns_to_check = [Product ID', 'Category', 'Sub-Category','Product Name', 'Sales', 'Quantity', 'Discount', 'Profit']\n",
    "\n",
    "for column in columns_to_check:\n",
    "    unique_values = df[column].unique().tolist()\n",
    "    print(f\"\\nUnique {column}:\", unique_values)"
   ]
  },
  {
   "cell_type": "code",
   "execution_count": null,
   "id": "ba896934",
   "metadata": {},
   "outputs": [],
   "source": [
    "unique_country = df['Country'].unique()\n",
    "unique_country = unique_country.tolist()\n",
    "print(\"\\nUnique Country:\", unique_country)"
   ]
  },
  {
   "cell_type": "code",
   "execution_count": null,
   "id": "9e32e052",
   "metadata": {},
   "outputs": [],
   "source": [
    "unique_city = df['City'].unique()\n",
    "unique_city = unique_city.tolist()\n",
    "#print(\"\\nUnique city:\", unique_city)"
   ]
  },
  {
   "cell_type": "code",
   "execution_count": null,
   "id": "6606d036",
   "metadata": {},
   "outputs": [],
   "source": [
    "unique_sales = df['Sales'].unique()\n",
    "unique_sales_list = unique_sales.tolist()\n",
    "#print(\"\\nUnique Sales:\", unique_sales_list)"
   ]
  },
  {
   "cell_type": "code",
   "execution_count": null,
   "id": "ac5be3a8",
   "metadata": {},
   "outputs": [],
   "source": [
    "unique_quantity = df['Quantity'].unique()\n",
    "print(\"\\nUnique Quantity:\", unique_quantity)"
   ]
  },
  {
   "cell_type": "code",
   "execution_count": null,
   "id": "8454f1a6",
   "metadata": {},
   "outputs": [],
   "source": [
    "unique_discount = df['Discount'].unique()\n",
    "print(\"\\nUnique Discount:\", unique_discount)"
   ]
  },
  {
   "cell_type": "code",
   "execution_count": null,
   "id": "4f512531",
   "metadata": {},
   "outputs": [],
   "source": [
    "unique_discount = df['Discount'].unique()\n",
    "unique_discount_list = unique_discount.tolist()\n",
    "print(\"\\nUnique Discount:\", unique_discount_list)"
   ]
  },
  {
   "cell_type": "code",
   "execution_count": null,
   "id": "c1878422",
   "metadata": {},
   "outputs": [],
   "source": []
  },
  {
   "cell_type": "markdown",
   "id": "72067e51",
   "metadata": {},
   "source": [
    "## Finding the Outliers"
   ]
  },
  {
   "cell_type": "code",
   "execution_count": null,
   "id": "9f20a5e6",
   "metadata": {},
   "outputs": [],
   "source": [
    "import matplotlib.pyplot as plt\n",
    "import seaborn as sns\n",
    "\n",
    "# Assuming 'df' is your DataFrame and 'Quantity' is the column of interest\n",
    "qty = df['Quantity']\n",
    "\n",
    "# Calculate descriptive statistics\n",
    "mean_qty = qty.mean()\n",
    "std_qty = qty.std()\n",
    "\n",
    "# Define a threshold for identifying outliers (e.g., 3 standard deviations from the mean)\n",
    "outlier_threshold = 3 * std_qty\n",
    "\n",
    "# Identify outliers\n",
    "outliers = qty[abs(qty - mean_qty) > outlier_threshold]\n",
    "\n",
    "# Create a histogram\n",
    "plt.hist(qty, bins=50, color='blue', alpha=0.7, label='Quantity')\n",
    "plt.axvline(mean_qty, color='red', linestyle='dashed', linewidth=2, label='Mean')\n",
    "plt.axvline(mean_qty + outlier_threshold, color='orange', linestyle='dashed', linewidth=2, label='Outlier Threshold')\n",
    "plt.axvline(mean_qty - outlier_threshold, color='orange', linestyle='dashed', linewidth=2)\n",
    "\n",
    "# Highlight outliers on the histogram\n",
    "plt.scatter(outliers, [0] * len(outliers), color='red', label='Outliers')\n",
    "\n",
    "# Set labels and title\n",
    "plt.xlabel('Quantity')\n",
    "plt.ylabel('Frequency')\n",
    "plt.title('Histogram of Quantity with Outliers')\n",
    "plt.legend()\n",
    "\n",
    "# Show the plot\n",
    "plt.show()\n"
   ]
  },
  {
   "cell_type": "code",
   "execution_count": null,
   "id": "342b0517",
   "metadata": {},
   "outputs": [],
   "source": []
  },
  {
   "cell_type": "code",
   "execution_count": null,
   "id": "1a9400ec",
   "metadata": {},
   "outputs": [],
   "source": []
  },
  {
   "cell_type": "code",
   "execution_count": null,
   "id": "a54950e7",
   "metadata": {},
   "outputs": [],
   "source": []
  },
  {
   "cell_type": "code",
   "execution_count": null,
   "id": "6615c86b",
   "metadata": {},
   "outputs": [],
   "source": [
    "non_numeric_columns = df.select_dtypes(exclude=['number']).columns\n",
    "for column in non_numeric_columns:\n",
    "    unique_values = df[column].unique()\n",
    "    print(f\"{column}: {unique_values}\")"
   ]
  },
  {
   "cell_type": "code",
   "execution_count": null,
   "id": "4575f875",
   "metadata": {
    "scrolled": true
   },
   "outputs": [],
   "source": [
    "len(df)"
   ]
  },
  {
   "cell_type": "code",
   "execution_count": null,
   "id": "f76bfed1",
   "metadata": {},
   "outputs": [],
   "source": [
    "print(df.dtypes)"
   ]
  },
  {
   "cell_type": "code",
   "execution_count": null,
   "id": "1b8bbd49",
   "metadata": {},
   "outputs": [],
   "source": [
    "#Change 'Quantity' and 'Profit' value type from string to numerical data type\n",
    "\n",
    "df['Quantity'] = pd.to_numeric(df['Quantity'], errors='coerce')\n",
    "df['Profit'] = pd.to_numeric(df['Profit'], errors='coerce')"
   ]
  },
  {
   "cell_type": "code",
   "execution_count": null,
   "id": "301b977c",
   "metadata": {},
   "outputs": [],
   "source": [
    "print(df.dtypes)"
   ]
  },
  {
   "cell_type": "code",
   "execution_count": null,
   "id": "023ea2dc",
   "metadata": {},
   "outputs": [],
   "source": [
    "#For numrical data, Fill NaN values with mean\n",
    "\n",
    "mean_sales = df['Sales'].mean()\n",
    "mean_quantity = df['Quantity'].mean()\n",
    "mean_discount = df['Discount'].mean()\n",
    "mean_profit = df['Profit'].mean()\n",
    "\n",
    "df['Sales'].fillna(mean_sales, inplace=True)\n",
    "df['Quantity'].fillna(mean_quantity, inplace=True)\n",
    "df['Discount'].fillna(mean_discount, inplace=True)\n",
    "df['Profit'].fillna(mean_profit, inplace=True)"
   ]
  },
  {
   "cell_type": "code",
   "execution_count": null,
   "id": "8233d3cd",
   "metadata": {},
   "outputs": [],
   "source": [
    "#Round 'Sales', 'Discount', and 'Profit' decimal places\n",
    "\n",
    "df['Sales'] = df['Sales'].round(1)\n",
    "df['Quantity'] = df['Quantity'].round(1)\n",
    "df['Discount'] = df['Discount'].round(2)\n",
    "df['Profit'] = df['Profit'].round(0)"
   ]
  },
  {
   "cell_type": "code",
   "execution_count": null,
   "id": "0901fa8c",
   "metadata": {},
   "outputs": [],
   "source": [
    "df[['Country','City','Customer ID','Product Name','Sales','Quantity','Discount','Profit']].head(10)"
   ]
  },
  {
   "cell_type": "code",
   "execution_count": null,
   "id": "afda2352",
   "metadata": {},
   "outputs": [],
   "source": [
    "unique_countries = df['Country'].unique()\n",
    "print(\"Unique Countries:\", unique_countries)"
   ]
  },
  {
   "cell_type": "code",
   "execution_count": null,
   "id": "1a78752f",
   "metadata": {},
   "outputs": [],
   "source": [
    "unique_cities = df['City'].unique()\n",
    "print(\"\\nUnique Cities:\", unique_cities)"
   ]
  },
  {
   "cell_type": "code",
   "execution_count": null,
   "id": "016a0048",
   "metadata": {},
   "outputs": [],
   "source": [
    "df.head(60)"
   ]
  },
  {
   "cell_type": "code",
   "execution_count": null,
   "id": "43773126",
   "metadata": {},
   "outputs": [],
   "source": [
    "# Filter rows where 'Order ID' is 'US-2017-122714'\n",
    "order_id_row = df[df['Order ID'] == 'US-2017-122714']\n",
    "\n",
    "# Display the filtered row\n",
    "print(order_id_row[['Country','City','Product Name','Sales','Quantity','Discount','Profit']])\n"
   ]
  },
  {
   "cell_type": "code",
   "execution_count": null,
   "id": "446d19bb",
   "metadata": {},
   "outputs": [],
   "source": [
    "descriptive_stats = df.describe()\n",
    "print(descriptive_stats)"
   ]
  },
  {
   "cell_type": "code",
   "execution_count": null,
   "id": "9a8ad760",
   "metadata": {},
   "outputs": [],
   "source": [
    "# Identify and treat outliers in 'Sales' and 'Profit'\n",
    "# Example: Use z-score to identify and remove outliers\n",
    "from scipy.stats import zscore\n",
    "z_scores = zscore(df[['Sales', 'Profit']])\n",
    "df_no_outliers = df[(z_scores < 3).all(axis=1)]"
   ]
  },
  {
   "cell_type": "code",
   "execution_count": null,
   "id": "17761cdb",
   "metadata": {},
   "outputs": [],
   "source": [
    "# Identify outliers in 'Sales' and 'Profit'\n",
    "# Apply treatment method, e.g., removing or transforming outliers"
   ]
  },
  {
   "cell_type": "code",
   "execution_count": null,
   "id": "7cdce914",
   "metadata": {},
   "outputs": [],
   "source": [
    "from sklearn.preprocessing import MinMaxScaler\n",
    "\n",
    "# Select numerical variables for normalization and scaling\n",
    "numerical_vars = ['Sales', 'Quantity', 'Discount', 'Profit']\n",
    "\n",
    "# Apply Min-Max scaling\n",
    "scaler = MinMaxScaler()\n",
    "df[numerical_vars] = scaler.fit_transform(df[numerical_vars])"
   ]
  },
  {
   "cell_type": "code",
   "execution_count": null,
   "id": "e876ef44",
   "metadata": {},
   "outputs": [],
   "source": [
    "# Demonstrate data aggregations or frequency distributions\n",
    "# Example: Group by 'Category' and calculate the mean of 'Sales' and 'Profit'\n",
    "group_data = df.groupby('Category')['Sales', 'Profit'].mean()\n",
    "print(group_data)"
   ]
  },
  {
   "cell_type": "code",
   "execution_count": null,
   "id": "85e1fd2b",
   "metadata": {},
   "outputs": [],
   "source": [
    "# Identify and handle missing values\n",
    "missing_values = df.isnull().sum()\n",
    "# Example: Fill missing values in 'Sales' with the mean\n",
    "df['Sales'].fillna(df['Sales'].mean(), inplace=True)\n"
   ]
  },
  {
   "cell_type": "code",
   "execution_count": null,
   "id": "12d92474",
   "metadata": {},
   "outputs": [],
   "source": [
    "# Describe features that are related and the nature of that relationship\n",
    "correlation_matrix = df.corr()\n",
    "print(correlation_matrix)\n"
   ]
  },
  {
   "cell_type": "code",
   "execution_count": null,
   "id": "f4d58dfd",
   "metadata": {},
   "outputs": [],
   "source": [
    "import matplotlib.pyplot as plt\n",
    "import seaborn as sns\n",
    "\n",
    "# Example: Univariate analysis and visualization for 'Sales'\n",
    "plt.figure(figsize=(10, 6))\n",
    "sns.histplot(df['Sales'], bins=20, kde=True)\n",
    "plt.title('Distribution of Sales')\n",
    "plt.xlabel('Sales')\n",
    "plt.ylabel('Frequency')\n",
    "plt.show()\n"
   ]
  },
  {
   "cell_type": "code",
   "execution_count": null,
   "id": "20954e14",
   "metadata": {},
   "outputs": [],
   "source": []
  },
  {
   "cell_type": "code",
   "execution_count": null,
   "id": "cbfaeada",
   "metadata": {},
   "outputs": [],
   "source": []
  }
 ],
 "metadata": {
  "kernelspec": {
   "display_name": "Python [conda env:jcopml]",
   "language": "python",
   "name": "conda-env-jcopml-py"
  },
  "language_info": {
   "codemirror_mode": {
    "name": "ipython",
    "version": 3
   },
   "file_extension": ".py",
   "mimetype": "text/x-python",
   "name": "python",
   "nbconvert_exporter": "python",
   "pygments_lexer": "ipython3",
   "version": "3.9.0"
  },
  "varInspector": {
   "cols": {
    "lenName": 16,
    "lenType": 16,
    "lenVar": 40
   },
   "kernels_config": {
    "python": {
     "delete_cmd_postfix": "",
     "delete_cmd_prefix": "del ",
     "library": "var_list.py",
     "varRefreshCmd": "print(var_dic_list())"
    },
    "r": {
     "delete_cmd_postfix": ") ",
     "delete_cmd_prefix": "rm(",
     "library": "var_list.r",
     "varRefreshCmd": "cat(var_dic_list()) "
    }
   },
   "types_to_exclude": [
    "module",
    "function",
    "builtin_function_or_method",
    "instance",
    "_Feature"
   ],
   "window_display": false
  }
 },
 "nbformat": 4,
 "nbformat_minor": 5
}
