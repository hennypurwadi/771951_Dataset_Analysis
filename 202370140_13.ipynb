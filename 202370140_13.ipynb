{
 "cells": [
  {
   "cell_type": "markdown",
   "id": "f7d52059",
   "metadata": {},
   "source": [
    "# TASK 1"
   ]
  },
  {
   "cell_type": "code",
   "execution_count": 1,
   "id": "03bd4a29",
   "metadata": {},
   "outputs": [],
   "source": [
    "#import os\n",
    "import numpy as np\n",
    "import pandas as pd\n",
    "from sklearn import tree\n",
    "import matplotlib.pyplot as plt\n",
    "pd.set_option('display.max_colwidth', 160)\n",
    "import warnings\n",
    "warnings.filterwarnings('ignore')"
   ]
  },
  {
   "cell_type": "code",
   "execution_count": 2,
   "id": "08bf3b93",
   "metadata": {},
   "outputs": [
    {
     "data": {
      "text/html": [
       "<div>\n",
       "<style scoped>\n",
       "    .dataframe tbody tr th:only-of-type {\n",
       "        vertical-align: middle;\n",
       "    }\n",
       "\n",
       "    .dataframe tbody tr th {\n",
       "        vertical-align: top;\n",
       "    }\n",
       "\n",
       "    .dataframe thead th {\n",
       "        text-align: right;\n",
       "    }\n",
       "</style>\n",
       "<table border=\"1\" class=\"dataframe\">\n",
       "  <thead>\n",
       "    <tr style=\"text-align: right;\">\n",
       "      <th></th>\n",
       "      <th>Row ID</th>\n",
       "      <th>Order ID</th>\n",
       "      <th>Order Date</th>\n",
       "      <th>Ship Date</th>\n",
       "      <th>Ship Mode</th>\n",
       "      <th>Customer ID</th>\n",
       "      <th>Customer Name</th>\n",
       "      <th>Segment</th>\n",
       "      <th>Country</th>\n",
       "      <th>City</th>\n",
       "      <th>...</th>\n",
       "      <th>Postal Code</th>\n",
       "      <th>Region</th>\n",
       "      <th>Product ID</th>\n",
       "      <th>Category</th>\n",
       "      <th>Sub-Category</th>\n",
       "      <th>Product Name</th>\n",
       "      <th>Sales</th>\n",
       "      <th>Quantity</th>\n",
       "      <th>Discount</th>\n",
       "      <th>Profit</th>\n",
       "    </tr>\n",
       "  </thead>\n",
       "  <tbody>\n",
       "    <tr>\n",
       "      <th>0</th>\n",
       "      <td>7773</td>\n",
       "      <td>CA-2016-108196</td>\n",
       "      <td>25/11/2016</td>\n",
       "      <td>12/02/2016</td>\n",
       "      <td>Standard Class</td>\n",
       "      <td>CS-12505</td>\n",
       "      <td>Cindy Stewart</td>\n",
       "      <td>Consumer</td>\n",
       "      <td>United States</td>\n",
       "      <td>Lancaster</td>\n",
       "      <td>...</td>\n",
       "      <td>43130</td>\n",
       "      <td>Est</td>\n",
       "      <td>TEC-MA-10000418</td>\n",
       "      <td>Technology</td>\n",
       "      <td>Machines</td>\n",
       "      <td>Cubify CubeX 3D Printer Double Head Print</td>\n",
       "      <td>4499.985</td>\n",
       "      <td>5</td>\n",
       "      <td>0.7</td>\n",
       "      <td>-6599.978</td>\n",
       "    </tr>\n",
       "    <tr>\n",
       "      <th>1</th>\n",
       "      <td>684</td>\n",
       "      <td>US-2017-168116</td>\n",
       "      <td>11/04/2017</td>\n",
       "      <td>11/04/2017</td>\n",
       "      <td>Same Day</td>\n",
       "      <td>GT-14635</td>\n",
       "      <td>Grant Thornton</td>\n",
       "      <td>Corporate</td>\n",
       "      <td>United States</td>\n",
       "      <td>Burlington</td>\n",
       "      <td>...</td>\n",
       "      <td>\"27217\"</td>\n",
       "      <td>South</td>\n",
       "      <td>TEC-MA-10004125</td>\n",
       "      <td>Technology</td>\n",
       "      <td>Machines</td>\n",
       "      <td>Cubify CubeX 3D Printer Triple Head Print</td>\n",
       "      <td>7999.980</td>\n",
       "      <td>4</td>\n",
       "      <td>0.5</td>\n",
       "      <td>-3839.9904</td>\n",
       "    </tr>\n",
       "    <tr>\n",
       "      <th>2</th>\n",
       "      <td>9775</td>\n",
       "      <td>CA-2014-169019</td>\n",
       "      <td>26/07/2014</td>\n",
       "      <td>30/07/2014</td>\n",
       "      <td>Standard Class</td>\n",
       "      <td>LF-17185</td>\n",
       "      <td>Luke Foster</td>\n",
       "      <td>Consumer</td>\n",
       "      <td>United States</td>\n",
       "      <td>San Antonio</td>\n",
       "      <td>...</td>\n",
       "      <td>78207</td>\n",
       "      <td>Central</td>\n",
       "      <td>OFF-BI-10004995</td>\n",
       "      <td>Office Supplies</td>\n",
       "      <td>Binders</td>\n",
       "      <td>GBC DocuBind P400 Electric Binding System</td>\n",
       "      <td>2177.584</td>\n",
       "      <td>8</td>\n",
       "      <td>0.8</td>\n",
       "      <td>-3701.8928</td>\n",
       "    </tr>\n",
       "    <tr>\n",
       "      <th>3</th>\n",
       "      <td>3012</td>\n",
       "      <td>CA-2017-134845</td>\n",
       "      <td>17/04/2017</td>\n",
       "      <td>24/04/2017</td>\n",
       "      <td>Standard Class</td>\n",
       "      <td>SR-20425</td>\n",
       "      <td>Sharelle Roach</td>\n",
       "      <td>Home Office</td>\n",
       "      <td>United States</td>\n",
       "      <td>Louisville</td>\n",
       "      <td>...</td>\n",
       "      <td>80027</td>\n",
       "      <td>West</td>\n",
       "      <td>TEC-MA-10000822</td>\n",
       "      <td>Technology</td>\n",
       "      <td>Machines</td>\n",
       "      <td>Lexmark MX611dhe Monochrome Laser Printer</td>\n",
       "      <td>2549.985</td>\n",
       "      <td>5</td>\n",
       "      <td>0.7</td>\n",
       "      <td>-3399.98</td>\n",
       "    </tr>\n",
       "    <tr>\n",
       "      <th>4</th>\n",
       "      <td>4992</td>\n",
       "      <td>US-2017-122714</td>\n",
       "      <td>12/07/2017</td>\n",
       "      <td>13/12/2017</td>\n",
       "      <td>Standard Class</td>\n",
       "      <td>HG-14965</td>\n",
       "      <td>Henry Goldwyn</td>\n",
       "      <td>Corporate</td>\n",
       "      <td>United States</td>\n",
       "      <td>Chicago</td>\n",
       "      <td>...</td>\n",
       "      <td>60653</td>\n",
       "      <td>Central</td>\n",
       "      <td>OFF-BI-10001120</td>\n",
       "      <td>Office Supplies</td>\n",
       "      <td>Binders</td>\n",
       "      <td>Ibico EPK-21 Electric Binding System</td>\n",
       "      <td>1889.990</td>\n",
       "      <td>5</td>\n",
       "      <td>0.8</td>\n",
       "      <td>-2929.4845</td>\n",
       "    </tr>\n",
       "    <tr>\n",
       "      <th>5</th>\n",
       "      <td>3152</td>\n",
       "      <td>CA-2015-147830</td>\n",
       "      <td>15/12/2015</td>\n",
       "      <td>18/12/2015</td>\n",
       "      <td>First Class</td>\n",
       "      <td>NF-18385</td>\n",
       "      <td>Natalie Fritzler</td>\n",
       "      <td>Consumer</td>\n",
       "      <td>United States</td>\n",
       "      <td>Newark</td>\n",
       "      <td>...</td>\n",
       "      <td>43055</td>\n",
       "      <td>East</td>\n",
       "      <td>TEC-MA-10000418</td>\n",
       "      <td>Technology</td>\n",
       "      <td>Machines</td>\n",
       "      <td>Cubify CubeX 3D Printer Double Head Print</td>\n",
       "      <td>1799.994</td>\n",
       "      <td>Two</td>\n",
       "      <td>0.7</td>\n",
       "      <td>\"-2639.9912\"</td>\n",
       "    </tr>\n",
       "    <tr>\n",
       "      <th>6</th>\n",
       "      <td>5311</td>\n",
       "      <td>CA-2017-131254</td>\n",
       "      <td>19/11/2017</td>\n",
       "      <td>21/11/2017</td>\n",
       "      <td>First Class</td>\n",
       "      <td>NC-18415</td>\n",
       "      <td>Nathan Cano</td>\n",
       "      <td>Consumer</td>\n",
       "      <td>United States</td>\n",
       "      <td>Houston</td>\n",
       "      <td>...</td>\n",
       "      <td>77095</td>\n",
       "      <td>Central</td>\n",
       "      <td>OFF-BI-10003527</td>\n",
       "      <td>Office Supplies</td>\n",
       "      <td>Binders</td>\n",
       "      <td>Fellowes PB500 Electric Punch Plastic Comb Binding Machine with Manual Bind</td>\n",
       "      <td>1525.188</td>\n",
       "      <td>6</td>\n",
       "      <td>0.8</td>\n",
       "      <td>-2287.782</td>\n",
       "    </tr>\n",
       "    <tr>\n",
       "      <th>7</th>\n",
       "      <td>9640</td>\n",
       "      <td>CA-2015-116638</td>\n",
       "      <td>28/01/2015</td>\n",
       "      <td>NaN</td>\n",
       "      <td>Second Class</td>\n",
       "      <td>JH-15985</td>\n",
       "      <td>Joseph Holt</td>\n",
       "      <td>Consumer</td>\n",
       "      <td>United States</td>\n",
       "      <td>Concord</td>\n",
       "      <td>...</td>\n",
       "      <td>28027</td>\n",
       "      <td>South</td>\n",
       "      <td>FUR-TA-10000198</td>\n",
       "      <td>Frnture</td>\n",
       "      <td>Tables</td>\n",
       "      <td>Chromcraft Bull-Nose Wood Oval Conference Tables &amp; Bases</td>\n",
       "      <td>4297.644</td>\n",
       "      <td>Thirteen</td>\n",
       "      <td>0.4</td>\n",
       "      <td>NaN</td>\n",
       "    </tr>\n",
       "    <tr>\n",
       "      <th>8</th>\n",
       "      <td>1200</td>\n",
       "      <td>CA-2016-130946</td>\n",
       "      <td>04/08/2016</td>\n",
       "      <td>04/12/2016</td>\n",
       "      <td>Standard Class</td>\n",
       "      <td>ZC-21910</td>\n",
       "      <td>Zuschuss Carroll</td>\n",
       "      <td>Consumer</td>\n",
       "      <td>United States</td>\n",
       "      <td>Houston</td>\n",
       "      <td>...</td>\n",
       "      <td>77041</td>\n",
       "      <td>Central</td>\n",
       "      <td>OFF-BI-10004995</td>\n",
       "      <td>Office Supplies</td>\n",
       "      <td>Binders</td>\n",
       "      <td>GBC DocuBind P400 Electric Binding System</td>\n",
       "      <td>1088.792</td>\n",
       "      <td>4</td>\n",
       "      <td>0.8</td>\n",
       "      <td>-1850.9464</td>\n",
       "    </tr>\n",
       "    <tr>\n",
       "      <th>9</th>\n",
       "      <td>2698</td>\n",
       "      <td>CA-2014-145317</td>\n",
       "      <td>18/03/2014</td>\n",
       "      <td>23/03/2014</td>\n",
       "      <td>Standard Class</td>\n",
       "      <td>SM-20320</td>\n",
       "      <td>Sean Miller</td>\n",
       "      <td>Home Office</td>\n",
       "      <td>NaN</td>\n",
       "      <td>Jacksonville</td>\n",
       "      <td>...</td>\n",
       "      <td>32216</td>\n",
       "      <td>Southh</td>\n",
       "      <td>TEC-MA-10002412</td>\n",
       "      <td>Technology</td>\n",
       "      <td>Machines</td>\n",
       "      <td>Cisco TelePresence System EX90 Videoconferencing Unit</td>\n",
       "      <td>22638.480</td>\n",
       "      <td>6</td>\n",
       "      <td>0.5</td>\n",
       "      <td>-1811.0784</td>\n",
       "    </tr>\n",
       "  </tbody>\n",
       "</table>\n",
       "<p>10 rows × 21 columns</p>\n",
       "</div>"
      ],
      "text/plain": [
       "   Row ID        Order ID  Order Date   Ship Date       Ship Mode Customer ID  \\\n",
       "0    7773  CA-2016-108196  25/11/2016  12/02/2016  Standard Class    CS-12505   \n",
       "1     684  US-2017-168116  11/04/2017  11/04/2017        Same Day    GT-14635   \n",
       "2    9775  CA-2014-169019  26/07/2014  30/07/2014  Standard Class    LF-17185   \n",
       "3    3012  CA-2017-134845  17/04/2017  24/04/2017  Standard Class    SR-20425   \n",
       "4    4992  US-2017-122714  12/07/2017  13/12/2017  Standard Class    HG-14965   \n",
       "5    3152  CA-2015-147830  15/12/2015  18/12/2015     First Class    NF-18385   \n",
       "6    5311  CA-2017-131254  19/11/2017  21/11/2017     First Class    NC-18415   \n",
       "7    9640  CA-2015-116638  28/01/2015         NaN    Second Class    JH-15985   \n",
       "8    1200  CA-2016-130946  04/08/2016  04/12/2016  Standard Class    ZC-21910   \n",
       "9    2698  CA-2014-145317  18/03/2014  23/03/2014  Standard Class    SM-20320   \n",
       "\n",
       "      Customer Name      Segment        Country          City  ...  \\\n",
       "0     Cindy Stewart     Consumer  United States     Lancaster  ...   \n",
       "1    Grant Thornton    Corporate  United States    Burlington  ...   \n",
       "2       Luke Foster     Consumer  United States   San Antonio  ...   \n",
       "3    Sharelle Roach  Home Office  United States    Louisville  ...   \n",
       "4     Henry Goldwyn    Corporate  United States       Chicago  ...   \n",
       "5  Natalie Fritzler     Consumer  United States        Newark  ...   \n",
       "6       Nathan Cano     Consumer  United States       Houston  ...   \n",
       "7       Joseph Holt     Consumer  United States       Concord  ...   \n",
       "8  Zuschuss Carroll     Consumer  United States       Houston  ...   \n",
       "9       Sean Miller  Home Office            NaN  Jacksonville  ...   \n",
       "\n",
       "  Postal Code   Region       Product ID         Category Sub-Category  \\\n",
       "0       43130      Est  TEC-MA-10000418       Technology     Machines   \n",
       "1     \"27217\"    South  TEC-MA-10004125       Technology     Machines   \n",
       "2       78207  Central  OFF-BI-10004995  Office Supplies      Binders   \n",
       "3       80027     West  TEC-MA-10000822       Technology     Machines   \n",
       "4       60653  Central  OFF-BI-10001120  Office Supplies      Binders   \n",
       "5       43055     East  TEC-MA-10000418       Technology     Machines   \n",
       "6       77095  Central  OFF-BI-10003527  Office Supplies      Binders   \n",
       "7       28027    South  FUR-TA-10000198          Frnture       Tables   \n",
       "8       77041  Central  OFF-BI-10004995  Office Supplies      Binders   \n",
       "9       32216   Southh  TEC-MA-10002412       Technology     Machines   \n",
       "\n",
       "                                                                  Product Name  \\\n",
       "0                                    Cubify CubeX 3D Printer Double Head Print   \n",
       "1                                    Cubify CubeX 3D Printer Triple Head Print   \n",
       "2                                    GBC DocuBind P400 Electric Binding System   \n",
       "3                                    Lexmark MX611dhe Monochrome Laser Printer   \n",
       "4                                         Ibico EPK-21 Electric Binding System   \n",
       "5                                    Cubify CubeX 3D Printer Double Head Print   \n",
       "6  Fellowes PB500 Electric Punch Plastic Comb Binding Machine with Manual Bind   \n",
       "7                     Chromcraft Bull-Nose Wood Oval Conference Tables & Bases   \n",
       "8                                    GBC DocuBind P400 Electric Binding System   \n",
       "9                        Cisco TelePresence System EX90 Videoconferencing Unit   \n",
       "\n",
       "       Sales  Quantity Discount        Profit  \n",
       "0   4499.985         5      0.7     -6599.978  \n",
       "1   7999.980         4      0.5    -3839.9904  \n",
       "2   2177.584         8      0.8    -3701.8928  \n",
       "3   2549.985         5      0.7      -3399.98  \n",
       "4   1889.990         5      0.8    -2929.4845  \n",
       "5   1799.994       Two      0.7  \"-2639.9912\"  \n",
       "6   1525.188         6      0.8     -2287.782  \n",
       "7   4297.644  Thirteen      0.4           NaN  \n",
       "8   1088.792         4      0.8    -1850.9464  \n",
       "9  22638.480         6      0.5    -1811.0784  \n",
       "\n",
       "[10 rows x 21 columns]"
      ]
     },
     "execution_count": 2,
     "metadata": {},
     "output_type": "execute_result"
    }
   ],
   "source": [
    "input_file = \"sample-superstore_2023_T3.csv\"\n",
    "df = pd.read_csv(input_file, header = 0)\n",
    "df.head(10)"
   ]
  },
  {
   "cell_type": "code",
   "execution_count": null,
   "id": "214a6490",
   "metadata": {},
   "outputs": [],
   "source": [
    "len(df)"
   ]
  },
  {
   "cell_type": "code",
   "execution_count": 3,
   "id": "3b2a8321",
   "metadata": {},
   "outputs": [
    {
     "name": "stdout",
     "output_type": "stream",
     "text": [
      "Index(['Row ID', 'Order ID', 'Order Date', 'Ship Date', 'Ship Mode',\n",
      "       'Customer ID', 'Customer Name', 'Segment', 'Country', 'City', 'State',\n",
      "       'Postal Code', 'Region', 'Product ID', 'Category', 'Sub-Category',\n",
      "       'Product Name', 'Sales', 'Quantity', 'Discount', 'Profit'],\n",
      "      dtype='object')\n"
     ]
    }
   ],
   "source": [
    "print(df.columns)"
   ]
  },
  {
   "cell_type": "markdown",
   "id": "4560e4a2",
   "metadata": {},
   "source": [
    "## ER  Diagram\n",
    "\n",
    "Relationships:\n",
    "\n",
    "Customer to Order: One-to-Many. A customer can place multiple orders, but each order is placed by a single customer.\"Customer ID\" should be a foreign key (FK) in the \"Order\" entity.\n",
    "\n",
    "Order to Sales: One-to-Many. An order can include multiple products (sales), but each sale row is associated with one order.\n",
    "\n",
    "Product to Sales: One-to-Many. A product can be part of multiple sales (orders), but each sale row references one specific product."
   ]
  },
  {
   "attachments": {
    "771951_ERD.jpeg": {
     "image/jpeg": "[encoded data removed]"
    }
   },
   "cell_type": "markdown",
   "id": "1ccbf87e",
   "metadata": {},
   "source": [
    "![771951_ERD.jpeg](attachment:771951_ERD.jpeg)"
   ]
  },
  {
   "cell_type": "markdown",
   "id": "669f2bb8",
   "metadata": {},
   "source": [
    "## Description of the Dataset"
   ]
  },
  {
   "cell_type": "markdown",
   "id": "9f8db961",
   "metadata": {},
   "source": [
    "This dataset shows the transaction details from a retail operation, linking customers, orders, and products through sales records. It includes customer information (ID, name, segment, geographic details), order specifics (ID, date, shipping mode), product attributes (ID, category, sub-category, name), sales transactions (quantities, prices, discounts, and profits).\n",
    "\n",
    "The dataset can be utilized for data analysis for customer behavior, forecasting sales, providing valuable insights for optimizing efficiency and market strategies. For example to compare how much items were purchased at discount prices, compared to regular prices, the profit generate, to investigate consumer preferences by region, preferred shopping times (specific dates/months), and identifies the most profitable products. "
   ]
  },
  {
   "cell_type": "markdown",
   "id": "51f15031",
   "metadata": {},
   "source": [
    "# TASK 2"
   ]
  },
  {
   "cell_type": "markdown",
   "id": "f05908ed",
   "metadata": {},
   "source": [
    "# Grouping of Data "
   ]
  },
  {
   "cell_type": "code",
   "execution_count": 4,
   "id": "878b3491",
   "metadata": {},
   "outputs": [],
   "source": [
    "df_Product = df[['Row ID','Product ID', 'Category', 'Sub-Category', 'Product Name']]\n",
    "df_Sales = df[['Row ID', 'Order ID', 'Product ID', 'Sales', 'Quantity', 'Discount', 'Profit']]\n",
    "\n",
    "df_Customer = df[['Row ID','Customer ID', 'Customer Name', 'Segment','Country', 'City', 'State', 'Postal Code', 'Region']]\n",
    "df_Order = df[['Row ID','Order ID', 'Order Date', 'Ship Date', 'Ship Mode', 'Customer ID']]"
   ]
  },
  {
   "cell_type": "markdown",
   "id": "be60e26d",
   "metadata": {},
   "source": [
    "# 1. df_Product group "
   ]
  },
  {
   "cell_type": "code",
   "execution_count": 5,
   "id": "897ae36b",
   "metadata": {},
   "outputs": [
    {
     "data": {
      "text/html": [
       "<div>\n",
       "<style scoped>\n",
       "    .dataframe tbody tr th:only-of-type {\n",
       "        vertical-align: middle;\n",
       "    }\n",
       "\n",
       "    .dataframe tbody tr th {\n",
       "        vertical-align: top;\n",
       "    }\n",
       "\n",
       "    .dataframe thead th {\n",
       "        text-align: right;\n",
       "    }\n",
       "</style>\n",
       "<table border=\"1\" class=\"dataframe\">\n",
       "  <thead>\n",
       "    <tr style=\"text-align: right;\">\n",
       "      <th></th>\n",
       "      <th>Row ID</th>\n",
       "      <th>Product ID</th>\n",
       "      <th>Category</th>\n",
       "      <th>Sub-Category</th>\n",
       "      <th>Product Name</th>\n",
       "    </tr>\n",
       "  </thead>\n",
       "  <tbody>\n",
       "    <tr>\n",
       "      <th>0</th>\n",
       "      <td>7773</td>\n",
       "      <td>TEC-MA-10000418</td>\n",
       "      <td>Technology</td>\n",
       "      <td>Machines</td>\n",
       "      <td>Cubify CubeX 3D Printer Double Head Print</td>\n",
       "    </tr>\n",
       "    <tr>\n",
       "      <th>1</th>\n",
       "      <td>684</td>\n",
       "      <td>TEC-MA-10004125</td>\n",
       "      <td>Technology</td>\n",
       "      <td>Machines</td>\n",
       "      <td>Cubify CubeX 3D Printer Triple Head Print</td>\n",
       "    </tr>\n",
       "    <tr>\n",
       "      <th>2</th>\n",
       "      <td>9775</td>\n",
       "      <td>OFF-BI-10004995</td>\n",
       "      <td>Office Supplies</td>\n",
       "      <td>Binders</td>\n",
       "      <td>GBC DocuBind P400 Electric Binding System</td>\n",
       "    </tr>\n",
       "    <tr>\n",
       "      <th>3</th>\n",
       "      <td>3012</td>\n",
       "      <td>TEC-MA-10000822</td>\n",
       "      <td>Technology</td>\n",
       "      <td>Machines</td>\n",
       "      <td>Lexmark MX611dhe Monochrome Laser Printer</td>\n",
       "    </tr>\n",
       "    <tr>\n",
       "      <th>4</th>\n",
       "      <td>4992</td>\n",
       "      <td>OFF-BI-10001120</td>\n",
       "      <td>Office Supplies</td>\n",
       "      <td>Binders</td>\n",
       "      <td>Ibico EPK-21 Electric Binding System</td>\n",
       "    </tr>\n",
       "    <tr>\n",
       "      <th>5</th>\n",
       "      <td>3152</td>\n",
       "      <td>TEC-MA-10000418</td>\n",
       "      <td>Technology</td>\n",
       "      <td>Machines</td>\n",
       "      <td>Cubify CubeX 3D Printer Double Head Print</td>\n",
       "    </tr>\n",
       "    <tr>\n",
       "      <th>6</th>\n",
       "      <td>5311</td>\n",
       "      <td>OFF-BI-10003527</td>\n",
       "      <td>Office Supplies</td>\n",
       "      <td>Binders</td>\n",
       "      <td>Fellowes PB500 Electric Punch Plastic Comb Binding Machine with Manual Bind</td>\n",
       "    </tr>\n",
       "    <tr>\n",
       "      <th>7</th>\n",
       "      <td>9640</td>\n",
       "      <td>FUR-TA-10000198</td>\n",
       "      <td>Frnture</td>\n",
       "      <td>Tables</td>\n",
       "      <td>Chromcraft Bull-Nose Wood Oval Conference Tables &amp; Bases</td>\n",
       "    </tr>\n",
       "    <tr>\n",
       "      <th>8</th>\n",
       "      <td>1200</td>\n",
       "      <td>OFF-BI-10004995</td>\n",
       "      <td>Office Supplies</td>\n",
       "      <td>Binders</td>\n",
       "      <td>GBC DocuBind P400 Electric Binding System</td>\n",
       "    </tr>\n",
       "    <tr>\n",
       "      <th>9</th>\n",
       "      <td>2698</td>\n",
       "      <td>TEC-MA-10002412</td>\n",
       "      <td>Technology</td>\n",
       "      <td>Machines</td>\n",
       "      <td>Cisco TelePresence System EX90 Videoconferencing Unit</td>\n",
       "    </tr>\n",
       "  </tbody>\n",
       "</table>\n",
       "</div>"
      ],
      "text/plain": [
       "   Row ID       Product ID         Category Sub-Category  \\\n",
       "0    7773  TEC-MA-10000418       Technology     Machines   \n",
       "1     684  TEC-MA-10004125       Technology     Machines   \n",
       "2    9775  OFF-BI-10004995  Office Supplies      Binders   \n",
       "3    3012  TEC-MA-10000822       Technology     Machines   \n",
       "4    4992  OFF-BI-10001120  Office Supplies      Binders   \n",
       "5    3152  TEC-MA-10000418       Technology     Machines   \n",
       "6    5311  OFF-BI-10003527  Office Supplies      Binders   \n",
       "7    9640  FUR-TA-10000198          Frnture       Tables   \n",
       "8    1200  OFF-BI-10004995  Office Supplies      Binders   \n",
       "9    2698  TEC-MA-10002412       Technology     Machines   \n",
       "\n",
       "                                                                  Product Name  \n",
       "0                                    Cubify CubeX 3D Printer Double Head Print  \n",
       "1                                    Cubify CubeX 3D Printer Triple Head Print  \n",
       "2                                    GBC DocuBind P400 Electric Binding System  \n",
       "3                                    Lexmark MX611dhe Monochrome Laser Printer  \n",
       "4                                         Ibico EPK-21 Electric Binding System  \n",
       "5                                    Cubify CubeX 3D Printer Double Head Print  \n",
       "6  Fellowes PB500 Electric Punch Plastic Comb Binding Machine with Manual Bind  \n",
       "7                     Chromcraft Bull-Nose Wood Oval Conference Tables & Bases  \n",
       "8                                    GBC DocuBind P400 Electric Binding System  \n",
       "9                        Cisco TelePresence System EX90 Videoconferencing Unit  "
      ]
     },
     "execution_count": 5,
     "metadata": {},
     "output_type": "execute_result"
    }
   ],
   "source": [
    "df_Product.head(10)"
   ]
  },
  {
   "cell_type": "markdown",
   "id": "fb9d41d0",
   "metadata": {},
   "source": [
    "## df_Product - Handling outliers and missing values"
   ]
  },
  {
   "cell_type": "code",
   "execution_count": 6,
   "id": "bdd4abca",
   "metadata": {},
   "outputs": [
    {
     "name": "stdout",
     "output_type": "stream",
     "text": [
      "Row ID           int64\n",
      "Product ID      object\n",
      "Category        object\n",
      "Sub-Category    object\n",
      "Product Name    object\n",
      "dtype: object\n"
     ]
    }
   ],
   "source": [
    "# Show data types of each column in df_Product\n",
    "print(df_Product.dtypes)"
   ]
  },
  {
   "cell_type": "code",
   "execution_count": 7,
   "id": "b5a5b6b7",
   "metadata": {},
   "outputs": [
    {
     "name": "stdout",
     "output_type": "stream",
     "text": [
      "Row ID          0\n",
      "Product ID      2\n",
      "Category        2\n",
      "Sub-Category    4\n",
      "Product Name    3\n",
      "dtype: int64\n"
     ]
    }
   ],
   "source": [
    "#Check updated missing value in df_Product\n",
    "df_Product_missing_values = df_Product.isnull().sum()\n",
    "print(df_Product_missing_values)"
   ]
  },
  {
   "cell_type": "markdown",
   "id": "34029dc1",
   "metadata": {},
   "source": [
    "### df_Product['Product ID '] outliers and missing values\n",
    "\n",
    "To fill in missing 'Product ID' values with correspond 'Product Name' values in the dataset"
   ]
  },
  {
   "cell_type": "code",
   "execution_count": 8,
   "id": "b632a544",
   "metadata": {},
   "outputs": [
    {
     "name": "stdout",
     "output_type": "stream",
     "text": [
      "['Laminate Occasional Tables' 'GBC ProClick Punch Binding System']\n"
     ]
    }
   ],
   "source": [
    "#Compare with specified 'Product ID' and 'Product Name' in other rows\n",
    "Product_missing_id= df_Product.loc[df_Product['Product ID'].isnull(), 'Product Name'].unique()\n",
    "print(Product_missing_id)"
   ]
  },
  {
   "cell_type": "code",
   "execution_count": 9,
   "id": "7ca19e10",
   "metadata": {},
   "outputs": [
    {
     "name": "stdout",
     "output_type": "stream",
     "text": [
      "           Product ID   Category Sub-Category                Product Name\n",
      "206               NaN  Furniture       Tables  Laminate Occasional Tables\n",
      "675   FUR-TA-10002774  Furniture       Tables  Laminate Occasional Tables\n",
      "1063  FUR-TA-10002774  Furniture       Tables  Laminate Occasional Tables\n"
     ]
    }
   ],
   "source": [
    "df_Product.sort_values(by=['Product Name'], inplace=True, ascending=False)\n",
    "product_laminate = df_Product[df_Product['Product Name'] == 'Laminate Occasional Tables'][[\n",
    "    'Product ID', 'Category','Sub-Category','Product Name']]\n",
    "print(product_laminate)"
   ]
  },
  {
   "cell_type": "code",
   "execution_count": 10,
   "id": "6a23e061",
   "metadata": {},
   "outputs": [],
   "source": [
    "#Fill in missing value in 'Product ID' with correspondence 'value with the same 'Product Name'\n",
    "\n",
    "df_Product.loc[206, 'Product ID'] = 'FUR-TA-10002774'"
   ]
  },
  {
   "cell_type": "code",
   "execution_count": 11,
   "id": "f18eea6a",
   "metadata": {},
   "outputs": [
    {
     "name": "stdout",
     "output_type": "stream",
     "text": [
      "           Product ID   Category Sub-Category                Product Name\n",
      "206   FUR-TA-10002774  Furniture       Tables  Laminate Occasional Tables\n",
      "675   FUR-TA-10002774  Furniture       Tables  Laminate Occasional Tables\n",
      "1063  FUR-TA-10002774  Furniture       Tables  Laminate Occasional Tables\n"
     ]
    }
   ],
   "source": [
    "df_Product.sort_values(by=['Product Name'], inplace=True, ascending=False)\n",
    "product_laminate = df_Product[df_Product['Product Name'] == 'Laminate Occasional Tables'][[\n",
    "    'Product ID', 'Category','Sub-Category','Product Name']]\n",
    "print(product_laminate)"
   ]
  },
  {
   "cell_type": "code",
   "execution_count": 12,
   "id": "bf026e9a",
   "metadata": {},
   "outputs": [
    {
     "name": "stdout",
     "output_type": "stream",
     "text": [
      "           Product ID         Category                       Product Name\n",
      "9445  OFF-BI-10001071  Office Supplies  GBC ProClick Punch Binding System\n",
      "9621  OFF-BI-10001071  Office Supplies  GBC ProClick Punch Binding System\n",
      "9622  OFF-BI-10001071  Office Supplies  GBC ProClick Punch Binding System\n",
      "8570  OFF-BI-10001071  Office Supplies  GBC ProClick Punch Binding System\n",
      "377   OFF-BI-10001071  Office Supplies  GBC ProClick Punch Binding System\n",
      "494               NaN  Office Supplies  GBC ProClick Punch Binding System\n",
      "7854  OFF-BI-10001071  Office Supplies  GBC ProClick Punch Binding System\n"
     ]
    }
   ],
   "source": [
    "df_Product.sort_values(by=['Product Name'], inplace=True, ascending=False)\n",
    "product_gbc = df_Product[df_Product['Product Name'] == 'GBC ProClick Punch Binding System'][[\n",
    "    'Product ID', 'Category','Product Name']]\n",
    "print(product_gbc)"
   ]
  },
  {
   "cell_type": "code",
   "execution_count": 13,
   "id": "584724a8",
   "metadata": {},
   "outputs": [],
   "source": [
    "#Fill in missing value in 'Product ID' with correspondence 'value with the same 'Product Name'\n",
    "\n",
    "df_Product.loc[494, 'Product ID'] = 'OFF-BI-10001071'"
   ]
  },
  {
   "cell_type": "code",
   "execution_count": 14,
   "id": "8d7bf94d",
   "metadata": {},
   "outputs": [
    {
     "name": "stdout",
     "output_type": "stream",
     "text": [
      "           Product ID         Category                       Product Name\n",
      "9445  OFF-BI-10001071  Office Supplies  GBC ProClick Punch Binding System\n",
      "9621  OFF-BI-10001071  Office Supplies  GBC ProClick Punch Binding System\n",
      "9622  OFF-BI-10001071  Office Supplies  GBC ProClick Punch Binding System\n",
      "8570  OFF-BI-10001071  Office Supplies  GBC ProClick Punch Binding System\n",
      "377   OFF-BI-10001071  Office Supplies  GBC ProClick Punch Binding System\n",
      "494   OFF-BI-10001071  Office Supplies  GBC ProClick Punch Binding System\n",
      "7854  OFF-BI-10001071  Office Supplies  GBC ProClick Punch Binding System\n"
     ]
    }
   ],
   "source": [
    "df_Product.sort_values(by=['Product Name'], inplace=True, ascending=False)\n",
    "product_gbc = df_Product[df_Product['Product Name'] == 'GBC ProClick Punch Binding System'][[\n",
    "    'Product ID', 'Category','Product Name']]\n",
    "print(product_gbc)"
   ]
  },
  {
   "cell_type": "markdown",
   "id": "eef45f06",
   "metadata": {},
   "source": [
    "### df_Product['Category', 'Sub-Category', 'Product Name'] outliers and missing values\n",
    "\n",
    "To fill in missing 'Category', 'Sub-Category', 'Product Name' values with correspond 'Product ID' values in the dataset"
   ]
  },
  {
   "cell_type": "code",
   "execution_count": 15,
   "id": "dcc72ac3",
   "metadata": {},
   "outputs": [],
   "source": [
    "Product_columns_to_update = ['Category', 'Sub-Category', 'Product Name']\n",
    "\n",
    "for column in Product_columns_to_update:\n",
    "    Product_ids_missing_values = df_Product.loc[df_Product[column].isnull(), 'Product ID'].unique()      \n",
    "    for Product_id in Product_ids_missing_values:\n",
    "        \n",
    "        # Check if there's at least one not-null value for this Product ID in the current column\n",
    "        if not df_Product[df_Product['Product ID'] == Product_id][column].dropna().empty:\n",
    "            \n",
    "            # Get the first not-null value \n",
    "            value_to_fill = df_Product.loc[df_Product['Product ID'] == Product_id, column].dropna().iloc[0]\n",
    "            \n",
    "            # Fill in missing values for Product ID in the current column\n",
    "            df_Product.loc[df_Product['Product ID'] == Product_id, column] = value_to_fill"
   ]
  },
  {
   "cell_type": "code",
   "execution_count": 16,
   "id": "b1ddc2b7",
   "metadata": {},
   "outputs": [
    {
     "name": "stdout",
     "output_type": "stream",
     "text": [
      "Row ID          0\n",
      "Product ID      0\n",
      "Category        0\n",
      "Sub-Category    1\n",
      "Product Name    0\n",
      "dtype: int64\n"
     ]
    }
   ],
   "source": [
    "#Check updated missing value in df_Product\n",
    "df_Product_missing_values = df_Product.isnull().sum()\n",
    "print(df_Product_missing_values)"
   ]
  },
  {
   "cell_type": "markdown",
   "id": "34dbb042",
   "metadata": {},
   "source": [
    "<span style=\"color: blue;\"> Will investigate why it didn't work for one of  'Sub-Category' column. </span>"
   ]
  },
  {
   "cell_type": "markdown",
   "id": "10240ca3",
   "metadata": {},
   "source": [
    "### df_Product['Sub-Category'] outliers and missing values\n",
    "To fill in missing 'Category', 'Sub-Category', 'Product Name' values with correspond values in the dataset"
   ]
  },
  {
   "cell_type": "code",
   "execution_count": 17,
   "id": "77236a70",
   "metadata": {},
   "outputs": [
    {
     "name": "stdout",
     "output_type": "stream",
     "text": [
      "['TEC-MA-10003337']\n"
     ]
    }
   ],
   "source": [
    "#Compare with specified 'Product ID' and 'Sub-Category' in other rows\n",
    "Product_missing_sub= df_Product.loc[df_Product['Sub-Category'].isnull(), 'Product ID'].unique()\n",
    "print(Product_missing_sub)"
   ]
  },
  {
   "cell_type": "code",
   "execution_count": 18,
   "id": "5392f38b",
   "metadata": {},
   "outputs": [
    {
     "name": "stdout",
     "output_type": "stream",
     "text": [
      "          Product ID    Category Sub-Category          Product Name\n",
      "124  TEC-MA-10003337  Technology          NaN  Okidata B401 Printer\n"
     ]
    }
   ],
   "source": [
    "df_Product.sort_values(by=['Product ID'], inplace=True, ascending=False)\n",
    "product_10003337 = df_Product[df_Product['Product ID'] == 'TEC-MA-10003337'][[\n",
    "    'Product ID', 'Category','Sub-Category', 'Product Name']]\n",
    "print(product_10003337)"
   ]
  },
  {
   "cell_type": "markdown",
   "id": "96088678",
   "metadata": {},
   "source": [
    "<span style=\"color: blue;\">It appears that there is only one data entry for the 'Product ID' TEC-MA-10003337.</span>\n",
    "\n",
    "<span style=\"color: blue;\">As a result, there are no additional records for this 'Product ID' to compare with.</span>"
   ]
  },
  {
   "cell_type": "code",
   "execution_count": 19,
   "id": "271da485",
   "metadata": {},
   "outputs": [],
   "source": [
    "# Fill in the 'Sub-Categoty' manually\n",
    "\n",
    "df_Product.loc[124, 'Sub-Category'] = 'Printers'"
   ]
  },
  {
   "cell_type": "code",
   "execution_count": 20,
   "id": "2bc9e4b3",
   "metadata": {
    "scrolled": true
   },
   "outputs": [
    {
     "name": "stdout",
     "output_type": "stream",
     "text": [
      "          Product ID    Category Sub-Category          Product Name\n",
      "124  TEC-MA-10003337  Technology     Printers  Okidata B401 Printer\n"
     ]
    }
   ],
   "source": [
    "df_Product.sort_values(by=['Product ID'], inplace=True, ascending=False)\n",
    "product_10003337 = df_Product[df_Product['Product ID'] == 'TEC-MA-10003337'][[\n",
    "    'Product ID', 'Category','Sub-Category', 'Product Name']]\n",
    "print(product_10003337)"
   ]
  },
  {
   "cell_type": "code",
   "execution_count": 21,
   "id": "ec26e677",
   "metadata": {},
   "outputs": [
    {
     "name": "stdout",
     "output_type": "stream",
     "text": [
      "Row ID          0\n",
      "Product ID      0\n",
      "Category        0\n",
      "Sub-Category    0\n",
      "Product Name    0\n",
      "dtype: int64\n"
     ]
    }
   ],
   "source": [
    "#Check updated missing value in df_Product\n",
    "df_Product_missing_values = df_Product.isnull().sum()\n",
    "print(df_Product_missing_values)"
   ]
  },
  {
   "cell_type": "markdown",
   "id": "665a0461",
   "metadata": {},
   "source": [
    "<span style=\"color: blue;\"> All columns within the 'df_Product' group dataset now have no missing values.</span>"
   ]
  },
  {
   "cell_type": "code",
   "execution_count": null,
   "id": "09455e99",
   "metadata": {},
   "outputs": [],
   "source": []
  },
  {
   "cell_type": "markdown",
   "id": "70222612",
   "metadata": {},
   "source": [
    "# 2. df_Sales group - contains various numerical datas."
   ]
  },
  {
   "cell_type": "markdown",
   "id": "5671b35b",
   "metadata": {},
   "source": [
    "To calculate the profit we need to use the following formula: Profit = (Sales - (Cost Price * Quantity)) * (1 - Discount)\n",
    "\n",
    "The provided data includes 'Sales,' 'Quantity,' 'Discount,' and 'Profit,' but it doesn't contain information about the cost price. "
   ]
  },
  {
   "cell_type": "code",
   "execution_count": 22,
   "id": "b3b7ce73",
   "metadata": {},
   "outputs": [
    {
     "data": {
      "text/html": [
       "<div>\n",
       "<style scoped>\n",
       "    .dataframe tbody tr th:only-of-type {\n",
       "        vertical-align: middle;\n",
       "    }\n",
       "\n",
       "    .dataframe tbody tr th {\n",
       "        vertical-align: top;\n",
       "    }\n",
       "\n",
       "    .dataframe thead th {\n",
       "        text-align: right;\n",
       "    }\n",
       "</style>\n",
       "<table border=\"1\" class=\"dataframe\">\n",
       "  <thead>\n",
       "    <tr style=\"text-align: right;\">\n",
       "      <th></th>\n",
       "      <th>Row ID</th>\n",
       "      <th>Order ID</th>\n",
       "      <th>Product ID</th>\n",
       "      <th>Sales</th>\n",
       "      <th>Quantity</th>\n",
       "      <th>Discount</th>\n",
       "      <th>Profit</th>\n",
       "    </tr>\n",
       "  </thead>\n",
       "  <tbody>\n",
       "    <tr>\n",
       "      <th>9103</th>\n",
       "      <td>7100</td>\n",
       "      <td>CA-2015-124933</td>\n",
       "      <td>OFF-PA-10003302</td>\n",
       "      <td>212.64</td>\n",
       "      <td>6</td>\n",
       "      <td>0.0</td>\n",
       "      <td>99.9408</td>\n",
       "    </tr>\n",
       "    <tr>\n",
       "      <th>9102</th>\n",
       "      <td>4731</td>\n",
       "      <td>US-2015-103996</td>\n",
       "      <td>OFF-PA-10001736</td>\n",
       "      <td>212.64</td>\n",
       "      <td>6</td>\n",
       "      <td>0.0</td>\n",
       "      <td>99.9408</td>\n",
       "    </tr>\n",
       "    <tr>\n",
       "      <th>9101</th>\n",
       "      <td>6921</td>\n",
       "      <td>CA-2017-121706</td>\n",
       "      <td>OFF-AP-10003287</td>\n",
       "      <td>356.79</td>\n",
       "      <td>7</td>\n",
       "      <td>0.0</td>\n",
       "      <td>99.9012</td>\n",
       "    </tr>\n",
       "    <tr>\n",
       "      <th>9100</th>\n",
       "      <td>803</td>\n",
       "      <td>CA-2016-136133</td>\n",
       "      <td>OFF-AP-10000576</td>\n",
       "      <td>355.32</td>\n",
       "      <td>9</td>\n",
       "      <td>0.0</td>\n",
       "      <td>99.4896</td>\n",
       "    </tr>\n",
       "    <tr>\n",
       "      <th>9099</th>\n",
       "      <td>6709</td>\n",
       "      <td>CA-2015-123141</td>\n",
       "      <td>FUR-CH-10004287</td>\n",
       "      <td>883.84</td>\n",
       "      <td>4</td>\n",
       "      <td>0.2</td>\n",
       "      <td>99.432</td>\n",
       "    </tr>\n",
       "    <tr>\n",
       "      <th>9098</th>\n",
       "      <td>2660</td>\n",
       "      <td>CA-2015-135538</td>\n",
       "      <td>FUR-CH-10004287</td>\n",
       "      <td>883.84</td>\n",
       "      <td>4</td>\n",
       "      <td>0.2</td>\n",
       "      <td>99.432</td>\n",
       "    </tr>\n",
       "    <tr>\n",
       "      <th>9097</th>\n",
       "      <td>6711</td>\n",
       "      <td>CA-2016-149503</td>\n",
       "      <td>OFF-BI-10002133</td>\n",
       "      <td>273.92</td>\n",
       "      <td>8</td>\n",
       "      <td>0.2</td>\n",
       "      <td>99.296</td>\n",
       "    </tr>\n",
       "    <tr>\n",
       "      <th>9095</th>\n",
       "      <td>1621</td>\n",
       "      <td>CA-2017-108560</td>\n",
       "      <td>FUR-FU-10002937</td>\n",
       "      <td>198.46</td>\n",
       "      <td>2</td>\n",
       "      <td>0.0</td>\n",
       "      <td>99.23</td>\n",
       "    </tr>\n",
       "    <tr>\n",
       "      <th>9096</th>\n",
       "      <td>3748</td>\n",
       "      <td>CA-2017-161956</td>\n",
       "      <td>FUR-FU-10002937</td>\n",
       "      <td>198.46</td>\n",
       "      <td>2</td>\n",
       "      <td>0.0</td>\n",
       "      <td>99.23</td>\n",
       "    </tr>\n",
       "    <tr>\n",
       "      <th>9094</th>\n",
       "      <td>7705</td>\n",
       "      <td>CA-2016-114601</td>\n",
       "      <td>FUR-TA-10004147</td>\n",
       "      <td>447.84</td>\n",
       "      <td>4</td>\n",
       "      <td>0.0</td>\n",
       "      <td>98.5248</td>\n",
       "    </tr>\n",
       "  </tbody>\n",
       "</table>\n",
       "</div>"
      ],
      "text/plain": [
       "      Row ID        Order ID       Product ID   Sales Quantity  Discount  \\\n",
       "9103    7100  CA-2015-124933  OFF-PA-10003302  212.64        6       0.0   \n",
       "9102    4731  US-2015-103996  OFF-PA-10001736  212.64        6       0.0   \n",
       "9101    6921  CA-2017-121706  OFF-AP-10003287  356.79        7       0.0   \n",
       "9100     803  CA-2016-136133  OFF-AP-10000576  355.32        9       0.0   \n",
       "9099    6709  CA-2015-123141  FUR-CH-10004287  883.84        4       0.2   \n",
       "9098    2660  CA-2015-135538  FUR-CH-10004287  883.84        4       0.2   \n",
       "9097    6711  CA-2016-149503  OFF-BI-10002133  273.92        8       0.2   \n",
       "9095    1621  CA-2017-108560  FUR-FU-10002937  198.46        2       0.0   \n",
       "9096    3748  CA-2017-161956  FUR-FU-10002937  198.46        2       0.0   \n",
       "9094    7705  CA-2016-114601  FUR-TA-10004147  447.84        4       0.0   \n",
       "\n",
       "       Profit  \n",
       "9103  99.9408  \n",
       "9102  99.9408  \n",
       "9101  99.9012  \n",
       "9100  99.4896  \n",
       "9099   99.432  \n",
       "9098   99.432  \n",
       "9097   99.296  \n",
       "9095    99.23  \n",
       "9096    99.23  \n",
       "9094  98.5248  "
      ]
     },
     "execution_count": 22,
     "metadata": {},
     "output_type": "execute_result"
    }
   ],
   "source": [
    "df_Sales.sort_values(by=['Profit'], inplace=True, ascending=False)\n",
    "df_Sales.head(10)"
   ]
  },
  {
   "cell_type": "code",
   "execution_count": 23,
   "id": "a6e95118",
   "metadata": {},
   "outputs": [
    {
     "name": "stdout",
     "output_type": "stream",
     "text": [
      "Row ID          int64\n",
      "Order ID       object\n",
      "Product ID     object\n",
      "Sales         float64\n",
      "Quantity       object\n",
      "Discount      float64\n",
      "Profit         object\n",
      "dtype: object\n"
     ]
    }
   ],
   "source": [
    "# Show data types of each column in df_Sales\n",
    "print(df_Sales.dtypes)"
   ]
  },
  {
   "cell_type": "markdown",
   "id": "781b690c",
   "metadata": {},
   "source": [
    "<span style=\"color: blue;\">The columns 'Quantity' and 'Profit' in 'df_Sales' should be of numerical data types, rather than string.</span>\n",
    "\n",
    "<span style=\"color: blue;\">After addressing outliers and missing values, we will convert their types appropriately.</span>"
   ]
  },
  {
   "cell_type": "markdown",
   "id": "b52ffe5d",
   "metadata": {},
   "source": [
    "## df_Sales - Handling outliers and missing values"
   ]
  },
  {
   "cell_type": "code",
   "execution_count": 24,
   "id": "0cc0befa",
   "metadata": {},
   "outputs": [
    {
     "name": "stdout",
     "output_type": "stream",
     "text": [
      "Row ID         0\n",
      "Order ID       1\n",
      "Product ID     2\n",
      "Sales          1\n",
      "Quantity       5\n",
      "Discount       3\n",
      "Profit        11\n",
      "dtype: int64\n"
     ]
    }
   ],
   "source": [
    "#Check updated missing value in df_Sales\n",
    "df_Sales_missing_values = df_Sales.isnull().sum()\n",
    "print(df_Sales_missing_values)"
   ]
  },
  {
   "cell_type": "markdown",
   "id": "a9e1fccb",
   "metadata": {},
   "source": [
    "<span style=\"color: blue;\"> Because there are only small number of missing values, I will do imputation by comparing them with corresponding values, rather than using methods like filling with the mean or mode.</span>"
   ]
  },
  {
   "cell_type": "code",
   "execution_count": 25,
   "id": "c983f81b",
   "metadata": {},
   "outputs": [
    {
     "name": "stdout",
     "output_type": "stream",
     "text": [
      "['FUR-TA-10004442']\n"
     ]
    }
   ],
   "source": [
    "#Compare with specified 'Product ID' and 'Sales' in other rows\n",
    "Sales_missing_Sales= df_Sales.loc[df_Sales['Sales'].isnull(), 'Product ID'].unique()\n",
    "print(Sales_missing_Sales)"
   ]
  },
  {
   "cell_type": "code",
   "execution_count": 26,
   "id": "3bc33882",
   "metadata": {},
   "outputs": [
    {
     "name": "stdout",
     "output_type": "stream",
     "text": [
      "          Product ID   Sales Quantity  Discount    Profit\n",
      "239  FUR-TA-10004442  401.59        2       0.3  -131.951\n",
      "166  FUR-TA-10004442  344.22        2       0.4  -189.321\n",
      "330  FUR-TA-10004442     NaN        1       0.4  -94.6605\n"
     ]
    }
   ],
   "source": [
    "df_Sales.sort_values(by=['Sales'], inplace=True, ascending=False)\n",
    "product_10004442 = df_Sales[df_Sales['Product ID'] == 'FUR-TA-10004442'][[\n",
    "    'Product ID', 'Sales', 'Quantity', 'Discount', 'Profit']]\n",
    "print(product_10004442)"
   ]
  },
  {
   "cell_type": "markdown",
   "id": "f7343a56",
   "metadata": {},
   "source": [
    "<span style=\"color: blue;\"> By dividing each value in row 166 by 2, we can fill in 172.11 value for 'Sales' in row 330</span>"
   ]
  },
  {
   "cell_type": "code",
   "execution_count": 27,
   "id": "8999aefe",
   "metadata": {},
   "outputs": [
    {
     "data": {
      "text/html": [
       "<div>\n",
       "<style scoped>\n",
       "    .dataframe tbody tr th:only-of-type {\n",
       "        vertical-align: middle;\n",
       "    }\n",
       "\n",
       "    .dataframe tbody tr th {\n",
       "        vertical-align: top;\n",
       "    }\n",
       "\n",
       "    .dataframe thead th {\n",
       "        text-align: right;\n",
       "    }\n",
       "</style>\n",
       "<table border=\"1\" class=\"dataframe\">\n",
       "  <thead>\n",
       "    <tr style=\"text-align: right;\">\n",
       "      <th></th>\n",
       "      <th>Product ID</th>\n",
       "      <th>Sales</th>\n",
       "      <th>Quantity</th>\n",
       "      <th>Discount</th>\n",
       "      <th>Profit</th>\n",
       "    </tr>\n",
       "  </thead>\n",
       "  <tbody>\n",
       "    <tr>\n",
       "      <th>239</th>\n",
       "      <td>FUR-TA-10004442</td>\n",
       "      <td>401.59</td>\n",
       "      <td>2</td>\n",
       "      <td>0.3</td>\n",
       "      <td>-131.951</td>\n",
       "    </tr>\n",
       "    <tr>\n",
       "      <th>166</th>\n",
       "      <td>FUR-TA-10004442</td>\n",
       "      <td>344.22</td>\n",
       "      <td>2</td>\n",
       "      <td>0.4</td>\n",
       "      <td>-189.321</td>\n",
       "    </tr>\n",
       "    <tr>\n",
       "      <th>330</th>\n",
       "      <td>FUR-TA-10004442</td>\n",
       "      <td>172.11</td>\n",
       "      <td>1</td>\n",
       "      <td>0.4</td>\n",
       "      <td>-94.6605</td>\n",
       "    </tr>\n",
       "  </tbody>\n",
       "</table>\n",
       "</div>"
      ],
      "text/plain": [
       "          Product ID   Sales Quantity  Discount    Profit\n",
       "239  FUR-TA-10004442  401.59        2       0.3  -131.951\n",
       "166  FUR-TA-10004442  344.22        2       0.4  -189.321\n",
       "330  FUR-TA-10004442  172.11        1       0.4  -94.6605"
      ]
     },
     "execution_count": 27,
     "metadata": {},
     "output_type": "execute_result"
    }
   ],
   "source": [
    "df_Sales.loc[330, 'Sales'] = 172.11\n",
    "df_Sales.loc[[239,166,330], ['Product ID', 'Sales', 'Quantity', 'Discount', 'Profit']]"
   ]
  },
  {
   "cell_type": "markdown",
   "id": "42f53ec9",
   "metadata": {},
   "source": [
    "### df_Sales['Quantity'] outliers and missing values"
   ]
  },
  {
   "cell_type": "code",
   "execution_count": 28,
   "id": "34b5008b",
   "metadata": {},
   "outputs": [
    {
     "name": "stdout",
     "output_type": "stream",
     "text": [
      "\n",
      "Unique Quantity: ['6' '5' '4' '3' '13' '7' '8' '9' '2' '10' '12' '11' '14' nan '1']\n"
     ]
    }
   ],
   "source": [
    "#Replace Outliers in df_Sales['Quantity'], except nan\n",
    "df_Sales['Quantity'].replace({'Two': '2', 'Thirteen': '13','Seven': '7','ten': '10','7?': '7'}, inplace=True)\n",
    "\n",
    "#Check if they are already replaced\n",
    "unique_quantity = df_Sales['Quantity'].unique()\n",
    "print(\"\\nUnique Quantity:\", unique_quantity)"
   ]
  },
  {
   "cell_type": "code",
   "execution_count": 29,
   "id": "f4332522",
   "metadata": {},
   "outputs": [
    {
     "name": "stdout",
     "output_type": "stream",
     "text": [
      "          Product ID     Sales Quantity  Discount    Profit\n",
      "28   OFF-BI-10000545  1369.764      NaN      0.70  -913.176\n",
      "365  OFF-ST-10002574   331.536      NaN      0.20   -82.884\n",
      "930  FUR-BO-10001337   308.499      NaN      0.15   -18.147\n",
      "787  TEC-PH-10002890   108.576      NaN      0.40  -25.3344\n",
      "712  FUR-FU-10001756    38.080      NaN      0.60   -29.512\n"
     ]
    }
   ],
   "source": [
    "# Filter rows with NaN in the 'Quantity' column and display relevant columns\n",
    "rows_with_nan_quantity = df_Sales[df_Sales['Quantity'].isna()][['Product ID', 'Sales', 'Quantity', 'Discount', 'Profit']]\n",
    "print(rows_with_nan_quantity)"
   ]
  },
  {
   "cell_type": "code",
   "execution_count": 30,
   "id": "6e48015c",
   "metadata": {},
   "outputs": [
    {
     "name": "stdout",
     "output_type": "stream",
     "text": [
      "['OFF-BI-10000545' 'OFF-ST-10002574' 'FUR-BO-10001337' 'TEC-PH-10002890'\n",
      " 'FUR-FU-10001756']\n"
     ]
    }
   ],
   "source": [
    "#Compare with specified 'Product ID' and 'Quantity' in other rows\n",
    "product_missing_qty = df_Sales.loc[df_Sales['Quantity'].isnull(), 'Product ID'].unique()\n",
    "print(product_missing_qty)"
   ]
  },
  {
   "cell_type": "code",
   "execution_count": 31,
   "id": "a1641fa1",
   "metadata": {},
   "outputs": [
    {
     "name": "stdout",
     "output_type": "stream",
     "text": [
      "           Product ID     Sales Quantity  Discount     Profit\n",
      "9990  OFF-BI-10000545  9892.740       13      0.00    4946.37\n",
      "18    OFF-BI-10000545  1598.058        7      0.70  -1065.372\n",
      "27    OFF-BI-10000545  1369.764        6      0.70   -913.176\n",
      "28    OFF-BI-10000545  1369.764      NaN      0.70   -913.176\n",
      "9864  OFF-BI-10000545  1217.568        2      0.20    456.588\n",
      "33    OFF-BI-10000545  1141.470        5      0.70    -760.98\n",
      "1896  OFF-ST-10002574   828.840        6      0.00          0\n",
      "17    OFF-BI-10000545   760.980        5      0.80   -1141.47\n",
      "197   OFF-ST-10002574   663.072        6      0.20   -165.768\n",
      "622   FUR-BO-10001337   616.998        6      0.15    -36.294\n",
      "1875  OFF-ST-10002574   552.560        4      0.00          0\n",
      "232   OFF-ST-10002574   552.560        5      0.20    -138.14\n",
      "702   FUR-BO-10001337   514.165        5      0.15    -30.245\n",
      "104   OFF-BI-10000545   456.588        2      0.70   -304.392\n",
      "7823  FUR-BO-10001337   362.940        3      0.00     36.294\n",
      "366   OFF-ST-10002574   331.536        3      0.20    -82.884\n",
      "365   OFF-ST-10002574   331.536      NaN      0.20    -82.884\n",
      "930   FUR-BO-10001337   308.499      NaN      0.15    -18.147\n",
      "623   FUR-BO-10001337   290.352        3      0.20    -36.294\n",
      "1895  OFF-ST-10002574   276.280        2      0.00          0\n",
      "7174  FUR-BO-10001337   241.960        2      0.00     24.196\n",
      "8506  TEC-PH-10002890   226.200        5      0.00     58.812\n",
      "487   OFF-ST-10002574   221.024        2      0.20    -55.256\n",
      "1142  FUR-BO-10001337   205.666        2      0.15    -12.098\n",
      "6002  TEC-PH-10002890   180.960        5      0.20     13.572\n",
      "7777  TEC-PH-10002890   135.720        3      0.00    35.2872\n",
      "5775  FUR-BO-10001337   120.980        1      0.00     12.098\n",
      "787   TEC-PH-10002890   108.576      NaN      0.40   -25.3344\n",
      "4882  TEC-PH-10002890   108.576        3      0.20     8.1432\n",
      "1420  FUR-BO-10001337   102.833        1      0.15     -6.049\n",
      "7380  FUR-FU-10001756    95.200        5      0.00     27.608\n",
      "7126  TEC-PH-10002890    90.480        2      0.00    23.5248\n",
      "3884  FUR-FU-10001756    45.696        3      0.20     5.1408\n",
      "712   FUR-FU-10001756    38.080      NaN      0.60    -29.512\n",
      "2894  TEC-PH-10002890    36.192        1      0.20     2.7144\n",
      "947   FUR-FU-10001756    22.848        3      0.60   -17.7072\n",
      "2490  FUR-FU-10001756    15.232        1      0.20     1.7136\n"
     ]
    }
   ],
   "source": [
    "#Comparing with correspondence Product ID with similar Sales\n",
    "\n",
    "unique_qty_info = df_Sales[df_Sales['Product ID'].isin(product_missing_qty)][[\n",
    "    'Product ID', 'Sales', 'Quantity', 'Discount', 'Profit']].drop_duplicates()\n",
    "print(unique_qty_info)"
   ]
  },
  {
   "cell_type": "markdown",
   "id": "c02e0006",
   "metadata": {},
   "source": [
    "####  Imputation with Corresponding Values\n",
    "\n",
    "To fill in missing 'Quantity' values with correspond values in the dataset"
   ]
  },
  {
   "cell_type": "code",
   "execution_count": 32,
   "id": "1936f932",
   "metadata": {},
   "outputs": [
    {
     "data": {
      "text/html": [
       "<div>\n",
       "<style scoped>\n",
       "    .dataframe tbody tr th:only-of-type {\n",
       "        vertical-align: middle;\n",
       "    }\n",
       "\n",
       "    .dataframe tbody tr th {\n",
       "        vertical-align: top;\n",
       "    }\n",
       "\n",
       "    .dataframe thead th {\n",
       "        text-align: right;\n",
       "    }\n",
       "</style>\n",
       "<table border=\"1\" class=\"dataframe\">\n",
       "  <thead>\n",
       "    <tr style=\"text-align: right;\">\n",
       "      <th></th>\n",
       "      <th>Product ID</th>\n",
       "      <th>Sales</th>\n",
       "      <th>Quantity</th>\n",
       "      <th>Discount</th>\n",
       "      <th>Profit</th>\n",
       "    </tr>\n",
       "  </thead>\n",
       "  <tbody>\n",
       "    <tr>\n",
       "      <th>27</th>\n",
       "      <td>OFF-BI-10000545</td>\n",
       "      <td>1369.764</td>\n",
       "      <td>6</td>\n",
       "      <td>0.70</td>\n",
       "      <td>-913.176</td>\n",
       "    </tr>\n",
       "    <tr>\n",
       "      <th>28</th>\n",
       "      <td>OFF-BI-10000545</td>\n",
       "      <td>1369.764</td>\n",
       "      <td>NaN</td>\n",
       "      <td>0.70</td>\n",
       "      <td>-913.176</td>\n",
       "    </tr>\n",
       "    <tr>\n",
       "      <th>366</th>\n",
       "      <td>OFF-ST-10002574</td>\n",
       "      <td>331.536</td>\n",
       "      <td>3</td>\n",
       "      <td>0.20</td>\n",
       "      <td>-82.884</td>\n",
       "    </tr>\n",
       "    <tr>\n",
       "      <th>365</th>\n",
       "      <td>OFF-ST-10002574</td>\n",
       "      <td>331.536</td>\n",
       "      <td>NaN</td>\n",
       "      <td>0.20</td>\n",
       "      <td>-82.884</td>\n",
       "    </tr>\n",
       "    <tr>\n",
       "      <th>787</th>\n",
       "      <td>TEC-PH-10002890</td>\n",
       "      <td>108.576</td>\n",
       "      <td>NaN</td>\n",
       "      <td>0.40</td>\n",
       "      <td>-25.3344</td>\n",
       "    </tr>\n",
       "    <tr>\n",
       "      <th>4882</th>\n",
       "      <td>TEC-PH-10002890</td>\n",
       "      <td>108.576</td>\n",
       "      <td>3</td>\n",
       "      <td>0.20</td>\n",
       "      <td>8.1432</td>\n",
       "    </tr>\n",
       "    <tr>\n",
       "      <th>930</th>\n",
       "      <td>FUR-BO-10001337</td>\n",
       "      <td>308.499</td>\n",
       "      <td>NaN</td>\n",
       "      <td>0.15</td>\n",
       "      <td>-18.147</td>\n",
       "    </tr>\n",
       "    <tr>\n",
       "      <th>712</th>\n",
       "      <td>FUR-FU-10001756</td>\n",
       "      <td>38.080</td>\n",
       "      <td>NaN</td>\n",
       "      <td>0.60</td>\n",
       "      <td>-29.512</td>\n",
       "    </tr>\n",
       "  </tbody>\n",
       "</table>\n",
       "</div>"
      ],
      "text/plain": [
       "           Product ID     Sales Quantity  Discount    Profit\n",
       "27    OFF-BI-10000545  1369.764        6      0.70  -913.176\n",
       "28    OFF-BI-10000545  1369.764      NaN      0.70  -913.176\n",
       "366   OFF-ST-10002574   331.536        3      0.20   -82.884\n",
       "365   OFF-ST-10002574   331.536      NaN      0.20   -82.884\n",
       "787   TEC-PH-10002890   108.576      NaN      0.40  -25.3344\n",
       "4882  TEC-PH-10002890   108.576        3      0.20    8.1432\n",
       "930   FUR-BO-10001337   308.499      NaN      0.15   -18.147\n",
       "712   FUR-FU-10001756    38.080      NaN      0.60   -29.512"
      ]
     },
     "execution_count": 32,
     "metadata": {},
     "output_type": "execute_result"
    }
   ],
   "source": [
    "df_Sales.loc[[27, 28, 366,365, 787, 4882,930,712], ['Product ID', 'Sales', 'Quantity', 'Discount', 'Profit']]"
   ]
  },
  {
   "cell_type": "code",
   "execution_count": 33,
   "id": "56976139",
   "metadata": {},
   "outputs": [
    {
     "data": {
      "text/html": [
       "<div>\n",
       "<style scoped>\n",
       "    .dataframe tbody tr th:only-of-type {\n",
       "        vertical-align: middle;\n",
       "    }\n",
       "\n",
       "    .dataframe tbody tr th {\n",
       "        vertical-align: top;\n",
       "    }\n",
       "\n",
       "    .dataframe thead th {\n",
       "        text-align: right;\n",
       "    }\n",
       "</style>\n",
       "<table border=\"1\" class=\"dataframe\">\n",
       "  <thead>\n",
       "    <tr style=\"text-align: right;\">\n",
       "      <th></th>\n",
       "      <th>Product ID</th>\n",
       "      <th>Sales</th>\n",
       "      <th>Quantity</th>\n",
       "      <th>Discount</th>\n",
       "      <th>Profit</th>\n",
       "    </tr>\n",
       "  </thead>\n",
       "  <tbody>\n",
       "    <tr>\n",
       "      <th>27</th>\n",
       "      <td>OFF-BI-10000545</td>\n",
       "      <td>1369.764</td>\n",
       "      <td>6</td>\n",
       "      <td>0.70</td>\n",
       "      <td>-913.176</td>\n",
       "    </tr>\n",
       "    <tr>\n",
       "      <th>28</th>\n",
       "      <td>OFF-BI-10000545</td>\n",
       "      <td>1369.764</td>\n",
       "      <td>6</td>\n",
       "      <td>0.70</td>\n",
       "      <td>-913.176</td>\n",
       "    </tr>\n",
       "    <tr>\n",
       "      <th>366</th>\n",
       "      <td>OFF-ST-10002574</td>\n",
       "      <td>331.536</td>\n",
       "      <td>3</td>\n",
       "      <td>0.20</td>\n",
       "      <td>-82.884</td>\n",
       "    </tr>\n",
       "    <tr>\n",
       "      <th>365</th>\n",
       "      <td>OFF-ST-10002574</td>\n",
       "      <td>331.536</td>\n",
       "      <td>3</td>\n",
       "      <td>0.20</td>\n",
       "      <td>-82.884</td>\n",
       "    </tr>\n",
       "    <tr>\n",
       "      <th>787</th>\n",
       "      <td>TEC-PH-10002890</td>\n",
       "      <td>108.576</td>\n",
       "      <td>3</td>\n",
       "      <td>0.40</td>\n",
       "      <td>-25.3344</td>\n",
       "    </tr>\n",
       "    <tr>\n",
       "      <th>4882</th>\n",
       "      <td>TEC-PH-10002890</td>\n",
       "      <td>108.576</td>\n",
       "      <td>3</td>\n",
       "      <td>0.20</td>\n",
       "      <td>8.1432</td>\n",
       "    </tr>\n",
       "    <tr>\n",
       "      <th>930</th>\n",
       "      <td>FUR-BO-10001337</td>\n",
       "      <td>308.499</td>\n",
       "      <td>3</td>\n",
       "      <td>0.15</td>\n",
       "      <td>-18.147</td>\n",
       "    </tr>\n",
       "    <tr>\n",
       "      <th>712</th>\n",
       "      <td>FUR-FU-10001756</td>\n",
       "      <td>38.080</td>\n",
       "      <td>4</td>\n",
       "      <td>0.60</td>\n",
       "      <td>-29.512</td>\n",
       "    </tr>\n",
       "  </tbody>\n",
       "</table>\n",
       "</div>"
      ],
      "text/plain": [
       "           Product ID     Sales Quantity  Discount    Profit\n",
       "27    OFF-BI-10000545  1369.764        6      0.70  -913.176\n",
       "28    OFF-BI-10000545  1369.764        6      0.70  -913.176\n",
       "366   OFF-ST-10002574   331.536        3      0.20   -82.884\n",
       "365   OFF-ST-10002574   331.536        3      0.20   -82.884\n",
       "787   TEC-PH-10002890   108.576        3      0.40  -25.3344\n",
       "4882  TEC-PH-10002890   108.576        3      0.20    8.1432\n",
       "930   FUR-BO-10001337   308.499        3      0.15   -18.147\n",
       "712   FUR-FU-10001756    38.080        4      0.60   -29.512"
      ]
     },
     "execution_count": 33,
     "metadata": {},
     "output_type": "execute_result"
    }
   ],
   "source": [
    "#Replace value in 'Quantity'with correspondence 'Product ID' with similar 'Sales'\n",
    "\n",
    "df_Sales.loc[28, 'Quantity'] = '6'\n",
    "df_Sales.loc[365, 'Quantity'] = '3'\n",
    "df_Sales.loc[787, 'Quantity'] = '3'\n",
    "df_Sales.loc[930, 'Quantity'] = '3'\n",
    "df_Sales.loc[712, 'Quantity'] = '4'\n",
    "df_Sales.loc[[27, 28, 366,365, 787, 4882,930,712], ['Product ID', 'Sales', 'Quantity', 'Discount', 'Profit']]"
   ]
  },
  {
   "cell_type": "markdown",
   "id": "49c48ed6",
   "metadata": {},
   "source": [
    "### df_Sales['Discount] outliers and missing values"
   ]
  },
  {
   "cell_type": "code",
   "execution_count": 34,
   "id": "8e459a19",
   "metadata": {},
   "outputs": [
    {
     "name": "stdout",
     "output_type": "stream",
     "text": [
      "\n",
      "Unique Discount: [0.5  0.   0.2  0.4  0.7  0.3  0.1  0.15 0.32 0.8  0.45 0.6   nan]\n"
     ]
    }
   ],
   "source": [
    "#Finding Outliers in df_Sales['Discount']\n",
    "\n",
    "unique_discount = df_Sales['Discount'].unique()\n",
    "print(\"\\nUnique Discount:\", unique_discount)"
   ]
  },
  {
   "cell_type": "markdown",
   "id": "c570ea65",
   "metadata": {},
   "source": [
    "There is no outlier in df_Sales['Discount']. except nan"
   ]
  },
  {
   "cell_type": "code",
   "execution_count": 35,
   "id": "aba7908c",
   "metadata": {},
   "outputs": [
    {
     "name": "stdout",
     "output_type": "stream",
     "text": [
      "['OFF-ST-10000604' 'OFF-BI-10002026' 'OFF-LA-10002762']\n"
     ]
    }
   ],
   "source": [
    "#Compare with specified 'Product ID' and 'Discount' in other rows\n",
    "product_missing_discount = df_Sales.loc[df_Sales['Discount'].isnull(), 'Product ID'].unique()\n",
    "print(product_missing_discount)"
   ]
  },
  {
   "cell_type": "code",
   "execution_count": 36,
   "id": "45395f62",
   "metadata": {},
   "outputs": [
    {
     "name": "stdout",
     "output_type": "stream",
     "text": [
      "           Product ID    Sales Quantity  Discount    Profit\n",
      "9437  OFF-BI-10002026  437.472       14       0.2  153.1152\n",
      "6312  OFF-ST-10000604  250.272        9       0.2    15.642\n",
      "9203  OFF-BI-10002026  234.360        6       0.0  112.4928\n",
      "8835  OFF-BI-10002026  232.400        5       0.2    78.435\n",
      "8331  OFF-ST-10000604  208.560        6       NaN     52.14\n",
      "8573  OFF-BI-10002026  185.920        4       0.2    62.748\n",
      "8897  OFF-BI-10002026  174.300        3       0.0    81.921\n",
      "8088  OFF-ST-10000604  173.800        5       0.0     43.45\n",
      "8807  OFF-LA-10002762  162.890       13       0.0   76.5583\n",
      "8185  OFF-BI-10002026  139.440        3       0.2    47.061\n",
      "184   OFF-BI-10002026  104.580        9       0.8  -172.557\n",
      "375   OFF-BI-10002026  104.580        6       NaN   -80.178\n",
      "7286  OFF-ST-10000604  104.280        3       0.0     26.07\n",
      "7602  OFF-BI-10002026   92.960        2       0.2    31.374\n",
      "8004  OFF-LA-10002762   87.710        7       0.0   41.2237\n",
      "7781  OFF-LA-10002762   75.180        6       0.0   35.3346\n",
      "7779  OFF-LA-10002762   75.180        6       NaN   35.3346\n",
      "6525  OFF-ST-10000604   69.520        2       0.0     17.38\n",
      "6971  OFF-BI-10002026   62.496        2       0.2   21.8736\n",
      "7128  OFF-LA-10002762   50.120        4       0.0   23.5564\n",
      "766   OFF-BI-10002026   34.860        2       0.7   -26.726\n",
      "5724  OFF-LA-10002762   25.060        2       0.0   11.7782\n",
      "1091  OFF-BI-10002026   17.430        1       0.7   -13.363\n",
      "795   OFF-BI-10002026   15.624        2       0.8  -24.9984\n"
     ]
    }
   ],
   "source": [
    "#Comparing missing values in 'Discount' with other values in correspondence\n",
    "\n",
    "unique_discount_info = df_Sales[df_Sales['Product ID'].isin(product_missing_discount)][[\n",
    "    'Product ID', 'Sales', 'Quantity', 'Discount', 'Profit']].drop_duplicates()\n",
    "\n",
    "print(unique_discount_info)"
   ]
  },
  {
   "cell_type": "code",
   "execution_count": 37,
   "id": "90f8fae1",
   "metadata": {},
   "outputs": [
    {
     "name": "stdout",
     "output_type": "stream",
     "text": [
      "           Product ID    Sales Quantity  Discount  Profit\n",
      "6312  OFF-ST-10000604  250.272        9       0.2  15.642\n",
      "8331  OFF-ST-10000604  208.560        6       NaN   52.14\n",
      "8088  OFF-ST-10000604  173.800        5       0.0   43.45\n",
      "7286  OFF-ST-10000604  104.280        3       0.0   26.07\n",
      "7285  OFF-ST-10000604  104.280        3       0.0   26.07\n",
      "6525  OFF-ST-10000604   69.520        2       0.0   17.38\n",
      "6526  OFF-ST-10000604   69.520        2       0.0   17.38\n"
     ]
    }
   ],
   "source": [
    "df_Sales.sort_values(by=['Sales'], inplace=True, ascending=False)\n",
    "product_10000604 = df_Sales[df_Sales['Product ID'] == 'OFF-ST-10000604'][[\n",
    "    'Product ID', 'Sales', 'Quantity', 'Discount', 'Profit']]\n",
    "print(product_10000604)"
   ]
  },
  {
   "cell_type": "code",
   "execution_count": 38,
   "id": "be74abb8",
   "metadata": {},
   "outputs": [],
   "source": [
    "'''By multiplying each column by 3 in row 6526, I identified that there is a 0.0 Discount in row 8331'''\n",
    "\n",
    "df_Sales.loc[8331, 'Discount'] = '0.0'"
   ]
  },
  {
   "cell_type": "markdown",
   "id": "c8cc3d42",
   "metadata": {},
   "source": [
    "####  Imputation with Corresponding Values\n",
    "\n",
    "To fill in missing 'Discount' values using discount correspond to the unique 'Product ID' values in the dataset."
   ]
  },
  {
   "cell_type": "code",
   "execution_count": 39,
   "id": "38a772f5",
   "metadata": {},
   "outputs": [
    {
     "name": "stdout",
     "output_type": "stream",
     "text": [
      "           Product ID    Sales Quantity Discount    Profit\n",
      "9437  OFF-BI-10002026  437.472       14      0.2  153.1152\n",
      "9203  OFF-BI-10002026  234.360        6      0.0  112.4928\n",
      "8834  OFF-BI-10002026  232.400        5      0.2    78.435\n",
      "8835  OFF-BI-10002026  232.400        5      0.2    78.435\n",
      "8573  OFF-BI-10002026  185.920        4      0.2    62.748\n",
      "8897  OFF-BI-10002026  174.300        3      0.0    81.921\n",
      "8185  OFF-BI-10002026  139.440        3      0.2    47.061\n",
      "184   OFF-BI-10002026  104.580        9      0.8  -172.557\n",
      "375   OFF-BI-10002026  104.580        6      NaN   -80.178\n",
      "7602  OFF-BI-10002026   92.960        2      0.2    31.374\n",
      "6971  OFF-BI-10002026   62.496        2      0.2   21.8736\n",
      "766   OFF-BI-10002026   34.860        2      0.7   -26.726\n",
      "1091  OFF-BI-10002026   17.430        1      0.7   -13.363\n",
      "795   OFF-BI-10002026   15.624        2      0.8  -24.9984\n"
     ]
    }
   ],
   "source": [
    "df_Sales.sort_values(by=['Sales'], inplace=True, ascending=False)\n",
    "product_10002026 = df_Sales[df_Sales['Product ID'] == 'OFF-BI-10002026'][[\n",
    "    'Product ID', 'Sales', 'Quantity', 'Discount', 'Profit']]\n",
    "print(product_10002026)"
   ]
  },
  {
   "cell_type": "code",
   "execution_count": 40,
   "id": "ee10eb80",
   "metadata": {},
   "outputs": [],
   "source": [
    "'''By multiplying each column by 6 in row 1091, I identified that there is a 0.7 Discount in row 375'''\n",
    "\n",
    "df_Sales.loc[375, 'Discount'] = '0.7'"
   ]
  },
  {
   "cell_type": "code",
   "execution_count": 41,
   "id": "bb6cc634",
   "metadata": {},
   "outputs": [
    {
     "name": "stdout",
     "output_type": "stream",
     "text": [
      "           Product ID   Sales Quantity Discount   Profit\n",
      "8807  OFF-LA-10002762  162.89       13      0.0  76.5583\n",
      "8004  OFF-LA-10002762   87.71        7      0.0  41.2237\n",
      "8006  OFF-LA-10002762   87.71        7      0.0  41.2237\n",
      "7780  OFF-LA-10002762   75.18        6      0.0  35.3346\n",
      "7779  OFF-LA-10002762   75.18        6      NaN  35.3346\n",
      "7781  OFF-LA-10002762   75.18        6      0.0  35.3346\n",
      "7128  OFF-LA-10002762   50.12        4      0.0  23.5564\n",
      "5724  OFF-LA-10002762   25.06        2      0.0  11.7782\n"
     ]
    }
   ],
   "source": [
    "df_Sales.sort_values(by=['Sales'], inplace=True, ascending=False)\n",
    "product_10002762 = df_Sales[df_Sales['Product ID'] == 'OFF-LA-10002762'][[\n",
    "    'Product ID', 'Sales', 'Quantity', 'Discount', 'Profit']]\n",
    "print(product_10002762)"
   ]
  },
  {
   "cell_type": "code",
   "execution_count": 42,
   "id": "02aea115",
   "metadata": {},
   "outputs": [],
   "source": [
    "#Replace value in 'Discount'with correspondence 'Product ID' with similar 'Sales' and 'Profit'\n",
    "\n",
    "df_Sales.loc[7779, 'Discount'] = '0.0'"
   ]
  },
  {
   "cell_type": "code",
   "execution_count": 43,
   "id": "f8e65c4f",
   "metadata": {},
   "outputs": [
    {
     "name": "stdout",
     "output_type": "stream",
     "text": [
      "           Product ID   Sales Quantity Discount   Profit\n",
      "8807  OFF-LA-10002762  162.89       13      0.0  76.5583\n",
      "8004  OFF-LA-10002762   87.71        7      0.0  41.2237\n",
      "8006  OFF-LA-10002762   87.71        7      0.0  41.2237\n",
      "7780  OFF-LA-10002762   75.18        6      0.0  35.3346\n",
      "7779  OFF-LA-10002762   75.18        6      0.0  35.3346\n",
      "7781  OFF-LA-10002762   75.18        6      0.0  35.3346\n",
      "7128  OFF-LA-10002762   50.12        4      0.0  23.5564\n",
      "5724  OFF-LA-10002762   25.06        2      0.0  11.7782\n"
     ]
    }
   ],
   "source": [
    "df_Sales.sort_values(by=['Sales'], inplace=True, ascending=False)\n",
    "product_10002762 = df_Sales[df_Sales['Product ID'] == 'OFF-LA-10002762'][[\n",
    "    'Product ID', 'Sales', 'Quantity', 'Discount', 'Profit']]\n",
    "print(product_10002762)"
   ]
  },
  {
   "cell_type": "markdown",
   "id": "07bf6747",
   "metadata": {},
   "source": [
    "### df_Sales['Profit] outliers and missing values"
   ]
  },
  {
   "cell_type": "code",
   "execution_count": 44,
   "id": "4f512531",
   "metadata": {},
   "outputs": [],
   "source": [
    "unique_discount = df_Sales['Profit'].unique()\n",
    "unique_discount_list = unique_discount.tolist()\n",
    "#print(\"\\nUnique Profit:\", unique_discount_list)"
   ]
  },
  {
   "cell_type": "code",
   "execution_count": 45,
   "id": "3de1d757",
   "metadata": {},
   "outputs": [
    {
     "name": "stdout",
     "output_type": "stream",
     "text": [
      "['FUR-TA-10000198' 'OFF-BI-10001359' 'FUR-BO-10003272' 'FUR-CH-10000309'\n",
      " 'OFF-ST-10003716' 'FUR-BO-10002545' 'OFF-SU-10003505' 'TEC-PH-10000141'\n",
      " 'FUR-FU-10000723' 'OFF-AP-10000358' 'OFF-BI-10003291']\n"
     ]
    }
   ],
   "source": [
    "#Compare with specified 'Product ID' and 'Profit' in other rows\n",
    "product_missing_profit = df_Sales.loc[df_Sales['Profit'].isnull(), 'Product ID'].unique()\n",
    "print(product_missing_profit)"
   ]
  },
  {
   "cell_type": "code",
   "execution_count": 46,
   "id": "05c3ffa0",
   "metadata": {},
   "outputs": [
    {
     "data": {
      "text/plain": [
       "76"
      ]
     },
     "execution_count": 46,
     "metadata": {},
     "output_type": "execute_result"
    }
   ],
   "source": [
    "#Comparing missing values in 'Profit' with other values in correspondence\n",
    "\n",
    "unique_profit_info = df_Sales[df_Sales['Product ID'].isin(product_missing_profit)][[\n",
    "    'Product ID', 'Sales', 'Quantity', 'Discount', 'Profit']].drop_duplicates()\n",
    "\n",
    "#unique_profit_info.head(60)\n",
    "len(unique_profit_info)"
   ]
  },
  {
   "cell_type": "code",
   "execution_count": 47,
   "id": "0ccc9e78",
   "metadata": {},
   "outputs": [
    {
     "name": "stdout",
     "output_type": "stream",
     "text": [
      "           Product ID     Sales Quantity Discount      Profit\n",
      "7     FUR-TA-10000198  4297.644       13      0.4         NaN\n",
      "21    FUR-TA-10000198  2314.116        7      0.4  -1002.7836\n",
      "9650  FUR-TA-10000198  1652.940        3      0.0    231.4116\n",
      "315   FUR-TA-10000198  1322.352        3      0.2    -99.1764\n",
      "228   FUR-TA-10000198   330.588        1      0.4   -143.2548\n"
     ]
    }
   ],
   "source": [
    "df_Sales.sort_values(by=['Sales'], inplace=True, ascending=False)\n",
    "product_10000198 = df_Sales[df_Sales['Product ID'] == 'FUR-TA-10000198'][[\n",
    "    'Product ID', 'Sales', 'Quantity', 'Discount', 'Profit']]\n",
    "print(product_10000198)"
   ]
  },
  {
   "cell_type": "code",
   "execution_count": 48,
   "id": "cecd53bf",
   "metadata": {},
   "outputs": [],
   "source": [
    "# Values in row #7 is 13 times of row #228\n",
    "\n",
    "df_Sales.loc[7, 'Profit'] = '-1862.3124'"
   ]
  },
  {
   "cell_type": "code",
   "execution_count": 49,
   "id": "48811e1f",
   "metadata": {},
   "outputs": [
    {
     "name": "stdout",
     "output_type": "stream",
     "text": [
      "           Product ID     Sales Quantity Discount      Profit\n",
      "7     FUR-TA-10000198  4297.644       13      0.4  -1862.3124\n",
      "21    FUR-TA-10000198  2314.116        7      0.4  -1002.7836\n",
      "9650  FUR-TA-10000198  1652.940        3      0.0    231.4116\n",
      "315   FUR-TA-10000198  1322.352        3      0.2    -99.1764\n",
      "228   FUR-TA-10000198   330.588        1      0.4   -143.2548\n"
     ]
    }
   ],
   "source": [
    "df_Sales.sort_values(by=['Sales'], inplace=True, ascending=False)\n",
    "product_10000198 = df_Sales[df_Sales['Product ID'] == 'FUR-TA-10000198'][[\n",
    "    'Product ID', 'Sales', 'Quantity', 'Discount', 'Profit']]\n",
    "print(product_10000198)"
   ]
  },
  {
   "cell_type": "code",
   "execution_count": 50,
   "id": "1b0d68ea",
   "metadata": {},
   "outputs": [
    {
     "name": "stdout",
     "output_type": "stream",
     "text": [
      "           Product ID     Sales Quantity Discount      Profit\n",
      "9971  OFF-BI-10001359  4305.552        6      0.2   1453.1238\n",
      "9962  OFF-BI-10001359  2690.970        3      0.0   1264.7559\n",
      "9923  OFF-BI-10001359  2152.776        3      0.2    726.5619\n",
      "9943  OFF-BI-10001359  1793.980        2      0.0    843.1706\n",
      "9942  OFF-BI-10001359  1793.980        2      0.0    843.1706\n",
      "9944  OFF-BI-10001359  1793.980        2      0.0    843.1706\n",
      "14    OFF-BI-10001359  1614.582        6      0.7         NaN\n",
      "20    OFF-BI-10001359  1345.485        5      0.7  -1031.5385\n",
      "11    OFF-BI-10001359   896.990        5      0.8  -1480.0335\n",
      "9852  OFF-BI-10001359   896.990        1      0.0    421.5853\n",
      "68    OFF-BI-10001359   538.194        2      0.7   -412.6154\n"
     ]
    }
   ],
   "source": [
    "df_Sales.sort_values(by=['Sales'], inplace=True, ascending=False)\n",
    "product_10001359 = df_Sales[df_Sales['Product ID'] == 'OFF-BI-10001359'][[\n",
    "    'Product ID', 'Sales', 'Quantity', 'Discount', 'Profit']]\n",
    "print(product_10001359)"
   ]
  },
  {
   "cell_type": "code",
   "execution_count": 51,
   "id": "df22da99",
   "metadata": {},
   "outputs": [
    {
     "name": "stdout",
     "output_type": "stream",
     "text": [
      "           Product ID     Sales Quantity Discount      Profit\n",
      "9971  OFF-BI-10001359  4305.552        6      0.2   1453.1238\n",
      "9962  OFF-BI-10001359  2690.970        3      0.0   1264.7559\n",
      "9923  OFF-BI-10001359  2152.776        3      0.2    726.5619\n",
      "9943  OFF-BI-10001359  1793.980        2      0.0    843.1706\n",
      "9942  OFF-BI-10001359  1793.980        2      0.0    843.1706\n",
      "9944  OFF-BI-10001359  1793.980        2      0.0    843.1706\n",
      "14    OFF-BI-10001359  1614.582        6      0.7         NaN\n",
      "20    OFF-BI-10001359  1345.485        5      0.7  -1031.5385\n",
      "9852  OFF-BI-10001359   896.990        1      0.0    421.5853\n",
      "11    OFF-BI-10001359   896.990        5      0.8  -1480.0335\n",
      "68    OFF-BI-10001359   538.194        2      0.7   -412.6154\n"
     ]
    }
   ],
   "source": [
    "df_Sales.sort_values(by=['Sales'], inplace=True, ascending=False)\n",
    "product_10001359 = df_Sales[df_Sales['Product ID'] == 'OFF-BI-10001359'][[\n",
    "    'Product ID', 'Sales', 'Quantity', 'Discount', 'Profit']]\n",
    "print(product_10001359)"
   ]
  },
  {
   "cell_type": "code",
   "execution_count": 52,
   "id": "ba01a14e",
   "metadata": {},
   "outputs": [],
   "source": [
    "# Values in row #14 is 6/5 times of row #20\n",
    "\n",
    "df_Sales.loc[14, 'Profit'] = '-1237.8462'"
   ]
  },
  {
   "cell_type": "code",
   "execution_count": 53,
   "id": "f01b169c",
   "metadata": {},
   "outputs": [
    {
     "name": "stdout",
     "output_type": "stream",
     "text": [
      "           Product ID     Sales Quantity Discount      Profit\n",
      "9971  OFF-BI-10001359  4305.552        6      0.2   1453.1238\n",
      "9962  OFF-BI-10001359  2690.970        3      0.0   1264.7559\n",
      "9923  OFF-BI-10001359  2152.776        3      0.2    726.5619\n",
      "9943  OFF-BI-10001359  1793.980        2      0.0    843.1706\n",
      "9942  OFF-BI-10001359  1793.980        2      0.0    843.1706\n",
      "9944  OFF-BI-10001359  1793.980        2      0.0    843.1706\n",
      "14    OFF-BI-10001359  1614.582        6      0.7  -1237.8462\n",
      "20    OFF-BI-10001359  1345.485        5      0.7  -1031.5385\n",
      "11    OFF-BI-10001359   896.990        5      0.8  -1480.0335\n",
      "9852  OFF-BI-10001359   896.990        1      0.0    421.5853\n",
      "68    OFF-BI-10001359   538.194        2      0.7   -412.6154\n"
     ]
    }
   ],
   "source": [
    "df_Sales.sort_values(by=['Sales'], inplace=True, ascending=False)\n",
    "product_10001359 = df_Sales[df_Sales['Product ID'] == 'OFF-BI-10001359'][[\n",
    "    'Product ID', 'Sales', 'Quantity', 'Discount', 'Profit']]\n",
    "print(product_10001359)"
   ]
  },
  {
   "cell_type": "code",
   "execution_count": 54,
   "id": "bec0c6f4",
   "metadata": {},
   "outputs": [
    {
     "name": "stdout",
     "output_type": "stream",
     "text": [
      "          Product ID      Sales Quantity Discount    Profit\n",
      "62   FUR-BO-10003272  1352.3976        9     0.32       NaN\n",
      "289  FUR-BO-10003272   883.9200        5      0.2   -110.49\n",
      "572  FUR-BO-10003272   353.5680        2      0.2   -44.196\n",
      "571  FUR-BO-10003272   353.5680        2      0.2   -44.196\n",
      "322  FUR-BO-10003272   300.5328        2     0.32  -97.2312\n",
      "846  FUR-BO-10003272   176.7840        1      0.2   -22.098\n"
     ]
    }
   ],
   "source": [
    "df_Sales.sort_values(by=['Sales'], inplace=True, ascending=False)\n",
    "product_10003272 = df_Sales[df_Sales['Product ID'] == 'FUR-BO-10003272'][[\n",
    "    'Product ID', 'Sales', 'Quantity', 'Discount', 'Profit']]\n",
    "print(product_10003272)"
   ]
  },
  {
   "cell_type": "code",
   "execution_count": 55,
   "id": "23917b05",
   "metadata": {},
   "outputs": [],
   "source": [
    "# Values in row #62 is 9/2 times of row #322\n",
    "\n",
    "df_Sales.loc[62, 'Profit'] = '-437.5404'"
   ]
  },
  {
   "cell_type": "code",
   "execution_count": 56,
   "id": "af4119ee",
   "metadata": {},
   "outputs": [
    {
     "name": "stdout",
     "output_type": "stream",
     "text": [
      "          Product ID      Sales Quantity Discount     Profit\n",
      "62   FUR-BO-10003272  1352.3976        9     0.32  -437.5404\n",
      "289  FUR-BO-10003272   883.9200        5      0.2    -110.49\n",
      "572  FUR-BO-10003272   353.5680        2      0.2    -44.196\n",
      "571  FUR-BO-10003272   353.5680        2      0.2    -44.196\n",
      "322  FUR-BO-10003272   300.5328        2     0.32   -97.2312\n",
      "846  FUR-BO-10003272   176.7840        1      0.2    -22.098\n"
     ]
    }
   ],
   "source": [
    "df_Sales.sort_values(by=['Sales'], inplace=True, ascending=False)\n",
    "product_10003272 = df_Sales[df_Sales['Product ID'] == 'FUR-BO-10003272'][[\n",
    "    'Product ID', 'Sales', 'Quantity', 'Discount', 'Profit']]\n",
    "print(product_10003272)"
   ]
  },
  {
   "cell_type": "code",
   "execution_count": 57,
   "id": "ebac0771",
   "metadata": {},
   "outputs": [
    {
     "name": "stdout",
     "output_type": "stream",
     "text": [
      "           Product ID     Sales Quantity Discount    Profit\n",
      "9853  FUR-CH-10000309  1690.040        4      0.0    422.51\n",
      "8932  FUR-CH-10000309  1352.032        4      0.2    84.502\n",
      "9768  FUR-CH-10000309  1267.530        3      0.0  316.8825\n",
      "447   FUR-CH-10000309   887.271        3      0.3       NaN\n",
      "448   FUR-CH-10000309   887.271        3      0.3  -63.3765\n"
     ]
    }
   ],
   "source": [
    "df_Sales.sort_values(by=['Sales'], inplace=True, ascending=False)\n",
    "product_10000309 = df_Sales[df_Sales['Product ID'] == 'FUR-CH-10000309'][[\n",
    "    'Product ID', 'Sales', 'Quantity', 'Discount', 'Profit']]\n",
    "print(product_10000309)"
   ]
  },
  {
   "cell_type": "code",
   "execution_count": 58,
   "id": "39e59732",
   "metadata": {},
   "outputs": [],
   "source": [
    "# Values in row #447 and row #448 are identical\n",
    "\n",
    "df_Sales.loc[447, 'Profit'] = '-63.3765'"
   ]
  },
  {
   "cell_type": "code",
   "execution_count": 59,
   "id": "a34bbc25",
   "metadata": {},
   "outputs": [
    {
     "name": "stdout",
     "output_type": "stream",
     "text": [
      "           Product ID     Sales Quantity Discount    Profit\n",
      "9853  FUR-CH-10000309  1690.040        4      0.0    422.51\n",
      "8932  FUR-CH-10000309  1352.032        4      0.2    84.502\n",
      "9768  FUR-CH-10000309  1267.530        3      0.0  316.8825\n",
      "447   FUR-CH-10000309   887.271        3      0.3  -63.3765\n",
      "448   FUR-CH-10000309   887.271        3      0.3  -63.3765\n"
     ]
    }
   ],
   "source": [
    "df_Sales.sort_values(by=['Sales'], inplace=True, ascending=False)\n",
    "product_10000309 = df_Sales[df_Sales['Product ID'] == 'FUR-CH-10000309'][[\n",
    "    'Product ID', 'Sales', 'Quantity', 'Discount', 'Profit']]\n",
    "print(product_10000309)"
   ]
  },
  {
   "cell_type": "code",
   "execution_count": 60,
   "id": "53ca93e5",
   "metadata": {},
   "outputs": [
    {
     "name": "stdout",
     "output_type": "stream",
     "text": [
      "           Product ID     Sales Quantity Discount    Profit\n",
      "9579  OFF-ST-10003716  1575.140        7      0.0  204.7682\n",
      "9512  OFF-ST-10003716  1350.120        6      0.0  175.5156\n",
      "331   OFF-ST-10003716  1080.096        6      0.2  -94.5084\n",
      "9232  OFF-ST-10003716   900.080        4      0.0  117.0104\n",
      "9233  OFF-ST-10003716   900.080        4      0.0  117.0104\n",
      "451   OFF-ST-10003716   720.064        4      0.2  -63.0056\n",
      "450   OFF-ST-10003716   720.064        4      0.2  -63.0056\n",
      "8973  OFF-ST-10003716   675.060        3      0.0   87.7578\n",
      "540   OFF-ST-10003716   540.048        3      0.2  -47.2542\n",
      "539   OFF-ST-10003716   540.048        3      0.2       NaN\n",
      "8500  OFF-ST-10003716   450.040        2      0.0   58.5052\n",
      "991   OFF-ST-10003716   180.016        1      0.2  -15.7514\n"
     ]
    }
   ],
   "source": [
    "df_Sales.sort_values(by=['Sales'], inplace=True, ascending=False)\n",
    "product_10003716 = df_Sales[df_Sales['Product ID'] == 'OFF-ST-10003716'][[\n",
    "    'Product ID', 'Sales', 'Quantity', 'Discount', 'Profit']]\n",
    "print(product_10003716)"
   ]
  },
  {
   "cell_type": "code",
   "execution_count": 61,
   "id": "16826ac5",
   "metadata": {},
   "outputs": [],
   "source": [
    "# Values in row #540 and row #539 are identical\n",
    "\n",
    "df_Sales.loc[539, 'Profit'] = '-47.2542'"
   ]
  },
  {
   "cell_type": "code",
   "execution_count": 62,
   "id": "9a1f243a",
   "metadata": {},
   "outputs": [
    {
     "name": "stdout",
     "output_type": "stream",
     "text": [
      "           Product ID     Sales Quantity Discount    Profit\n",
      "9579  OFF-ST-10003716  1575.140        7      0.0  204.7682\n",
      "9512  OFF-ST-10003716  1350.120        6      0.0  175.5156\n",
      "331   OFF-ST-10003716  1080.096        6      0.2  -94.5084\n",
      "9232  OFF-ST-10003716   900.080        4      0.0  117.0104\n",
      "9233  OFF-ST-10003716   900.080        4      0.0  117.0104\n",
      "451   OFF-ST-10003716   720.064        4      0.2  -63.0056\n",
      "450   OFF-ST-10003716   720.064        4      0.2  -63.0056\n",
      "8973  OFF-ST-10003716   675.060        3      0.0   87.7578\n",
      "540   OFF-ST-10003716   540.048        3      0.2  -47.2542\n",
      "539   OFF-ST-10003716   540.048        3      0.2  -47.2542\n",
      "8500  OFF-ST-10003716   450.040        2      0.0   58.5052\n",
      "991   OFF-ST-10003716   180.016        1      0.2  -15.7514\n"
     ]
    }
   ],
   "source": [
    "df_Sales.sort_values(by=['Sales'], inplace=True, ascending=False)\n",
    "product_10003716 = df_Sales[df_Sales['Product ID'] == 'OFF-ST-10003716'][[\n",
    "    'Product ID', 'Sales', 'Quantity', 'Discount', 'Profit']]\n",
    "print(product_10003716)"
   ]
  },
  {
   "cell_type": "code",
   "execution_count": 63,
   "id": "cebcf830",
   "metadata": {},
   "outputs": [
    {
     "name": "stdout",
     "output_type": "stream",
     "text": [
      "           Product ID      Sales Quantity Discount     Profit\n",
      "9844  FUR-BO-10002545  1565.8800        6      0.0   407.1288\n",
      "9573  FUR-BO-10002545  1552.8310        7     0.15   200.9546\n",
      "9702  FUR-BO-10002545  1043.9200        4      0.0   271.4192\n",
      "511   FUR-BO-10002545   913.4300        5      0.3    -52.196\n",
      "9576  FUR-BO-10002545   782.9400        3      0.0   203.5644\n",
      "8180  FUR-BO-10002545   626.3520        3      0.2    46.9764\n",
      "546   FUR-BO-10002545   532.3992        3     0.32        NaN\n",
      "126   FUR-BO-10002545   521.9600        4      0.5  -250.5408\n"
     ]
    }
   ],
   "source": [
    "df_Sales.sort_values(by=['Sales'], inplace=True, ascending=False)\n",
    "product_10002545 = df_Sales[df_Sales['Product ID'] == 'FUR-BO-10002545'][[\n",
    "    'Product ID', 'Sales', 'Quantity', 'Discount', 'Profit']]\n",
    "print(product_10002545)"
   ]
  },
  {
   "cell_type": "code",
   "execution_count": 64,
   "id": "98346fdf",
   "metadata": {},
   "outputs": [],
   "source": [
    "# Values in row #511 is approximately 5/3 of row #546\n",
    "\n",
    "df_Sales.loc[546, 'Profit'] = '30.42'"
   ]
  },
  {
   "cell_type": "code",
   "execution_count": 65,
   "id": "2a6cc104",
   "metadata": {},
   "outputs": [
    {
     "name": "stdout",
     "output_type": "stream",
     "text": [
      "           Product ID      Sales Quantity Discount     Profit\n",
      "9844  FUR-BO-10002545  1565.8800        6      0.0   407.1288\n",
      "9573  FUR-BO-10002545  1552.8310        7     0.15   200.9546\n",
      "9702  FUR-BO-10002545  1043.9200        4      0.0   271.4192\n",
      "511   FUR-BO-10002545   913.4300        5      0.3    -52.196\n",
      "9576  FUR-BO-10002545   782.9400        3      0.0   203.5644\n",
      "8180  FUR-BO-10002545   626.3520        3      0.2    46.9764\n",
      "546   FUR-BO-10002545   532.3992        3     0.32      30.42\n",
      "126   FUR-BO-10002545   521.9600        4      0.5  -250.5408\n"
     ]
    }
   ],
   "source": [
    "df_Sales.sort_values(by=['Sales'], inplace=True, ascending=False)\n",
    "product_10002545 = df_Sales[df_Sales['Product ID'] == 'FUR-BO-10002545'][[\n",
    "    'Product ID', 'Sales', 'Quantity', 'Discount', 'Profit']]\n",
    "print(product_10002545)"
   ]
  },
  {
   "cell_type": "code",
   "execution_count": 66,
   "id": "0bbce054",
   "metadata": {},
   "outputs": [
    {
     "name": "stdout",
     "output_type": "stream",
     "text": [
      "           Product ID    Sales Quantity Discount   Profit\n",
      "7749  OFF-SU-10003505  695.160        6      0.0   34.758\n",
      "7473  OFF-SU-10003505  579.300        5      0.0   28.965\n",
      "6524  OFF-SU-10003505  347.580        3      0.0   17.379\n",
      "5681  OFF-SU-10003505  231.720        2      0.0   11.586\n",
      "5682  OFF-SU-10003505  231.720        2      0.0   11.586\n",
      "647   OFF-SU-10003505  185.376        2      0.2  -34.758\n",
      "648   OFF-SU-10003505  185.376        2      0.2  -34.758\n",
      "649   OFF-SU-10003505  185.376        2      0.2      NaN\n"
     ]
    }
   ],
   "source": [
    "df_Sales.sort_values(by=['Sales'], inplace=True, ascending=False)\n",
    "product_10003505 = df_Sales[df_Sales['Product ID'] == 'OFF-SU-10003505'][[\n",
    "    'Product ID', 'Sales', 'Quantity', 'Discount', 'Profit']]\n",
    "print(product_10003505)"
   ]
  },
  {
   "cell_type": "code",
   "execution_count": 67,
   "id": "73449d60",
   "metadata": {},
   "outputs": [],
   "source": [
    "# Values in row #648 and row #649 are identical\n",
    "\n",
    "df_Sales.loc[649, 'Profit'] = '-34.758'"
   ]
  },
  {
   "cell_type": "code",
   "execution_count": 68,
   "id": "9d990d77",
   "metadata": {},
   "outputs": [
    {
     "name": "stdout",
     "output_type": "stream",
     "text": [
      "           Product ID    Sales Quantity Discount   Profit\n",
      "7749  OFF-SU-10003505  695.160        6      0.0   34.758\n",
      "7473  OFF-SU-10003505  579.300        5      0.0   28.965\n",
      "6524  OFF-SU-10003505  347.580        3      0.0   17.379\n",
      "5681  OFF-SU-10003505  231.720        2      0.0   11.586\n",
      "5682  OFF-SU-10003505  231.720        2      0.0   11.586\n",
      "647   OFF-SU-10003505  185.376        2      0.2  -34.758\n",
      "648   OFF-SU-10003505  185.376        2      0.2  -34.758\n",
      "649   OFF-SU-10003505  185.376        2      0.2  -34.758\n"
     ]
    }
   ],
   "source": [
    "df_Sales.sort_values(by=['Sales'], inplace=True, ascending=False)\n",
    "product_10003505 = df_Sales[df_Sales['Product ID'] == 'OFF-SU-10003505'][[\n",
    "    'Product ID', 'Sales', 'Quantity', 'Discount', 'Profit']]\n",
    "print(product_10003505)"
   ]
  },
  {
   "cell_type": "code",
   "execution_count": 69,
   "id": "52e1bf96",
   "metadata": {},
   "outputs": [
    {
     "name": "stdout",
     "output_type": "stream",
     "text": [
      "           Product ID    Sales Quantity Discount    Profit\n",
      "6342  TEC-PH-10000141  211.168        4      0.2   15.8376\n",
      "618   TEC-PH-10000141  158.376        4      0.4  -36.9544\n",
      "753   TEC-PH-10000141  118.782        3      0.4       NaN\n"
     ]
    }
   ],
   "source": [
    "df_Sales.sort_values(by=['Sales'], inplace=True, ascending=False)\n",
    "product_10000141 = df_Sales[df_Sales['Product ID'] == 'TEC-PH-10000141'][[\n",
    "    'Product ID', 'Sales', 'Quantity', 'Discount', 'Profit']]\n",
    "print(product_10000141)"
   ]
  },
  {
   "cell_type": "code",
   "execution_count": 70,
   "id": "94e71181",
   "metadata": {},
   "outputs": [],
   "source": [
    "# Values in row #753 is 4/3 of row #753\n",
    "\n",
    "df_Sales.loc[753, 'Profit'] = '-27.716'"
   ]
  },
  {
   "cell_type": "code",
   "execution_count": 71,
   "id": "8b5d80b3",
   "metadata": {},
   "outputs": [
    {
     "name": "stdout",
     "output_type": "stream",
     "text": [
      "           Product ID    Sales Quantity Discount    Profit\n",
      "6342  TEC-PH-10000141  211.168        4      0.2   15.8376\n",
      "618   TEC-PH-10000141  158.376        4      0.4  -36.9544\n",
      "753   TEC-PH-10000141  118.782        3      0.4   -27.716\n"
     ]
    }
   ],
   "source": [
    "df_Sales.sort_values(by=['Sales'], inplace=True, ascending=False)\n",
    "product_10000141 = df_Sales[df_Sales['Product ID'] == 'TEC-PH-10000141'][[\n",
    "    'Product ID', 'Sales', 'Quantity', 'Discount', 'Profit']]\n",
    "print(product_10000141)"
   ]
  },
  {
   "cell_type": "code",
   "execution_count": 72,
   "id": "d345897c",
   "metadata": {},
   "outputs": [
    {
     "name": "stdout",
     "output_type": "stream",
     "text": [
      "           Product ID    Sales Quantity Discount    Profit\n",
      "7283  FUR-FU-10000723  289.240        7      0.0   26.0316\n",
      "6165  FUR-FU-10000723  165.280        4      0.0   14.8752\n",
      "929   FUR-FU-10000723  132.224        4      0.2  -18.1808\n",
      "5601  FUR-FU-10000723  123.960        3      0.0   11.1564\n",
      "5602  FUR-FU-10000723  123.960        3      0.0   11.1564\n",
      "4701  FUR-FU-10000723   82.640        2      0.0    7.4376\n",
      "1254  FUR-FU-10000723   66.112        2      0.2   -9.0904\n",
      "360   FUR-FU-10000723   66.112        4      0.6       NaN\n",
      "361   FUR-FU-10000723   66.112        4      0.6  -84.2928\n"
     ]
    }
   ],
   "source": [
    "df_Sales.sort_values(by=['Sales'], inplace=True, ascending=False)\n",
    "product_10000723 = df_Sales[df_Sales['Product ID'] == 'FUR-FU-10000723'][[\n",
    "    'Product ID', 'Sales', 'Quantity', 'Discount', 'Profit']]\n",
    "print(product_10000723)"
   ]
  },
  {
   "cell_type": "code",
   "execution_count": 73,
   "id": "cedeb504",
   "metadata": {},
   "outputs": [],
   "source": [
    "# Values in row #360 and row #361 are identical\n",
    "\n",
    "df_Sales.loc[360, 'Profit'] = '-84.2928'"
   ]
  },
  {
   "cell_type": "code",
   "execution_count": 74,
   "id": "695ee9d3",
   "metadata": {},
   "outputs": [
    {
     "name": "stdout",
     "output_type": "stream",
     "text": [
      "           Product ID    Sales Quantity Discount    Profit\n",
      "7283  FUR-FU-10000723  289.240        7      0.0   26.0316\n",
      "6165  FUR-FU-10000723  165.280        4      0.0   14.8752\n",
      "929   FUR-FU-10000723  132.224        4      0.2  -18.1808\n",
      "5601  FUR-FU-10000723  123.960        3      0.0   11.1564\n",
      "5602  FUR-FU-10000723  123.960        3      0.0   11.1564\n",
      "4701  FUR-FU-10000723   82.640        2      0.0    7.4376\n",
      "360   FUR-FU-10000723   66.112        4      0.6  -84.2928\n",
      "361   FUR-FU-10000723   66.112        4      0.6  -84.2928\n",
      "1254  FUR-FU-10000723   66.112        2      0.2   -9.0904\n"
     ]
    }
   ],
   "source": [
    "df_Sales.sort_values(by=['Sales'], inplace=True, ascending=False)\n",
    "product_10000723 = df_Sales[df_Sales['Product ID'] == 'FUR-FU-10000723'][[\n",
    "    'Product ID', 'Sales', 'Quantity', 'Discount', 'Profit']]\n",
    "print(product_10000723)"
   ]
  },
  {
   "cell_type": "code",
   "execution_count": 75,
   "id": "7ccebd42",
   "metadata": {},
   "outputs": [
    {
     "name": "stdout",
     "output_type": "stream",
     "text": [
      "           Product ID   Sales Quantity Discount   Profit\n",
      "7295  OFF-AP-10000358  90.860        7      0.0  26.3494\n",
      "7294  OFF-AP-10000358  90.860        7      0.0  26.3494\n",
      "7040  OFF-AP-10000358  77.880        6      0.0  22.5852\n",
      "6671  OFF-AP-10000358  64.900        5      0.0   18.821\n",
      "3245  OFF-AP-10000358  31.152        3      0.2   3.5046\n",
      "4726  OFF-AP-10000358  25.960        2      0.0   7.5284\n",
      "2744  OFF-AP-10000358  20.768        2      0.2   2.3364\n",
      "501   OFF-AP-10000358  20.768        8      0.8      NaN\n",
      "3381  OFF-AP-10000358  12.980        1      0.0   3.7642\n"
     ]
    }
   ],
   "source": [
    "df_Sales.sort_values(by=['Sales'], inplace=True, ascending=False)\n",
    "product_10000358 = df_Sales[df_Sales['Product ID'] == 'OFF-AP-10000358'][[\n",
    "    'Product ID', 'Sales', 'Quantity', 'Discount', 'Profit']]\n",
    "print(product_10000358)"
   ]
  },
  {
   "cell_type": "code",
   "execution_count": 76,
   "id": "dcaef4ea",
   "metadata": {},
   "outputs": [],
   "source": [
    "# No correspondence values to be compared.\n",
    "\n",
    "df_Sales.loc[501, 'Profit'] = '0'"
   ]
  },
  {
   "cell_type": "code",
   "execution_count": 77,
   "id": "2b45c16a",
   "metadata": {},
   "outputs": [
    {
     "name": "stdout",
     "output_type": "stream",
     "text": [
      "           Product ID   Sales Quantity Discount    Profit\n",
      "6067  OFF-BI-10003291  41.904        6      0.2   14.1426\n",
      "6068  OFF-BI-10003291  41.904        6      0.2   14.1426\n",
      "5235  OFF-BI-10003291  27.936        4      0.2    9.4284\n",
      "5234  OFF-BI-10003291  27.936        4      0.2    9.4284\n",
      "4608  OFF-BI-10003291  20.952        3      0.2    7.0713\n",
      "4889  OFF-BI-10003291  17.460        2      0.0    8.2062\n",
      "4888  OFF-BI-10003291  17.460        2      0.0    8.2062\n",
      "884   OFF-BI-10003291  12.222        7      0.8       NaN\n",
      "957   OFF-BI-10003291  10.476        6      0.8  -17.2854\n",
      "1424  OFF-BI-10003291   7.857        3      0.7   -6.0237\n",
      "2755  OFF-BI-10003291   6.984        1      0.2    2.3571\n",
      "1557  OFF-BI-10003291   5.238        2      0.7   -4.0158\n"
     ]
    }
   ],
   "source": [
    "df_Sales.sort_values(by=['Sales'], inplace=True, ascending=False)\n",
    "product_10003291 = df_Sales[df_Sales['Product ID'] == 'OFF-BI-10003291'][[\n",
    "    'Product ID', 'Sales', 'Quantity', 'Discount', 'Profit']]\n",
    "print(product_10003291)"
   ]
  },
  {
   "cell_type": "code",
   "execution_count": 78,
   "id": "6527ae80",
   "metadata": {},
   "outputs": [],
   "source": [
    "# Values in row #884 is 7/6 of row #957\n",
    "\n",
    "df_Sales.loc[884, 'Profit'] = '-20.1663'"
   ]
  },
  {
   "cell_type": "code",
   "execution_count": 79,
   "id": "5c59e2a4",
   "metadata": {},
   "outputs": [
    {
     "name": "stdout",
     "output_type": "stream",
     "text": [
      "           Product ID   Sales Quantity Discount    Profit\n",
      "6067  OFF-BI-10003291  41.904        6      0.2   14.1426\n",
      "6068  OFF-BI-10003291  41.904        6      0.2   14.1426\n",
      "5235  OFF-BI-10003291  27.936        4      0.2    9.4284\n",
      "5234  OFF-BI-10003291  27.936        4      0.2    9.4284\n",
      "4608  OFF-BI-10003291  20.952        3      0.2    7.0713\n",
      "4889  OFF-BI-10003291  17.460        2      0.0    8.2062\n",
      "4888  OFF-BI-10003291  17.460        2      0.0    8.2062\n",
      "884   OFF-BI-10003291  12.222        7      0.8  -20.1663\n",
      "957   OFF-BI-10003291  10.476        6      0.8  -17.2854\n",
      "1424  OFF-BI-10003291   7.857        3      0.7   -6.0237\n",
      "2755  OFF-BI-10003291   6.984        1      0.2    2.3571\n",
      "1557  OFF-BI-10003291   5.238        2      0.7   -4.0158\n"
     ]
    }
   ],
   "source": [
    "df_Sales.sort_values(by=['Sales'], inplace=True, ascending=False)\n",
    "product_10003291 = df_Sales[df_Sales['Product ID'] == 'OFF-BI-10003291'][[\n",
    "    'Product ID', 'Sales', 'Quantity', 'Discount', 'Profit']]\n",
    "print(product_10003291)"
   ]
  },
  {
   "cell_type": "code",
   "execution_count": 80,
   "id": "f3ccab06",
   "metadata": {},
   "outputs": [
    {
     "name": "stdout",
     "output_type": "stream",
     "text": [
      "           Product ID     Sales Quantity Discount        Profit\n",
      "9807  TEC-MA-10000418  4799.984        2      0.2      359.9988\n",
      "0     TEC-MA-10000418  4499.985        5      0.7     -6599.978\n",
      "5     TEC-MA-10000418  1799.994        2      0.7  \"-2639.9912\"\n"
     ]
    }
   ],
   "source": [
    "df_Sales.sort_values(by=['Sales'], inplace=True, ascending=False)\n",
    "product_10000418 = df_Sales[df_Sales['Product ID'] == 'TEC-MA-10000418'][[\n",
    "    'Product ID', 'Sales', 'Quantity', 'Discount', 'Profit']]\n",
    "print(product_10000418)"
   ]
  },
  {
   "cell_type": "code",
   "execution_count": 81,
   "id": "16d95416",
   "metadata": {},
   "outputs": [],
   "source": [
    "# Unify the value with remove the \" \"\n",
    "\n",
    "df_Sales.loc[5, 'Profit'] = '-2639.9912'"
   ]
  },
  {
   "cell_type": "code",
   "execution_count": 82,
   "id": "7937d8c0",
   "metadata": {},
   "outputs": [
    {
     "name": "stdout",
     "output_type": "stream",
     "text": [
      "           Product ID     Sales Quantity Discount      Profit\n",
      "9807  TEC-MA-10000418  4799.984        2      0.2    359.9988\n",
      "0     TEC-MA-10000418  4499.985        5      0.7   -6599.978\n",
      "5     TEC-MA-10000418  1799.994        2      0.7  -2639.9912\n"
     ]
    }
   ],
   "source": [
    "df_Sales.sort_values(by=['Sales'], inplace=True, ascending=False)\n",
    "product_10000418 = df_Sales[df_Sales['Product ID'] == 'TEC-MA-10000418'][[\n",
    "    'Product ID', 'Sales', 'Quantity', 'Discount', 'Profit']]\n",
    "print(product_10000418)"
   ]
  },
  {
   "cell_type": "code",
   "execution_count": 83,
   "id": "d5143434",
   "metadata": {},
   "outputs": [
    {
     "name": "stdout",
     "output_type": "stream",
     "text": [
      "Row ID          int64\n",
      "Order ID       object\n",
      "Product ID     object\n",
      "Sales         float64\n",
      "Quantity       object\n",
      "Discount       object\n",
      "Profit         object\n",
      "dtype: object\n"
     ]
    }
   ],
   "source": [
    "print(df_Sales.dtypes)"
   ]
  },
  {
   "cell_type": "markdown",
   "id": "5cb2abf7",
   "metadata": {},
   "source": [
    "#### Change data types of 'Quantity' and 'Profit' become NUMERICAL"
   ]
  },
  {
   "cell_type": "markdown",
   "id": "6f51702d",
   "metadata": {},
   "source": [
    "#### df_Sales - Change data types "
   ]
  },
  {
   "cell_type": "code",
   "execution_count": 84,
   "id": "e010d898",
   "metadata": {},
   "outputs": [
    {
     "name": "stdout",
     "output_type": "stream",
     "text": [
      "Row ID          int64\n",
      "Order ID       object\n",
      "Product ID     object\n",
      "Sales         float64\n",
      "Quantity        int64\n",
      "Discount      float64\n",
      "Profit        float64\n",
      "dtype: object\n"
     ]
    }
   ],
   "source": [
    "df_Sales['Quantity'] = pd.to_numeric(df_Sales['Quantity'], errors='coerce')\n",
    "df_Sales['Discount'] = pd.to_numeric(df_Sales['Discount'], errors='coerce')\n",
    "df_Sales['Profit'] = pd.to_numeric(df_Sales['Profit'], errors='coerce')\n",
    "print(df_Sales.dtypes)"
   ]
  },
  {
   "cell_type": "code",
   "execution_count": 85,
   "id": "4b6e184b",
   "metadata": {},
   "outputs": [
    {
     "name": "stdout",
     "output_type": "stream",
     "text": [
      "Row ID        0\n",
      "Order ID      1\n",
      "Product ID    2\n",
      "Sales         0\n",
      "Quantity      0\n",
      "Discount      0\n",
      "Profit        0\n",
      "dtype: int64\n"
     ]
    }
   ],
   "source": [
    "#Check updated missing value in df_Sales\n",
    "df_Sales_missing_values = df_Sales.isnull().sum()\n",
    "print(df_Sales_missing_values)"
   ]
  },
  {
   "cell_type": "markdown",
   "id": "8dfc41ce",
   "metadata": {},
   "source": [
    "<span style=\"color: blue;\"> Every column in the df_Sales dataset is now complete with no missing values, except for 'Order ID', which will be addressed during the processing of df_Order, and 'Product ID', which will be obtained from df_Product.</span>"
   ]
  },
  {
   "cell_type": "markdown",
   "id": "f522e672",
   "metadata": {},
   "source": [
    "## To Merge df_Product and df_Sales into df_Product_Sales"
   ]
  },
  {
   "cell_type": "code",
   "execution_count": 86,
   "id": "edfd69cb",
   "metadata": {},
   "outputs": [],
   "source": [
    "df_Product_Sales = pd.merge(df_Product[['Row ID','Product ID', 'Category', 'Sub-Category', 'Product Name']], \n",
    "                df_Sales[['Row ID', 'Order ID', 'Sales', 'Quantity', 'Discount', 'Profit']], on='Row ID', how='inner')"
   ]
  },
  {
   "cell_type": "code",
   "execution_count": 87,
   "id": "5fa2fe72",
   "metadata": {},
   "outputs": [
    {
     "name": "stdout",
     "output_type": "stream",
     "text": [
      "Row ID          0\n",
      "Product ID      0\n",
      "Category        0\n",
      "Sub-Category    0\n",
      "Product Name    0\n",
      "Order ID        1\n",
      "Sales           0\n",
      "Quantity        0\n",
      "Discount        0\n",
      "Profit          0\n",
      "dtype: int64\n"
     ]
    }
   ],
   "source": [
    "#Check updated missing value in df_Sales\n",
    "df_Product_Sales_missing_values = df_Product_Sales.isnull().sum()\n",
    "print(df_Product_Sales_missing_values)"
   ]
  },
  {
   "cell_type": "code",
   "execution_count": null,
   "id": "bae53099",
   "metadata": {},
   "outputs": [],
   "source": []
  },
  {
   "cell_type": "markdown",
   "id": "c1939bd0",
   "metadata": {},
   "source": [
    "## df_Product_Sales - Descriptive Statistic"
   ]
  },
  {
   "cell_type": "code",
   "execution_count": 88,
   "id": "b1f49049",
   "metadata": {},
   "outputs": [
    {
     "name": "stdout",
     "output_type": "stream",
     "text": [
      "            Row ID         Sales     Quantity     Discount       Profit\n",
      "count  9994.000000   9994.000000  9994.000000  9994.000000  9994.000000\n",
      "mean   4997.500000    229.858001     3.789374     0.156203    28.669940\n",
      "std    2885.163629    623.245101     2.225091     0.206452   234.257639\n",
      "min       1.000000      0.444000     1.000000     0.000000 -6599.978000\n",
      "25%    2499.250000     17.280000     2.000000     0.000000     1.731375\n",
      "50%    4997.500000     54.490000     3.000000     0.200000     8.671250\n",
      "75%    7495.750000    209.940000     5.000000     0.200000    29.364000\n",
      "max    9994.000000  22638.480000    14.000000     0.800000  8399.976000\n"
     ]
    }
   ],
   "source": [
    "descriptive_stats = df_Product_Sales.describe()\n",
    "print(descriptive_stats)"
   ]
  },
  {
   "cell_type": "code",
   "execution_count": 93,
   "id": "147a4183",
   "metadata": {},
   "outputs": [
    {
     "data": {
      "image/png": "[encoded data removed]",
      "text/plain": [
       "<Figure size 1000x800 with 4 Axes>"
      ]
     },
     "metadata": {},
     "output_type": "display_data"
    }
   ],
   "source": [
    "columns_to_plot = ['Sales', 'Quantity', 'Discount', 'Profit']\n",
    "\n",
    "plt.figure(figsize=(10, 8))\n",
    "for i, column in enumerate(columns_to_plot, 1):\n",
    "    plt.subplot(2, 2, i)\n",
    "    plt.hist(df_Product_Sales[column].dropna(), bins=30, edgecolor='k', alpha=0.7)\n",
    "    plt.title(f'{column}')\n",
    "    plt.xlabel(column)\n",
    "    plt.ylabel('Frequency')\n",
    "\n",
    "plt.tight_layout()\n",
    "plt.show()"
   ]
  },
  {
   "cell_type": "code",
   "execution_count": 94,
   "id": "61b60c56",
   "metadata": {},
   "outputs": [
    {
     "data": {
      "text/plain": [
       "<matplotlib.legend.Legend at 0x1d7e9b31280>"
      ]
     },
     "execution_count": 94,
     "metadata": {},
     "output_type": "execute_result"
    },
    {
     "data": {
      "image/png": "[encoded data removed]",
      "text/plain": [
       "<Figure size 800x500 with 1 Axes>"
      ]
     },
     "metadata": {},
     "output_type": "display_data"
    }
   ],
   "source": [
    "# plot the three dataframes for Discount and Sales columns in df_Sales\n",
    "\n",
    "plt.rcParams[\"figure.figsize\"] = [8,5]\n",
    "plt.scatter(df_Product_Sales['Discount'], df_Sales['Sales'], color='green',label='Discount - Sales')\n",
    "plt.title(\"\", size=14)\n",
    "plt.xlabel(\"Discount\", size=14)\n",
    "plt.ylabel(\"Sales\", size=14)\n",
    "plt.legend()\n",
    "#plt.savefig(\"\",transparent=False, bbox_inches='tight',pad_inches=0.1)"
   ]
  },
  {
   "cell_type": "code",
   "execution_count": null,
   "id": "07b7e479",
   "metadata": {},
   "outputs": [],
   "source": []
  },
  {
   "cell_type": "markdown",
   "id": "52a0b23f",
   "metadata": {},
   "source": [
    "# 3. df_Customer group"
   ]
  },
  {
   "cell_type": "markdown",
   "id": "79b922d7",
   "metadata": {},
   "source": [
    "### Count missing values in each column"
   ]
  },
  {
   "cell_type": "code",
   "execution_count": 95,
   "id": "8f49d648",
   "metadata": {},
   "outputs": [
    {
     "data": {
      "text/html": [
       "<div>\n",
       "<style scoped>\n",
       "    .dataframe tbody tr th:only-of-type {\n",
       "        vertical-align: middle;\n",
       "    }\n",
       "\n",
       "    .dataframe tbody tr th {\n",
       "        vertical-align: top;\n",
       "    }\n",
       "\n",
       "    .dataframe thead th {\n",
       "        text-align: right;\n",
       "    }\n",
       "</style>\n",
       "<table border=\"1\" class=\"dataframe\">\n",
       "  <thead>\n",
       "    <tr style=\"text-align: right;\">\n",
       "      <th></th>\n",
       "      <th>Row ID</th>\n",
       "      <th>Customer ID</th>\n",
       "      <th>Customer Name</th>\n",
       "      <th>Segment</th>\n",
       "      <th>Country</th>\n",
       "      <th>City</th>\n",
       "      <th>State</th>\n",
       "      <th>Postal Code</th>\n",
       "      <th>Region</th>\n",
       "    </tr>\n",
       "  </thead>\n",
       "  <tbody>\n",
       "    <tr>\n",
       "      <th>0</th>\n",
       "      <td>7773</td>\n",
       "      <td>CS-12505</td>\n",
       "      <td>Cindy Stewart</td>\n",
       "      <td>Consumer</td>\n",
       "      <td>United States</td>\n",
       "      <td>Lancaster</td>\n",
       "      <td>Ohio</td>\n",
       "      <td>43130</td>\n",
       "      <td>Est</td>\n",
       "    </tr>\n",
       "    <tr>\n",
       "      <th>1</th>\n",
       "      <td>684</td>\n",
       "      <td>GT-14635</td>\n",
       "      <td>Grant Thornton</td>\n",
       "      <td>Corporate</td>\n",
       "      <td>United States</td>\n",
       "      <td>Burlington</td>\n",
       "      <td>North Carolina</td>\n",
       "      <td>\"27217\"</td>\n",
       "      <td>South</td>\n",
       "    </tr>\n",
       "    <tr>\n",
       "      <th>2</th>\n",
       "      <td>9775</td>\n",
       "      <td>LF-17185</td>\n",
       "      <td>Luke Foster</td>\n",
       "      <td>Consumer</td>\n",
       "      <td>United States</td>\n",
       "      <td>San Antonio</td>\n",
       "      <td>Texas</td>\n",
       "      <td>78207</td>\n",
       "      <td>Central</td>\n",
       "    </tr>\n",
       "    <tr>\n",
       "      <th>3</th>\n",
       "      <td>3012</td>\n",
       "      <td>SR-20425</td>\n",
       "      <td>Sharelle Roach</td>\n",
       "      <td>Home Office</td>\n",
       "      <td>United States</td>\n",
       "      <td>Louisville</td>\n",
       "      <td>Colorado</td>\n",
       "      <td>80027</td>\n",
       "      <td>West</td>\n",
       "    </tr>\n",
       "    <tr>\n",
       "      <th>4</th>\n",
       "      <td>4992</td>\n",
       "      <td>HG-14965</td>\n",
       "      <td>Henry Goldwyn</td>\n",
       "      <td>Corporate</td>\n",
       "      <td>United States</td>\n",
       "      <td>Chicago</td>\n",
       "      <td>Illinois</td>\n",
       "      <td>60653</td>\n",
       "      <td>Central</td>\n",
       "    </tr>\n",
       "    <tr>\n",
       "      <th>5</th>\n",
       "      <td>3152</td>\n",
       "      <td>NF-18385</td>\n",
       "      <td>Natalie Fritzler</td>\n",
       "      <td>Consumer</td>\n",
       "      <td>United States</td>\n",
       "      <td>Newark</td>\n",
       "      <td>Ohio</td>\n",
       "      <td>43055</td>\n",
       "      <td>East</td>\n",
       "    </tr>\n",
       "    <tr>\n",
       "      <th>6</th>\n",
       "      <td>5311</td>\n",
       "      <td>NC-18415</td>\n",
       "      <td>Nathan Cano</td>\n",
       "      <td>Consumer</td>\n",
       "      <td>United States</td>\n",
       "      <td>Houston</td>\n",
       "      <td>Texas</td>\n",
       "      <td>77095</td>\n",
       "      <td>Central</td>\n",
       "    </tr>\n",
       "    <tr>\n",
       "      <th>7</th>\n",
       "      <td>9640</td>\n",
       "      <td>JH-15985</td>\n",
       "      <td>Joseph Holt</td>\n",
       "      <td>Consumer</td>\n",
       "      <td>United States</td>\n",
       "      <td>Concord</td>\n",
       "      <td>North Carolina</td>\n",
       "      <td>28027</td>\n",
       "      <td>South</td>\n",
       "    </tr>\n",
       "    <tr>\n",
       "      <th>8</th>\n",
       "      <td>1200</td>\n",
       "      <td>ZC-21910</td>\n",
       "      <td>Zuschuss Carroll</td>\n",
       "      <td>Consumer</td>\n",
       "      <td>United States</td>\n",
       "      <td>Houston</td>\n",
       "      <td>Texas</td>\n",
       "      <td>77041</td>\n",
       "      <td>Central</td>\n",
       "    </tr>\n",
       "    <tr>\n",
       "      <th>9</th>\n",
       "      <td>2698</td>\n",
       "      <td>SM-20320</td>\n",
       "      <td>Sean Miller</td>\n",
       "      <td>Home Office</td>\n",
       "      <td>NaN</td>\n",
       "      <td>Jacksonville</td>\n",
       "      <td>Florida</td>\n",
       "      <td>32216</td>\n",
       "      <td>Southh</td>\n",
       "    </tr>\n",
       "  </tbody>\n",
       "</table>\n",
       "</div>"
      ],
      "text/plain": [
       "   Row ID Customer ID     Customer Name      Segment        Country  \\\n",
       "0    7773    CS-12505     Cindy Stewart     Consumer  United States   \n",
       "1     684    GT-14635    Grant Thornton    Corporate  United States   \n",
       "2    9775    LF-17185       Luke Foster     Consumer  United States   \n",
       "3    3012    SR-20425    Sharelle Roach  Home Office  United States   \n",
       "4    4992    HG-14965     Henry Goldwyn    Corporate  United States   \n",
       "5    3152    NF-18385  Natalie Fritzler     Consumer  United States   \n",
       "6    5311    NC-18415       Nathan Cano     Consumer  United States   \n",
       "7    9640    JH-15985       Joseph Holt     Consumer  United States   \n",
       "8    1200    ZC-21910  Zuschuss Carroll     Consumer  United States   \n",
       "9    2698    SM-20320       Sean Miller  Home Office            NaN   \n",
       "\n",
       "           City           State Postal Code   Region  \n",
       "0     Lancaster            Ohio       43130      Est  \n",
       "1    Burlington  North Carolina     \"27217\"    South  \n",
       "2   San Antonio           Texas       78207  Central  \n",
       "3    Louisville        Colorado       80027     West  \n",
       "4       Chicago        Illinois       60653  Central  \n",
       "5        Newark            Ohio       43055     East  \n",
       "6       Houston           Texas       77095  Central  \n",
       "7       Concord  North Carolina       28027    South  \n",
       "8       Houston           Texas       77041  Central  \n",
       "9  Jacksonville         Florida       32216   Southh  "
      ]
     },
     "execution_count": 95,
     "metadata": {},
     "output_type": "execute_result"
    }
   ],
   "source": [
    "df_Customer.head(10)"
   ]
  },
  {
   "cell_type": "code",
   "execution_count": 96,
   "id": "3245cfbe",
   "metadata": {},
   "outputs": [
    {
     "name": "stdout",
     "output_type": "stream",
     "text": [
      "Row ID            int64\n",
      "Customer ID      object\n",
      "Customer Name    object\n",
      "Segment          object\n",
      "Country          object\n",
      "City             object\n",
      "State            object\n",
      "Postal Code      object\n",
      "Region           object\n",
      "dtype: object\n"
     ]
    }
   ],
   "source": [
    "# Show data types of each column in df_Customer\n",
    "print(df_Customer.dtypes)"
   ]
  },
  {
   "cell_type": "code",
   "execution_count": 97,
   "id": "945a7185",
   "metadata": {},
   "outputs": [
    {
     "name": "stdout",
     "output_type": "stream",
     "text": [
      "Row ID           0\n",
      "Customer ID      0\n",
      "Customer Name    3\n",
      "Segment          3\n",
      "Country          4\n",
      "City             2\n",
      "State            4\n",
      "Postal Code      3\n",
      "Region           3\n",
      "dtype: int64\n"
     ]
    }
   ],
   "source": [
    "df_Customer_missing_values = df_Customer.isnull().sum()\n",
    "print(df_Customer_missing_values)"
   ]
  },
  {
   "cell_type": "markdown",
   "id": "c2fb5e02",
   "metadata": {},
   "source": [
    "###  \"Imputation with Corresponding Values\" for missing values in \"Customer Name\" column.\n",
    "\n",
    "To fill in missing 'Customer Name' values using names linked to the unique 'Customer ID' values in the dataset."
   ]
  },
  {
   "cell_type": "code",
   "execution_count": 98,
   "id": "c6021dae",
   "metadata": {},
   "outputs": [
    {
     "name": "stdout",
     "output_type": "stream",
     "text": [
      "['SO-20335' 'DH-13075' 'BP-11095']\n"
     ]
    }
   ],
   "source": [
    "#Compare with specified 'Customer ID' and 'Customer Name' in other rows\n",
    "customer_ids_missing_name = df_Customer.loc[df_Customer['Customer Name'].isnull(), 'Customer ID'].unique()\n",
    "print(customer_ids_missing_name)"
   ]
  },
  {
   "cell_type": "code",
   "execution_count": 99,
   "id": "8a7cb8f8",
   "metadata": {},
   "outputs": [
    {
     "name": "stdout",
     "output_type": "stream",
     "text": [
      "     Customer ID   Customer Name\n",
      "76      SO-20335             NaN\n",
      "869     DH-13075             NaN\n",
      "877     BP-11095             NaN\n",
      "898     DH-13075   Dave Hallsten\n",
      "1152    BP-11095    Bart Pistole\n",
      "1628    SO-20335  Sean O'Donnell\n"
     ]
    }
   ],
   "source": [
    "unique_customer_info = df_Customer[df_Customer['Customer ID'].isin(customer_ids_missing_name)][[\n",
    "    'Customer ID','Customer Name']].drop_duplicates()\n",
    "print(unique_customer_info)"
   ]
  },
  {
   "cell_type": "code",
   "execution_count": 100,
   "id": "9904b20f",
   "metadata": {},
   "outputs": [
    {
     "name": "stdout",
     "output_type": "stream",
     "text": [
      "    Customer ID   Customer Name\n",
      "76     SO-20335  Sean O'Donnell\n",
      "869    DH-13075   Dave Hallsten\n",
      "877    BP-11095    Bart Pistole\n"
     ]
    }
   ],
   "source": [
    "# Replace NaN values in 'Customer Name' with \"Customer Name\" values in corresponding Customer ID\"\n",
    "\n",
    "for index, row in unique_customer_info.iterrows():\n",
    "    customer_id = row['Customer ID']\n",
    "    customer_name = df_Customer.loc[df_Customer['Customer ID'] == customer_id, 'Customer Name'].dropna().iloc[0]\n",
    "    df_Customer.loc[df_Customer['Customer ID'] == customer_id, 'Customer Name'] = customer_name\n",
    "    \n",
    "specific_customer_name_info = df_Customer[df_Customer['Customer ID'].isin(['SO-20335', 'DH-13075', 'BP-11095'])][[\n",
    "    'Customer ID', 'Customer Name']].drop_duplicates()\n",
    "print(specific_customer_name_info)"
   ]
  },
  {
   "cell_type": "markdown",
   "id": "12527cc5",
   "metadata": {},
   "source": [
    "### To fill in missing 'Segment' values linked to the unique 'Customer ID' values in the dataset."
   ]
  },
  {
   "cell_type": "code",
   "execution_count": 101,
   "id": "f9cd77c2",
   "metadata": {},
   "outputs": [
    {
     "name": "stdout",
     "output_type": "stream",
     "text": [
      "['EP-13915' 'TG-21310' 'TC-21475']\n"
     ]
    }
   ],
   "source": [
    "#Compare with specified 'Customer ID' and 'Segment' in other rows\n",
    "customer_ids_missing_segment = df_Customer.loc[df_Customer['Segment'].isnull(), 'Customer ID'].unique()\n",
    "print(customer_ids_missing_segment)"
   ]
  },
  {
   "cell_type": "code",
   "execution_count": 102,
   "id": "5a65c664",
   "metadata": {},
   "outputs": [
    {
     "name": "stdout",
     "output_type": "stream",
     "text": [
      "    Customer ID      Segment\n",
      "142    EP-13915     Consumer\n",
      "163    TG-21310     Consumer\n",
      "206    EP-13915          NaN\n",
      "414    TC-21475  Home Office\n",
      "443    TG-21310          NaN\n",
      "494    TC-21475          NaN\n"
     ]
    }
   ],
   "source": [
    "unique_segment_info = df_Customer[df_Customer['Customer ID'].isin(customer_ids_missing_segment)][[\n",
    "    'Customer ID','Segment']].drop_duplicates()\n",
    "print(unique_segment_info)"
   ]
  },
  {
   "cell_type": "code",
   "execution_count": 103,
   "id": "1b970156",
   "metadata": {},
   "outputs": [
    {
     "name": "stdout",
     "output_type": "stream",
     "text": [
      "    Customer ID      Segment\n",
      "142    EP-13915     Consumer\n",
      "163    TG-21310     Consumer\n",
      "206    EP-13915     Consumer\n",
      "414    TC-21475  Home Office\n",
      "443    TG-21310     Consumer\n",
      "494    TC-21475  Home Office\n"
     ]
    }
   ],
   "source": [
    "# Replace NaN values in 'Segment' with \"Segment\" values in corresponding Customer ID\" \n",
    "\n",
    "for index, row in unique_segment_info.iterrows():\n",
    "    customer_id = row['Customer ID']\n",
    "    segment = df_Customer.loc[df_Customer['Customer ID'] == customer_id, 'Segment'].dropna().iloc[0]\n",
    "    df_Customer.loc[df_Customer['Customer ID'] == customer_id, 'Segment'] = segment\n",
    "    \n",
    "specific_segment_info = df_Customer[df_Customer['Customer ID'].isin(['EP-13915', 'TG-21310', 'TC-21475'])][[\n",
    "    'Customer ID', 'Segment']]\n",
    "\n",
    "specific_segment_info = df_Customer.loc[[142, 163, 206, 414, 443, 494], ['Customer ID', 'Segment']]\n",
    "print(specific_segment_info)"
   ]
  },
  {
   "cell_type": "markdown",
   "id": "308fa351",
   "metadata": {},
   "source": [
    "### Imputation with Corresponding Values in 'Customer ID' for other missing values in Customer Group "
   ]
  },
  {
   "cell_type": "code",
   "execution_count": 104,
   "id": "024e7891",
   "metadata": {},
   "outputs": [],
   "source": [
    "Customer_columns_to_update = ['Country', 'City', 'State', 'Postal Code', 'Region']\n",
    "\n",
    "for column in Customer_columns_to_update:\n",
    "    customer_ids_missing_values = df_Customer.loc[df_Customer[column].isnull(), 'Customer ID'].unique()      \n",
    "    for customer_id in customer_ids_missing_values:\n",
    "        \n",
    "        # Check if there's at least one not-null value for this Customer ID in the current column\n",
    "        if not df_Customer[df_Customer['Customer ID'] == customer_id][column].dropna().empty:\n",
    "            \n",
    "            # Get the first not-null value \n",
    "            value_to_fill = df_Customer.loc[df_Customer['Customer ID'] == customer_id, column].dropna().iloc[0]\n",
    "            \n",
    "            # Fill in missing values for Customer ID in the current column\n",
    "            df_Customer.loc[df_Customer['Customer ID'] == customer_id, column] = value_to_fill"
   ]
  },
  {
   "cell_type": "code",
   "execution_count": 105,
   "id": "02acc878",
   "metadata": {},
   "outputs": [
    {
     "name": "stdout",
     "output_type": "stream",
     "text": [
      "Row ID           0\n",
      "Customer ID      0\n",
      "Customer Name    0\n",
      "Segment          0\n",
      "Country          0\n",
      "City             0\n",
      "State            0\n",
      "Postal Code      0\n",
      "Region           0\n",
      "dtype: int64\n"
     ]
    }
   ],
   "source": [
    "#Check updated missing value in df_Customer\n",
    "df_Customer_missing_values = df_Customer.isnull().sum()\n",
    "print(df_Customer_missing_values)"
   ]
  },
  {
   "cell_type": "markdown",
   "id": "a13e6035",
   "metadata": {},
   "source": [
    "# 4. df_Order group"
   ]
  },
  {
   "cell_type": "code",
   "execution_count": 106,
   "id": "c813f5ba",
   "metadata": {},
   "outputs": [
    {
     "data": {
      "text/html": [
       "<div>\n",
       "<style scoped>\n",
       "    .dataframe tbody tr th:only-of-type {\n",
       "        vertical-align: middle;\n",
       "    }\n",
       "\n",
       "    .dataframe tbody tr th {\n",
       "        vertical-align: top;\n",
       "    }\n",
       "\n",
       "    .dataframe thead th {\n",
       "        text-align: right;\n",
       "    }\n",
       "</style>\n",
       "<table border=\"1\" class=\"dataframe\">\n",
       "  <thead>\n",
       "    <tr style=\"text-align: right;\">\n",
       "      <th></th>\n",
       "      <th>Row ID</th>\n",
       "      <th>Order ID</th>\n",
       "      <th>Order Date</th>\n",
       "      <th>Ship Date</th>\n",
       "      <th>Ship Mode</th>\n",
       "      <th>Customer ID</th>\n",
       "    </tr>\n",
       "  </thead>\n",
       "  <tbody>\n",
       "    <tr>\n",
       "      <th>0</th>\n",
       "      <td>7773</td>\n",
       "      <td>CA-2016-108196</td>\n",
       "      <td>25/11/2016</td>\n",
       "      <td>12/02/2016</td>\n",
       "      <td>Standard Class</td>\n",
       "      <td>CS-12505</td>\n",
       "    </tr>\n",
       "    <tr>\n",
       "      <th>1</th>\n",
       "      <td>684</td>\n",
       "      <td>US-2017-168116</td>\n",
       "      <td>11/04/2017</td>\n",
       "      <td>11/04/2017</td>\n",
       "      <td>Same Day</td>\n",
       "      <td>GT-14635</td>\n",
       "    </tr>\n",
       "    <tr>\n",
       "      <th>2</th>\n",
       "      <td>9775</td>\n",
       "      <td>CA-2014-169019</td>\n",
       "      <td>26/07/2014</td>\n",
       "      <td>30/07/2014</td>\n",
       "      <td>Standard Class</td>\n",
       "      <td>LF-17185</td>\n",
       "    </tr>\n",
       "    <tr>\n",
       "      <th>3</th>\n",
       "      <td>3012</td>\n",
       "      <td>CA-2017-134845</td>\n",
       "      <td>17/04/2017</td>\n",
       "      <td>24/04/2017</td>\n",
       "      <td>Standard Class</td>\n",
       "      <td>SR-20425</td>\n",
       "    </tr>\n",
       "    <tr>\n",
       "      <th>4</th>\n",
       "      <td>4992</td>\n",
       "      <td>US-2017-122714</td>\n",
       "      <td>12/07/2017</td>\n",
       "      <td>13/12/2017</td>\n",
       "      <td>Standard Class</td>\n",
       "      <td>HG-14965</td>\n",
       "    </tr>\n",
       "    <tr>\n",
       "      <th>5</th>\n",
       "      <td>3152</td>\n",
       "      <td>CA-2015-147830</td>\n",
       "      <td>15/12/2015</td>\n",
       "      <td>18/12/2015</td>\n",
       "      <td>First Class</td>\n",
       "      <td>NF-18385</td>\n",
       "    </tr>\n",
       "    <tr>\n",
       "      <th>6</th>\n",
       "      <td>5311</td>\n",
       "      <td>CA-2017-131254</td>\n",
       "      <td>19/11/2017</td>\n",
       "      <td>21/11/2017</td>\n",
       "      <td>First Class</td>\n",
       "      <td>NC-18415</td>\n",
       "    </tr>\n",
       "    <tr>\n",
       "      <th>7</th>\n",
       "      <td>9640</td>\n",
       "      <td>CA-2015-116638</td>\n",
       "      <td>28/01/2015</td>\n",
       "      <td>NaN</td>\n",
       "      <td>Second Class</td>\n",
       "      <td>JH-15985</td>\n",
       "    </tr>\n",
       "    <tr>\n",
       "      <th>8</th>\n",
       "      <td>1200</td>\n",
       "      <td>CA-2016-130946</td>\n",
       "      <td>04/08/2016</td>\n",
       "      <td>04/12/2016</td>\n",
       "      <td>Standard Class</td>\n",
       "      <td>ZC-21910</td>\n",
       "    </tr>\n",
       "    <tr>\n",
       "      <th>9</th>\n",
       "      <td>2698</td>\n",
       "      <td>CA-2014-145317</td>\n",
       "      <td>18/03/2014</td>\n",
       "      <td>23/03/2014</td>\n",
       "      <td>Standard Class</td>\n",
       "      <td>SM-20320</td>\n",
       "    </tr>\n",
       "  </tbody>\n",
       "</table>\n",
       "</div>"
      ],
      "text/plain": [
       "   Row ID        Order ID  Order Date   Ship Date       Ship Mode Customer ID\n",
       "0    7773  CA-2016-108196  25/11/2016  12/02/2016  Standard Class    CS-12505\n",
       "1     684  US-2017-168116  11/04/2017  11/04/2017        Same Day    GT-14635\n",
       "2    9775  CA-2014-169019  26/07/2014  30/07/2014  Standard Class    LF-17185\n",
       "3    3012  CA-2017-134845  17/04/2017  24/04/2017  Standard Class    SR-20425\n",
       "4    4992  US-2017-122714  12/07/2017  13/12/2017  Standard Class    HG-14965\n",
       "5    3152  CA-2015-147830  15/12/2015  18/12/2015     First Class    NF-18385\n",
       "6    5311  CA-2017-131254  19/11/2017  21/11/2017     First Class    NC-18415\n",
       "7    9640  CA-2015-116638  28/01/2015         NaN    Second Class    JH-15985\n",
       "8    1200  CA-2016-130946  04/08/2016  04/12/2016  Standard Class    ZC-21910\n",
       "9    2698  CA-2014-145317  18/03/2014  23/03/2014  Standard Class    SM-20320"
      ]
     },
     "execution_count": 106,
     "metadata": {},
     "output_type": "execute_result"
    }
   ],
   "source": [
    "df_Order.head(10)"
   ]
  },
  {
   "cell_type": "code",
   "execution_count": 107,
   "id": "78e3bf66",
   "metadata": {},
   "outputs": [
    {
     "name": "stdout",
     "output_type": "stream",
     "text": [
      "Row ID          int64\n",
      "Order ID       object\n",
      "Order Date     object\n",
      "Ship Date      object\n",
      "Ship Mode      object\n",
      "Customer ID    object\n",
      "dtype: object\n"
     ]
    }
   ],
   "source": [
    "# Show data types of each column in df_Order\n",
    "print(df_Order.dtypes)"
   ]
  },
  {
   "cell_type": "code",
   "execution_count": null,
   "id": "d43c3ea9",
   "metadata": {},
   "outputs": [],
   "source": []
  },
  {
   "cell_type": "markdown",
   "id": "fba2ef61",
   "metadata": {},
   "source": [
    "## df_Order handling missing value"
   ]
  },
  {
   "cell_type": "code",
   "execution_count": 108,
   "id": "8d40303c",
   "metadata": {},
   "outputs": [
    {
     "name": "stdout",
     "output_type": "stream",
     "text": [
      "Row ID         0\n",
      "Order ID       1\n",
      "Order Date     2\n",
      "Ship Date      3\n",
      "Ship Mode      4\n",
      "Customer ID    0\n",
      "dtype: int64\n"
     ]
    }
   ],
   "source": [
    "#Check updated missing value in df_Order\n",
    "df_Order_missing_values = df_Order.isnull().sum()\n",
    "print(df_Order_missing_values)"
   ]
  },
  {
   "cell_type": "code",
   "execution_count": 109,
   "id": "a318ff6e",
   "metadata": {},
   "outputs": [
    {
     "name": "stdout",
     "output_type": "stream",
     "text": [
      "            Order ID  Order Date   Ship Date       Ship Mode\n",
      "7     CA-2015-116638  28/01/2015         NaN    Second Class\n",
      "13    US-2017-120390  19/10/2017         NaN  Standard Class\n",
      "150   CA-2014-106229  06/07/2014  06/11/2014             NaN\n",
      "197   US-2015-130512         NaN  25/08/2015  Standard Class\n",
      "202              NaN  27/11/2015  12/03/2015  Standard Class\n",
      "211   US-2016-141264  13/08/2016         NaN  Standard Class\n",
      "244   CA-2014-155887         NaN  17/05/2014             NaN\n",
      "870   CA-2016-159009  23/09/2016  27/09/2016             NaN\n",
      "1030  CA-2014-122882  09/07/2014  13/09/2014             NaN\n"
     ]
    }
   ],
   "source": [
    "# Show all rows where any  specified columns have missing values\n",
    "missing_values_filter = df_Order['Order ID'].isnull() | \\\n",
    "                        df_Order['Order Date'].isnull() | \\\n",
    "                        df_Order['Ship Date'].isnull() | \\\n",
    "                        df_Order['Ship Mode'].isnull()\n",
    "\n",
    "# get rows with missing values in the columns\n",
    "df_Order_with_missing_values = df_Order[missing_values_filter]\n",
    "print(df_Order_with_missing_values[['Order ID','Order Date','Ship Date','Ship Mode']])"
   ]
  },
  {
   "cell_type": "markdown",
   "id": "51c47283",
   "metadata": {},
   "source": [
    "### df_Order['Order ID] - Handling outliers and missing values"
   ]
  },
  {
   "cell_type": "markdown",
   "id": "98f3bd70",
   "metadata": {},
   "source": [
    "<span style=\"color: blue;\"> Seems values in 'Order ID' is related to Country and year of order date</span>"
   ]
  },
  {
   "cell_type": "code",
   "execution_count": 111,
   "id": "151edb13",
   "metadata": {},
   "outputs": [
    {
     "data": {
      "text/plain": [
       "'United States'"
      ]
     },
     "execution_count": 111,
     "metadata": {},
     "output_type": "execute_result"
    }
   ],
   "source": [
    "df.loc[202, 'Country']"
   ]
  },
  {
   "cell_type": "code",
   "execution_count": 144,
   "id": "5b762976",
   "metadata": {},
   "outputs": [
    {
     "name": "stdout",
     "output_type": "stream",
     "text": [
      "            Order ID  Order Date   Ship Date       Ship Mode Customer ID\n",
      "202              NaN  27/11/2015  12/03/2015  Standard Class    EH-14125\n",
      "209   US-2015-168935  27/11/2015  12/02/2015  Standard Class    DO-13435\n",
      "1831  US-2015-168935  27/11/2015  12/02/2015  Standard Class    DO-13435\n",
      "1931  CA-2015-130974  27/11/2015  29/11/2015    Second Class    MA-17560\n",
      "3038  CA-2015-160059  27/11/2015  12/01/2015  Standard Class    TB-21190\n",
      "3734  CA-2015-130974  27/11/2015  29/11/2015    Second Class    MA-17560\n",
      "4686  CA-2015-145184  27/11/2015  29/11/2015     First Class    JD-16150\n",
      "5846  CA-2015-163762  27/11/2015  12/01/2015  Standard Class    JE-15475\n",
      "6557  CA-2015-101910  27/11/2015  12/03/2015  Standard Class    CD-11920\n",
      "6711  CA-2015-130974  27/11/2015  29/11/2015    Second Class    MA-17560\n",
      "7047  CA-2015-125234  27/11/2015  12/01/2015  Standard Class    SN-20710\n",
      "7124  CA-2015-145184  27/11/2015  29/11/2015     First Class    JD-16150\n",
      "7418  CA-2015-130974  27/11/2015  29/11/2015    Second Class    MA-17560\n",
      "7654  CA-2015-130974  27/11/2015  29/11/2015    Second Class    MA-17560\n",
      "8376  CA-2015-125234  27/11/2015  12/01/2015  Standard Class    SN-20710\n",
      "8685  CA-2015-130974  27/11/2015  29/11/2015    Second Class    MA-17560\n",
      "8984  CA-2015-130974  27/11/2015  29/11/2015    Second Class    MA-17560\n"
     ]
    }
   ],
   "source": [
    "#filtered_rows = df_Order[df_Order['Order Date'].str.contains('27/11/2015', na=False)]\n",
    "filtered_rows = df[df['Order Date'].str.contains('27/11/2015', na=False)]\n",
    "print(filtered_rows[['Order ID','Order Date','Ship Date', 'Ship Mode', 'Customer ID']])"
   ]
  },
  {
   "cell_type": "code",
   "execution_count": 138,
   "id": "db965978",
   "metadata": {},
   "outputs": [
    {
     "name": "stdout",
     "output_type": "stream",
     "text": [
      "Empty DataFrame\n",
      "Columns: [Order ID, Order Date, Ship Mode, Customer ID]\n",
      "Index: []\n"
     ]
    }
   ],
   "source": [
    "#Check if 'US-2015-168934' Order ID is exist\n",
    "\n",
    "filtered_rows2 = df[df['Order ID'].str.contains('US-2015-168934', na=False)]\n",
    "print(filtered_rows2[['Order ID','Order Date', 'Ship Mode', 'Customer ID']])"
   ]
  },
  {
   "cell_type": "code",
   "execution_count": 139,
   "id": "2c4f9fe9",
   "metadata": {},
   "outputs": [],
   "source": [
    "#Since 'US-2015-168934' Order ID doesn't exist, we can fill in the missing value in Order ID with this value\n",
    "\n",
    "df_Order.loc[202, 'Order ID'] = 'US-2015-168934'"
   ]
  },
  {
   "cell_type": "code",
   "execution_count": 142,
   "id": "ae7e799e",
   "metadata": {},
   "outputs": [
    {
     "data": {
      "text/html": [
       "<div>\n",
       "<style scoped>\n",
       "    .dataframe tbody tr th:only-of-type {\n",
       "        vertical-align: middle;\n",
       "    }\n",
       "\n",
       "    .dataframe tbody tr th {\n",
       "        vertical-align: top;\n",
       "    }\n",
       "\n",
       "    .dataframe thead th {\n",
       "        text-align: right;\n",
       "    }\n",
       "</style>\n",
       "<table border=\"1\" class=\"dataframe\">\n",
       "  <thead>\n",
       "    <tr style=\"text-align: right;\">\n",
       "      <th></th>\n",
       "      <th>Order ID</th>\n",
       "      <th>Order Date</th>\n",
       "      <th>Ship Mode</th>\n",
       "      <th>Customer ID</th>\n",
       "    </tr>\n",
       "  </thead>\n",
       "  <tbody>\n",
       "    <tr>\n",
       "      <th>202</th>\n",
       "      <td>US-2015-168934</td>\n",
       "      <td>27/11/2015</td>\n",
       "      <td>Standard Class</td>\n",
       "      <td>EH-14125</td>\n",
       "    </tr>\n",
       "  </tbody>\n",
       "</table>\n",
       "</div>"
      ],
      "text/plain": [
       "           Order ID  Order Date       Ship Mode Customer ID\n",
       "202  US-2015-168934  27/11/2015  Standard Class    EH-14125"
      ]
     },
     "execution_count": 142,
     "metadata": {},
     "output_type": "execute_result"
    }
   ],
   "source": [
    "df_Order.loc[[202], ['Order ID', 'Order Date', 'Ship Mode', 'Customer ID']]"
   ]
  },
  {
   "cell_type": "markdown",
   "id": "71fc4221",
   "metadata": {},
   "source": [
    "### df_Order['Order Date] - Split DD with MM and YYYY then make them Numerical"
   ]
  },
  {
   "cell_type": "code",
   "execution_count": null,
   "id": "8cb7ce88",
   "metadata": {},
   "outputs": [],
   "source": []
  },
  {
   "cell_type": "markdown",
   "id": "81b040ba",
   "metadata": {},
   "source": [
    "### df_Order['Order Date] - Handling outliers and missing values"
   ]
  },
  {
   "cell_type": "markdown",
   "id": "68775184",
   "metadata": {},
   "source": [
    "<span style=\"color: blue;\"> Detected format inconsistency in the 'Ship Date' column, as the 'Ship Date' should logically follow the 'Order Date' in the DD/MM/YYYY format. </span>"
   ]
  },
  {
   "cell_type": "code",
   "execution_count": null,
   "id": "27dce80f",
   "metadata": {},
   "outputs": [],
   "source": []
  },
  {
   "cell_type": "code",
   "execution_count": null,
   "id": "74cab0b9",
   "metadata": {},
   "outputs": [],
   "source": []
  },
  {
   "cell_type": "markdown",
   "id": "d34ef9c7",
   "metadata": {},
   "source": [
    "### df_Order['Ship Date] - Handling outliers and missing values"
   ]
  },
  {
   "cell_type": "code",
   "execution_count": null,
   "id": "ecb4243c",
   "metadata": {},
   "outputs": [],
   "source": []
  },
  {
   "cell_type": "code",
   "execution_count": null,
   "id": "699eb057",
   "metadata": {},
   "outputs": [],
   "source": []
  },
  {
   "cell_type": "code",
   "execution_count": null,
   "id": "e709f1ee",
   "metadata": {},
   "outputs": [],
   "source": []
  },
  {
   "cell_type": "code",
   "execution_count": null,
   "id": "79d48ef4",
   "metadata": {},
   "outputs": [],
   "source": []
  },
  {
   "cell_type": "markdown",
   "id": "60162de4",
   "metadata": {},
   "source": [
    "### df_Order['Ship Mode] - Handling outliers and missing values"
   ]
  },
  {
   "cell_type": "code",
   "execution_count": 110,
   "id": "0b2a60f4",
   "metadata": {},
   "outputs": [
    {
     "name": "stdout",
     "output_type": "stream",
     "text": [
      "\n",
      "Unique Ship Mode: ['Standard Class', 'Same Day', 'First Class', 'Second Class', nan]\n"
     ]
    }
   ],
   "source": [
    "#Show all columns in df_Order for each unique Ship Mode, drop duplicates\n",
    "columns2_to_check = ['Ship Mode']\n",
    "\n",
    "for column in columns2_to_check:\n",
    "    unique_values = df_Order[column].unique().tolist()\n",
    "    print(f\"\\nUnique {column}:\", unique_values)"
   ]
  },
  {
   "cell_type": "code",
   "execution_count": null,
   "id": "aafc8aad",
   "metadata": {},
   "outputs": [],
   "source": []
  },
  {
   "cell_type": "code",
   "execution_count": null,
   "id": "976c4adb",
   "metadata": {},
   "outputs": [],
   "source": []
  },
  {
   "cell_type": "code",
   "execution_count": null,
   "id": "866c50bb",
   "metadata": {},
   "outputs": [],
   "source": []
  },
  {
   "cell_type": "code",
   "execution_count": null,
   "id": "1bff8d38",
   "metadata": {},
   "outputs": [],
   "source": []
  },
  {
   "cell_type": "code",
   "execution_count": null,
   "id": "c1878422",
   "metadata": {},
   "outputs": [],
   "source": []
  },
  {
   "cell_type": "code",
   "execution_count": null,
   "id": "c8bf36cd",
   "metadata": {},
   "outputs": [],
   "source": []
  },
  {
   "cell_type": "code",
   "execution_count": null,
   "id": "e6dd722f",
   "metadata": {},
   "outputs": [],
   "source": []
  },
  {
   "cell_type": "code",
   "execution_count": null,
   "id": "9218ea9c",
   "metadata": {},
   "outputs": [],
   "source": []
  },
  {
   "cell_type": "code",
   "execution_count": null,
   "id": "08f75d67",
   "metadata": {},
   "outputs": [],
   "source": []
  },
  {
   "cell_type": "code",
   "execution_count": null,
   "id": "d79ff97b",
   "metadata": {},
   "outputs": [],
   "source": []
  },
  {
   "cell_type": "code",
   "execution_count": null,
   "id": "20953a05",
   "metadata": {},
   "outputs": [],
   "source": []
  },
  {
   "cell_type": "code",
   "execution_count": null,
   "id": "ab9a0285",
   "metadata": {},
   "outputs": [],
   "source": []
  },
  {
   "cell_type": "code",
   "execution_count": 130,
   "id": "ba896934",
   "metadata": {},
   "outputs": [
    {
     "name": "stdout",
     "output_type": "stream",
     "text": [
      "\n",
      "Unique Country: ['United States', 'US', '56']\n"
     ]
    }
   ],
   "source": [
    "unique_country = df_Customer['Country'].unique()\n",
    "unique_country = unique_country.tolist()\n",
    "print(\"\\nUnique Country:\", unique_country)"
   ]
  },
  {
   "cell_type": "code",
   "execution_count": 131,
   "id": "9e32e052",
   "metadata": {},
   "outputs": [],
   "source": [
    "unique_city = df_Customer['City'].unique()\n",
    "unique_city = unique_city.tolist()\n",
    "#print(\"\\nUnique city:\", unique_city)"
   ]
  },
  {
   "cell_type": "markdown",
   "id": "88487086",
   "metadata": {},
   "source": [
    "Correlation between: \n",
    "1. City and Specific Product, Specific Segment and Product.\n",
    "\n",
    "2. Discount and Profit.\n",
    "\n",
    "3. Customer ID and Profit."
   ]
  },
  {
   "cell_type": "markdown",
   "id": "72067e51",
   "metadata": {},
   "source": [
    "## Finding the Outliers"
   ]
  },
  {
   "cell_type": "code",
   "execution_count": 133,
   "id": "1b8bbd49",
   "metadata": {},
   "outputs": [],
   "source": [
    "#Change 'Quantity' and 'Profit' value type from string to numerical data type\n",
    "\n",
    "df['Quantity'] = pd.to_numeric(df['Quantity'], errors='coerce')\n",
    "df['Profit'] = pd.to_numeric(df['Profit'], errors='coerce')"
   ]
  },
  {
   "cell_type": "code",
   "execution_count": 134,
   "id": "023ea2dc",
   "metadata": {},
   "outputs": [],
   "source": [
    "#For numrical data, Fill NaN values with mean\n",
    "\n",
    "mean_sales = df['Sales'].mean()\n",
    "mean_quantity = df['Quantity'].mean()\n",
    "mean_discount = df['Discount'].mean()\n",
    "mean_profit = df['Profit'].mean()\n",
    "\n",
    "df['Sales'].fillna(mean_sales, inplace=True)\n",
    "df['Quantity'].fillna(mean_quantity, inplace=True)\n",
    "df['Discount'].fillna(mean_discount, inplace=True)\n",
    "df['Profit'].fillna(mean_profit, inplace=True)"
   ]
  },
  {
   "cell_type": "code",
   "execution_count": 135,
   "id": "8233d3cd",
   "metadata": {},
   "outputs": [],
   "source": [
    "#Round 'Sales', 'Discount', and 'Profit' decimal places\n",
    "\n",
    "df['Sales'] = df['Sales'].round(1)\n",
    "df['Quantity'] = df['Quantity'].round(1)\n",
    "df['Discount'] = df['Discount'].round(2)\n",
    "df['Profit'] = df['Profit'].round(0)"
   ]
  },
  {
   "cell_type": "code",
   "execution_count": 136,
   "id": "0901fa8c",
   "metadata": {},
   "outputs": [
    {
     "data": {
      "text/html": [
       "<div>\n",
       "<style scoped>\n",
       "    .dataframe tbody tr th:only-of-type {\n",
       "        vertical-align: middle;\n",
       "    }\n",
       "\n",
       "    .dataframe tbody tr th {\n",
       "        vertical-align: top;\n",
       "    }\n",
       "\n",
       "    .dataframe thead th {\n",
       "        text-align: right;\n",
       "    }\n",
       "</style>\n",
       "<table border=\"1\" class=\"dataframe\">\n",
       "  <thead>\n",
       "    <tr style=\"text-align: right;\">\n",
       "      <th></th>\n",
       "      <th>Country</th>\n",
       "      <th>City</th>\n",
       "      <th>Customer ID</th>\n",
       "      <th>Product Name</th>\n",
       "      <th>Sales</th>\n",
       "      <th>Quantity</th>\n",
       "      <th>Discount</th>\n",
       "      <th>Profit</th>\n",
       "    </tr>\n",
       "  </thead>\n",
       "  <tbody>\n",
       "    <tr>\n",
       "      <th>0</th>\n",
       "      <td>United States</td>\n",
       "      <td>Lancaster</td>\n",
       "      <td>CS-12505</td>\n",
       "      <td>Cubify CubeX 3D Printer Double Head Print</td>\n",
       "      <td>4500.0</td>\n",
       "      <td>5.0</td>\n",
       "      <td>0.7</td>\n",
       "      <td>-6600.0</td>\n",
       "    </tr>\n",
       "    <tr>\n",
       "      <th>1</th>\n",
       "      <td>United States</td>\n",
       "      <td>Burlington</td>\n",
       "      <td>GT-14635</td>\n",
       "      <td>Cubify CubeX 3D Printer Triple Head Print</td>\n",
       "      <td>8000.0</td>\n",
       "      <td>4.0</td>\n",
       "      <td>0.5</td>\n",
       "      <td>-3840.0</td>\n",
       "    </tr>\n",
       "    <tr>\n",
       "      <th>2</th>\n",
       "      <td>United States</td>\n",
       "      <td>San Antonio</td>\n",
       "      <td>LF-17185</td>\n",
       "      <td>GBC DocuBind P400 Electric Binding System</td>\n",
       "      <td>2177.6</td>\n",
       "      <td>8.0</td>\n",
       "      <td>0.8</td>\n",
       "      <td>-3702.0</td>\n",
       "    </tr>\n",
       "    <tr>\n",
       "      <th>3</th>\n",
       "      <td>United States</td>\n",
       "      <td>Louisville</td>\n",
       "      <td>SR-20425</td>\n",
       "      <td>Lexmark MX611dhe Monochrome Laser Printer</td>\n",
       "      <td>2550.0</td>\n",
       "      <td>5.0</td>\n",
       "      <td>0.7</td>\n",
       "      <td>-3400.0</td>\n",
       "    </tr>\n",
       "    <tr>\n",
       "      <th>4</th>\n",
       "      <td>United States</td>\n",
       "      <td>Chicago</td>\n",
       "      <td>HG-14965</td>\n",
       "      <td>Ibico EPK-21 Electric Binding System</td>\n",
       "      <td>1890.0</td>\n",
       "      <td>5.0</td>\n",
       "      <td>0.8</td>\n",
       "      <td>-2929.0</td>\n",
       "    </tr>\n",
       "    <tr>\n",
       "      <th>5</th>\n",
       "      <td>United States</td>\n",
       "      <td>Newark</td>\n",
       "      <td>NF-18385</td>\n",
       "      <td>Cubify CubeX 3D Printer Double Head Print</td>\n",
       "      <td>1800.0</td>\n",
       "      <td>3.8</td>\n",
       "      <td>0.7</td>\n",
       "      <td>29.0</td>\n",
       "    </tr>\n",
       "    <tr>\n",
       "      <th>6</th>\n",
       "      <td>United States</td>\n",
       "      <td>Houston</td>\n",
       "      <td>NC-18415</td>\n",
       "      <td>Fellowes PB500 Electric Punch Plastic Comb Binding Machine with Manual Bind</td>\n",
       "      <td>1525.2</td>\n",
       "      <td>6.0</td>\n",
       "      <td>0.8</td>\n",
       "      <td>-2288.0</td>\n",
       "    </tr>\n",
       "    <tr>\n",
       "      <th>7</th>\n",
       "      <td>United States</td>\n",
       "      <td>Concord</td>\n",
       "      <td>JH-15985</td>\n",
       "      <td>Chromcraft Bull-Nose Wood Oval Conference Tables &amp; Bases</td>\n",
       "      <td>4297.6</td>\n",
       "      <td>3.8</td>\n",
       "      <td>0.4</td>\n",
       "      <td>29.0</td>\n",
       "    </tr>\n",
       "    <tr>\n",
       "      <th>8</th>\n",
       "      <td>United States</td>\n",
       "      <td>Houston</td>\n",
       "      <td>ZC-21910</td>\n",
       "      <td>GBC DocuBind P400 Electric Binding System</td>\n",
       "      <td>1088.8</td>\n",
       "      <td>4.0</td>\n",
       "      <td>0.8</td>\n",
       "      <td>-1851.0</td>\n",
       "    </tr>\n",
       "    <tr>\n",
       "      <th>9</th>\n",
       "      <td>NaN</td>\n",
       "      <td>Jacksonville</td>\n",
       "      <td>SM-20320</td>\n",
       "      <td>Cisco TelePresence System EX90 Videoconferencing Unit</td>\n",
       "      <td>22638.5</td>\n",
       "      <td>6.0</td>\n",
       "      <td>0.5</td>\n",
       "      <td>-1811.0</td>\n",
       "    </tr>\n",
       "  </tbody>\n",
       "</table>\n",
       "</div>"
      ],
      "text/plain": [
       "         Country          City Customer ID  \\\n",
       "0  United States     Lancaster    CS-12505   \n",
       "1  United States    Burlington    GT-14635   \n",
       "2  United States   San Antonio    LF-17185   \n",
       "3  United States    Louisville    SR-20425   \n",
       "4  United States       Chicago    HG-14965   \n",
       "5  United States        Newark    NF-18385   \n",
       "6  United States       Houston    NC-18415   \n",
       "7  United States       Concord    JH-15985   \n",
       "8  United States       Houston    ZC-21910   \n",
       "9            NaN  Jacksonville    SM-20320   \n",
       "\n",
       "                                                                  Product Name  \\\n",
       "0                                    Cubify CubeX 3D Printer Double Head Print   \n",
       "1                                    Cubify CubeX 3D Printer Triple Head Print   \n",
       "2                                    GBC DocuBind P400 Electric Binding System   \n",
       "3                                    Lexmark MX611dhe Monochrome Laser Printer   \n",
       "4                                         Ibico EPK-21 Electric Binding System   \n",
       "5                                    Cubify CubeX 3D Printer Double Head Print   \n",
       "6  Fellowes PB500 Electric Punch Plastic Comb Binding Machine with Manual Bind   \n",
       "7                     Chromcraft Bull-Nose Wood Oval Conference Tables & Bases   \n",
       "8                                    GBC DocuBind P400 Electric Binding System   \n",
       "9                        Cisco TelePresence System EX90 Videoconferencing Unit   \n",
       "\n",
       "     Sales  Quantity  Discount  Profit  \n",
       "0   4500.0       5.0       0.7 -6600.0  \n",
       "1   8000.0       4.0       0.5 -3840.0  \n",
       "2   2177.6       8.0       0.8 -3702.0  \n",
       "3   2550.0       5.0       0.7 -3400.0  \n",
       "4   1890.0       5.0       0.8 -2929.0  \n",
       "5   1800.0       3.8       0.7    29.0  \n",
       "6   1525.2       6.0       0.8 -2288.0  \n",
       "7   4297.6       3.8       0.4    29.0  \n",
       "8   1088.8       4.0       0.8 -1851.0  \n",
       "9  22638.5       6.0       0.5 -1811.0  "
      ]
     },
     "execution_count": 136,
     "metadata": {},
     "output_type": "execute_result"
    }
   ],
   "source": [
    "df[['Country','City','Customer ID','Product Name','Sales','Quantity','Discount','Profit']].head(10)"
   ]
  },
  {
   "cell_type": "code",
   "execution_count": 150,
   "id": "afda2352",
   "metadata": {},
   "outputs": [
    {
     "name": "stdout",
     "output_type": "stream",
     "text": [
      "Unique Countries: ['United States' 'US' '56']\n"
     ]
    }
   ],
   "source": [
    "unique_countries = df_Customer['Country'].unique()\n",
    "print(\"Unique Countries:\", unique_countries)"
   ]
  },
  {
   "cell_type": "code",
   "execution_count": 149,
   "id": "1a78752f",
   "metadata": {},
   "outputs": [],
   "source": [
    "unique_cities = df['City'].unique()\n",
    "#print(\"\\nUnique Cities:\", unique_cities)"
   ]
  },
  {
   "cell_type": "code",
   "execution_count": 140,
   "id": "43773126",
   "metadata": {},
   "outputs": [
    {
     "name": "stdout",
     "output_type": "stream",
     "text": [
      "         Country     City                          Product Name   Sales  \\\n",
      "4  United States  Chicago  Ibico EPK-21 Electric Binding System  1890.0   \n",
      "\n",
      "   Quantity  Discount  Profit  \n",
      "4       5.0       0.8 -2929.0  \n"
     ]
    }
   ],
   "source": [
    "# Filter rows where 'Order ID' is 'US-2017-122714'\n",
    "order_id_row = df[df['Order ID'] == 'US-2017-122714']\n",
    "\n",
    "# Display the filtered row\n",
    "print(order_id_row[['Country','City','Product Name','Sales','Quantity','Discount','Profit']])\n"
   ]
  },
  {
   "cell_type": "code",
   "execution_count": 141,
   "id": "9a8ad760",
   "metadata": {},
   "outputs": [],
   "source": [
    "# Identify and treat outliers in 'Sales' and 'Profit'\n",
    "# Example: Use z-score to identify and remove outliers\n",
    "from scipy.stats import zscore\n",
    "z_scores = zscore(df[['Sales', 'Profit']])\n",
    "df_no_outliers = df[(z_scores < 3).all(axis=1)]"
   ]
  },
  {
   "cell_type": "code",
   "execution_count": 142,
   "id": "17761cdb",
   "metadata": {},
   "outputs": [],
   "source": [
    "# Identify outliers in 'Sales' and 'Profit'\n",
    "# Apply treatment method, e.g., removing or transforming outliers"
   ]
  },
  {
   "cell_type": "code",
   "execution_count": 143,
   "id": "7cdce914",
   "metadata": {},
   "outputs": [],
   "source": [
    "from sklearn.preprocessing import MinMaxScaler\n",
    "\n",
    "# Select numerical variables for normalization and scaling\n",
    "numerical_vars = ['Sales', 'Quantity', 'Discount', 'Profit']\n",
    "\n",
    "# Apply Min-Max scaling\n",
    "scaler = MinMaxScaler()\n",
    "df[numerical_vars] = scaler.fit_transform(df[numerical_vars])"
   ]
  },
  {
   "cell_type": "code",
   "execution_count": 144,
   "id": "e876ef44",
   "metadata": {},
   "outputs": [
    {
     "name": "stdout",
     "output_type": "stream",
     "text": [
      "                    Sales    Profit\n",
      "Category                           \n",
      "Frnture          0.095187  0.411450\n",
      "Furniture        0.015286  0.440718\n",
      "Office Supplies  0.005253  0.441373\n",
      "Technology       0.019980  0.445347\n"
     ]
    }
   ],
   "source": [
    "# Demonstrate data aggregations or frequency distributions\n",
    "# Example: Group by 'Category' and calculate the mean of 'Sales' and 'Profit'\n",
    "group_data = df.groupby('Category')['Sales', 'Profit'].mean()\n",
    "print(group_data)"
   ]
  },
  {
   "cell_type": "code",
   "execution_count": 146,
   "id": "85e1fd2b",
   "metadata": {},
   "outputs": [],
   "source": [
    "# Identify and handle missing values\n",
    "missing_values = df.isnull().sum()\n",
    "# Example: Fill missing values in 'Sales' with the mean\n",
    "df['Sales'].fillna(df['Sales'].mean(), inplace=True)"
   ]
  },
  {
   "cell_type": "code",
   "execution_count": 148,
   "id": "12d92474",
   "metadata": {},
   "outputs": [
    {
     "name": "stdout",
     "output_type": "stream",
     "text": [
      "            Row ID     Sales  Quantity  Discount    Profit\n",
      "Row ID    1.000000 -0.001359 -0.004060  0.013480  0.012442\n",
      "Sales    -0.001359  1.000000  0.200819 -0.028190  0.479078\n",
      "Quantity -0.004060  0.200819  1.000000  0.008473  0.066307\n",
      "Discount  0.013480 -0.028190  0.008473  1.000000 -0.219393\n",
      "Profit    0.012442  0.479078  0.066307 -0.219393  1.000000\n"
     ]
    }
   ],
   "source": [
    "# Describe features that are related and the nature of that relationship\n",
    "correlation_matrix = df_Sales.corr()\n",
    "print(correlation_matrix)"
   ]
  },
  {
   "cell_type": "code",
   "execution_count": null,
   "id": "86cba7c1",
   "metadata": {},
   "outputs": [],
   "source": []
  }
 ],
 "metadata": {
  "kernelspec": {
   "display_name": "Python [conda env:jcopml]",
   "language": "python",
   "name": "conda-env-jcopml-py"
  },
  "language_info": {
   "codemirror_mode": {
    "name": "ipython",
    "version": 3
   },
   "file_extension": ".py",
   "mimetype": "text/x-python",
   "name": "python",
   "nbconvert_exporter": "python",
   "pygments_lexer": "ipython3",
   "version": "3.9.0"
  },
  "varInspector": {
   "cols": {
    "lenName": 16,
    "lenType": 16,
    "lenVar": 40
   },
   "kernels_config": {
    "python": {
     "delete_cmd_postfix": "",
     "delete_cmd_prefix": "del ",
     "library": "var_list.py",
     "varRefreshCmd": "print(var_dic_list())"
    },
    "r": {
     "delete_cmd_postfix": ") ",
     "delete_cmd_prefix": "rm(",
     "library": "var_list.r",
     "varRefreshCmd": "cat(var_dic_list()) "
    }
   },
   "types_to_exclude": [
    "module",
    "function",
    "builtin_function_or_method",
    "instance",
    "_Feature"
   ],
   "window_display": false
  }
 },
 "nbformat": 4,
 "nbformat_minor": 5
}
