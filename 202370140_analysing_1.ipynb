{
 "cells": [
  {
   "cell_type": "markdown",
   "id": "f7d52059",
   "metadata": {},
   "source": [
    "# TASK 2b"
   ]
  },
  {
   "cell_type": "code",
   "execution_count": 1,
   "id": "03bd4a29",
   "metadata": {},
   "outputs": [],
   "source": [
    "#import os\n",
    "import numpy as np\n",
    "import pandas as pd\n",
    "from sklearn import tree\n",
    "import matplotlib.pyplot as plt\n",
    "from scipy.stats import zscore\n",
    "from sklearn.preprocessing import MinMaxScaler\n",
    "import seaborn as sns\n",
    "pd.set_option('display.max_colwidth', 160)\n",
    "import warnings\n",
    "warnings.filterwarnings('ignore')"
   ]
  },
  {
   "cell_type": "code",
   "execution_count": 2,
   "id": "08bf3b93",
   "metadata": {},
   "outputs": [
    {
     "data": {
      "text/html": [
       "<div>\n",
       "<style scoped>\n",
       "    .dataframe tbody tr th:only-of-type {\n",
       "        vertical-align: middle;\n",
       "    }\n",
       "\n",
       "    .dataframe tbody tr th {\n",
       "        vertical-align: top;\n",
       "    }\n",
       "\n",
       "    .dataframe thead th {\n",
       "        text-align: right;\n",
       "    }\n",
       "</style>\n",
       "<table border=\"1\" class=\"dataframe\">\n",
       "  <thead>\n",
       "    <tr style=\"text-align: right;\">\n",
       "      <th></th>\n",
       "      <th>Row ID</th>\n",
       "      <th>Product ID</th>\n",
       "      <th>Category</th>\n",
       "      <th>Sub-Category</th>\n",
       "      <th>Product Name</th>\n",
       "      <th>Sales</th>\n",
       "      <th>Quantity</th>\n",
       "      <th>Discount</th>\n",
       "      <th>Profit</th>\n",
       "      <th>Customer ID</th>\n",
       "      <th>...</th>\n",
       "      <th>Segment</th>\n",
       "      <th>Country</th>\n",
       "      <th>City</th>\n",
       "      <th>State</th>\n",
       "      <th>Postal Code</th>\n",
       "      <th>Region</th>\n",
       "      <th>Order ID</th>\n",
       "      <th>Order Date</th>\n",
       "      <th>Ship Date</th>\n",
       "      <th>Ship Mode</th>\n",
       "    </tr>\n",
       "  </thead>\n",
       "  <tbody>\n",
       "    <tr>\n",
       "      <th>0</th>\n",
       "      <td>9798</td>\n",
       "      <td>TEC-PH-10004977</td>\n",
       "      <td>Technology</td>\n",
       "      <td>Phones</td>\n",
       "      <td>GE 30524EE4</td>\n",
       "      <td>235.188</td>\n",
       "      <td>2</td>\n",
       "      <td>0.4</td>\n",
       "      <td>-43.1178</td>\n",
       "      <td>CS-12490</td>\n",
       "      <td>...</td>\n",
       "      <td>Corporate</td>\n",
       "      <td>United States</td>\n",
       "      <td>Toledo</td>\n",
       "      <td>Ohio</td>\n",
       "      <td>43615</td>\n",
       "      <td>East</td>\n",
       "      <td>CA-2015-128608</td>\n",
       "      <td>2015-01-12</td>\n",
       "      <td>2015-01-17</td>\n",
       "      <td>Standard Class</td>\n",
       "    </tr>\n",
       "    <tr>\n",
       "      <th>1</th>\n",
       "      <td>5065</td>\n",
       "      <td>TEC-PH-10004977</td>\n",
       "      <td>Technology</td>\n",
       "      <td>Phones</td>\n",
       "      <td>GE 30524EE4</td>\n",
       "      <td>391.980</td>\n",
       "      <td>2</td>\n",
       "      <td>0.0</td>\n",
       "      <td>113.6742</td>\n",
       "      <td>CA-12265</td>\n",
       "      <td>...</td>\n",
       "      <td>Consumer</td>\n",
       "      <td>United States</td>\n",
       "      <td>Wilmington</td>\n",
       "      <td>Delaware</td>\n",
       "      <td>19805</td>\n",
       "      <td>East</td>\n",
       "      <td>CA-2017-122196</td>\n",
       "      <td>2017-09-22</td>\n",
       "      <td>2017-09-24</td>\n",
       "      <td>First Class</td>\n",
       "    </tr>\n",
       "    <tr>\n",
       "      <th>2</th>\n",
       "      <td>7502</td>\n",
       "      <td>TEC-PH-10004977</td>\n",
       "      <td>Technology</td>\n",
       "      <td>Phones</td>\n",
       "      <td>GE 30524EE4</td>\n",
       "      <td>470.376</td>\n",
       "      <td>3</td>\n",
       "      <td>0.2</td>\n",
       "      <td>52.9173</td>\n",
       "      <td>TC-21295</td>\n",
       "      <td>...</td>\n",
       "      <td>Consumer</td>\n",
       "      <td>United States</td>\n",
       "      <td>Westminster</td>\n",
       "      <td>California</td>\n",
       "      <td>92683</td>\n",
       "      <td>West</td>\n",
       "      <td>CA-2017-121048</td>\n",
       "      <td>2017-07-14</td>\n",
       "      <td>2017-07-18</td>\n",
       "      <td>Standard Class</td>\n",
       "    </tr>\n",
       "    <tr>\n",
       "      <th>3</th>\n",
       "      <td>9728</td>\n",
       "      <td>TEC-PH-10004977</td>\n",
       "      <td>Technology</td>\n",
       "      <td>Phones</td>\n",
       "      <td>GE 30524EE4</td>\n",
       "      <td>979.950</td>\n",
       "      <td>5</td>\n",
       "      <td>0.0</td>\n",
       "      <td>284.1855</td>\n",
       "      <td>KM-16720</td>\n",
       "      <td>...</td>\n",
       "      <td>Consumer</td>\n",
       "      <td>United States</td>\n",
       "      <td>Lowell</td>\n",
       "      <td>Massachusetts</td>\n",
       "      <td>1852</td>\n",
       "      <td>East</td>\n",
       "      <td>CA-2017-167395</td>\n",
       "      <td>2017-12-02</td>\n",
       "      <td>2017-12-04</td>\n",
       "      <td>First Class</td>\n",
       "    </tr>\n",
       "    <tr>\n",
       "      <th>4</th>\n",
       "      <td>582</td>\n",
       "      <td>TEC-PH-10004977</td>\n",
       "      <td>Technology</td>\n",
       "      <td>Phones</td>\n",
       "      <td>GE 30524EE4</td>\n",
       "      <td>470.376</td>\n",
       "      <td>3</td>\n",
       "      <td>0.2</td>\n",
       "      <td>52.9173</td>\n",
       "      <td>DV-13465</td>\n",
       "      <td>...</td>\n",
       "      <td>Consumer</td>\n",
       "      <td>United States</td>\n",
       "      <td>Denver</td>\n",
       "      <td>Colorado</td>\n",
       "      <td>80219</td>\n",
       "      <td>West</td>\n",
       "      <td>CA-2017-145233</td>\n",
       "      <td>2017-12-01</td>\n",
       "      <td>2017-12-05</td>\n",
       "      <td>Standard Class</td>\n",
       "    </tr>\n",
       "    <tr>\n",
       "      <th>5</th>\n",
       "      <td>7478</td>\n",
       "      <td>TEC-PH-10004977</td>\n",
       "      <td>Technology</td>\n",
       "      <td>Phones</td>\n",
       "      <td>GE 30524EE4</td>\n",
       "      <td>391.980</td>\n",
       "      <td>2</td>\n",
       "      <td>0.0</td>\n",
       "      <td>113.6742</td>\n",
       "      <td>ME-17320</td>\n",
       "      <td>...</td>\n",
       "      <td>Home Office</td>\n",
       "      <td>United States</td>\n",
       "      <td>Henderson</td>\n",
       "      <td>Kentucky</td>\n",
       "      <td>42420</td>\n",
       "      <td>South</td>\n",
       "      <td>CA-2014-167199</td>\n",
       "      <td>2014-01-06</td>\n",
       "      <td>2014-01-10</td>\n",
       "      <td>Standard Class</td>\n",
       "    </tr>\n",
       "    <tr>\n",
       "      <th>6</th>\n",
       "      <td>36</td>\n",
       "      <td>TEC-PH-10004977</td>\n",
       "      <td>Technology</td>\n",
       "      <td>Phones</td>\n",
       "      <td>GE 30524EE4</td>\n",
       "      <td>1097.544</td>\n",
       "      <td>7</td>\n",
       "      <td>0.2</td>\n",
       "      <td>123.4737</td>\n",
       "      <td>GH-14485</td>\n",
       "      <td>...</td>\n",
       "      <td>Corporate</td>\n",
       "      <td>United States</td>\n",
       "      <td>Richardson</td>\n",
       "      <td>Texas</td>\n",
       "      <td>75080</td>\n",
       "      <td>Central</td>\n",
       "      <td>CA-2016-117590</td>\n",
       "      <td>2016-12-08</td>\n",
       "      <td>2016-12-10</td>\n",
       "      <td>First Class</td>\n",
       "    </tr>\n",
       "    <tr>\n",
       "      <th>7</th>\n",
       "      <td>3132</td>\n",
       "      <td>TEC-PH-10004977</td>\n",
       "      <td>Technology</td>\n",
       "      <td>Phones</td>\n",
       "      <td>GE 30524EE4</td>\n",
       "      <td>627.168</td>\n",
       "      <td>4</td>\n",
       "      <td>0.2</td>\n",
       "      <td>70.5564</td>\n",
       "      <td>CC-12100</td>\n",
       "      <td>...</td>\n",
       "      <td>Home Office</td>\n",
       "      <td>United States</td>\n",
       "      <td>Los Angeles</td>\n",
       "      <td>California</td>\n",
       "      <td>90049</td>\n",
       "      <td>West</td>\n",
       "      <td>CA-2014-136399</td>\n",
       "      <td>2014-12-16</td>\n",
       "      <td>2014-12-17</td>\n",
       "      <td>First Class</td>\n",
       "    </tr>\n",
       "    <tr>\n",
       "      <th>8</th>\n",
       "      <td>6636</td>\n",
       "      <td>TEC-PH-10004977</td>\n",
       "      <td>Technology</td>\n",
       "      <td>Phones</td>\n",
       "      <td>GE 30524EE4</td>\n",
       "      <td>627.168</td>\n",
       "      <td>4</td>\n",
       "      <td>0.2</td>\n",
       "      <td>70.5564</td>\n",
       "      <td>MB-18085</td>\n",
       "      <td>...</td>\n",
       "      <td>Consumer</td>\n",
       "      <td>United States</td>\n",
       "      <td>Charlotte</td>\n",
       "      <td>North Carolina</td>\n",
       "      <td>28205</td>\n",
       "      <td>South</td>\n",
       "      <td>CA-2017-144498</td>\n",
       "      <td>2017-06-05</td>\n",
       "      <td>2017-06-05</td>\n",
       "      <td>Same Day</td>\n",
       "    </tr>\n",
       "    <tr>\n",
       "      <th>9</th>\n",
       "      <td>3331</td>\n",
       "      <td>TEC-PH-10004959</td>\n",
       "      <td>Technology</td>\n",
       "      <td>Phones</td>\n",
       "      <td>Classic Ivory Antique Telephone ZL1810</td>\n",
       "      <td>241.176</td>\n",
       "      <td>3</td>\n",
       "      <td>0.2</td>\n",
       "      <td>15.0735</td>\n",
       "      <td>KD-16270</td>\n",
       "      <td>...</td>\n",
       "      <td>Consumer</td>\n",
       "      <td>United States</td>\n",
       "      <td>Houston</td>\n",
       "      <td>Texas</td>\n",
       "      <td>77095</td>\n",
       "      <td>Central</td>\n",
       "      <td>CA-2014-165309</td>\n",
       "      <td>2014-11-11</td>\n",
       "      <td>2014-11-15</td>\n",
       "      <td>Standard Class</td>\n",
       "    </tr>\n",
       "  </tbody>\n",
       "</table>\n",
       "<p>10 rows × 21 columns</p>\n",
       "</div>"
      ],
      "text/plain": [
       "   Row ID       Product ID    Category Sub-Category  \\\n",
       "0    9798  TEC-PH-10004977  Technology       Phones   \n",
       "1    5065  TEC-PH-10004977  Technology       Phones   \n",
       "2    7502  TEC-PH-10004977  Technology       Phones   \n",
       "3    9728  TEC-PH-10004977  Technology       Phones   \n",
       "4     582  TEC-PH-10004977  Technology       Phones   \n",
       "5    7478  TEC-PH-10004977  Technology       Phones   \n",
       "6      36  TEC-PH-10004977  Technology       Phones   \n",
       "7    3132  TEC-PH-10004977  Technology       Phones   \n",
       "8    6636  TEC-PH-10004977  Technology       Phones   \n",
       "9    3331  TEC-PH-10004959  Technology       Phones   \n",
       "\n",
       "                             Product Name     Sales  Quantity  Discount  \\\n",
       "0                             GE 30524EE4   235.188         2       0.4   \n",
       "1                             GE 30524EE4   391.980         2       0.0   \n",
       "2                             GE 30524EE4   470.376         3       0.2   \n",
       "3                             GE 30524EE4   979.950         5       0.0   \n",
       "4                             GE 30524EE4   470.376         3       0.2   \n",
       "5                             GE 30524EE4   391.980         2       0.0   \n",
       "6                             GE 30524EE4  1097.544         7       0.2   \n",
       "7                             GE 30524EE4   627.168         4       0.2   \n",
       "8                             GE 30524EE4   627.168         4       0.2   \n",
       "9  Classic Ivory Antique Telephone ZL1810   241.176         3       0.2   \n",
       "\n",
       "     Profit Customer ID  ...      Segment        Country         City  \\\n",
       "0  -43.1178    CS-12490  ...    Corporate  United States       Toledo   \n",
       "1  113.6742    CA-12265  ...     Consumer  United States   Wilmington   \n",
       "2   52.9173    TC-21295  ...     Consumer  United States  Westminster   \n",
       "3  284.1855    KM-16720  ...     Consumer  United States       Lowell   \n",
       "4   52.9173    DV-13465  ...     Consumer  United States       Denver   \n",
       "5  113.6742    ME-17320  ...  Home Office  United States    Henderson   \n",
       "6  123.4737    GH-14485  ...    Corporate  United States   Richardson   \n",
       "7   70.5564    CC-12100  ...  Home Office  United States  Los Angeles   \n",
       "8   70.5564    MB-18085  ...     Consumer  United States    Charlotte   \n",
       "9   15.0735    KD-16270  ...     Consumer  United States      Houston   \n",
       "\n",
       "            State Postal Code   Region        Order ID  Order Date  \\\n",
       "0            Ohio       43615     East  CA-2015-128608  2015-01-12   \n",
       "1        Delaware       19805     East  CA-2017-122196  2017-09-22   \n",
       "2      California       92683     West  CA-2017-121048  2017-07-14   \n",
       "3   Massachusetts        1852     East  CA-2017-167395  2017-12-02   \n",
       "4        Colorado       80219     West  CA-2017-145233  2017-12-01   \n",
       "5        Kentucky       42420    South  CA-2014-167199  2014-01-06   \n",
       "6           Texas       75080  Central  CA-2016-117590  2016-12-08   \n",
       "7      California       90049     West  CA-2014-136399  2014-12-16   \n",
       "8  North Carolina       28205    South  CA-2017-144498  2017-06-05   \n",
       "9           Texas       77095  Central  CA-2014-165309  2014-11-11   \n",
       "\n",
       "    Ship Date       Ship Mode  \n",
       "0  2015-01-17  Standard Class  \n",
       "1  2017-09-24     First Class  \n",
       "2  2017-07-18  Standard Class  \n",
       "3  2017-12-04     First Class  \n",
       "4  2017-12-05  Standard Class  \n",
       "5  2014-01-10  Standard Class  \n",
       "6  2016-12-10     First Class  \n",
       "7  2014-12-17     First Class  \n",
       "8  2017-06-05        Same Day  \n",
       "9  2014-11-15  Standard Class  \n",
       "\n",
       "[10 rows x 21 columns]"
      ]
     },
     "execution_count": 2,
     "metadata": {},
     "output_type": "execute_result"
    }
   ],
   "source": [
    "input_file = \"sample-superstore_2023_T3_clean.csv\"\n",
    "df1 = pd.read_csv(input_file, header = 0)\n",
    "df1.head(10)"
   ]
  },
  {
   "cell_type": "code",
   "execution_count": 3,
   "id": "214a6490",
   "metadata": {},
   "outputs": [
    {
     "data": {
      "text/plain": [
       "9994"
      ]
     },
     "execution_count": 3,
     "metadata": {},
     "output_type": "execute_result"
    }
   ],
   "source": [
    "len(df1)"
   ]
  },
  {
   "cell_type": "code",
   "execution_count": 4,
   "id": "3b2a8321",
   "metadata": {},
   "outputs": [
    {
     "name": "stdout",
     "output_type": "stream",
     "text": [
      "Index(['Row ID', 'Product ID', 'Category', 'Sub-Category', 'Product Name',\n",
      "       'Sales', 'Quantity', 'Discount', 'Profit', 'Customer ID',\n",
      "       'Customer Name', 'Segment', 'Country', 'City', 'State', 'Postal Code',\n",
      "       'Region', 'Order ID', 'Order Date', 'Ship Date', 'Ship Mode'],\n",
      "      dtype='object')\n"
     ]
    }
   ],
   "source": [
    "print(df1.columns)"
   ]
  },
  {
   "cell_type": "code",
   "execution_count": 5,
   "id": "b5a5b6b7",
   "metadata": {},
   "outputs": [
    {
     "data": {
      "text/plain": [
       "Row ID           0\n",
       "Product ID       0\n",
       "Category         0\n",
       "Sub-Category     0\n",
       "Product Name     0\n",
       "Sales            0\n",
       "Quantity         0\n",
       "Discount         0\n",
       "Profit           0\n",
       "Customer ID      0\n",
       "Customer Name    0\n",
       "Segment          0\n",
       "Country          0\n",
       "City             0\n",
       "State            0\n",
       "Postal Code      0\n",
       "Region           0\n",
       "Order ID         0\n",
       "Order Date       0\n",
       "Ship Date        0\n",
       "Ship Mode        0\n",
       "dtype: int64"
      ]
     },
     "execution_count": 5,
     "metadata": {},
     "output_type": "execute_result"
    }
   ],
   "source": [
    "#Check updated missing value in df\n",
    "df1.isnull().sum()"
   ]
  },
  {
   "cell_type": "code",
   "execution_count": 6,
   "id": "bdd4abca",
   "metadata": {},
   "outputs": [
    {
     "name": "stdout",
     "output_type": "stream",
     "text": [
      "Row ID             int64\n",
      "Product ID        object\n",
      "Category          object\n",
      "Sub-Category      object\n",
      "Product Name      object\n",
      "Sales            float64\n",
      "Quantity           int64\n",
      "Discount         float64\n",
      "Profit           float64\n",
      "Customer ID       object\n",
      "Customer Name     object\n",
      "Segment           object\n",
      "Country           object\n",
      "City              object\n",
      "State             object\n",
      "Postal Code       object\n",
      "Region            object\n",
      "Order ID          object\n",
      "Order Date        object\n",
      "Ship Date         object\n",
      "Ship Mode         object\n",
      "dtype: object\n"
     ]
    }
   ],
   "source": [
    "# Data types of each column\n",
    "print(df1.dtypes)"
   ]
  },
  {
   "cell_type": "markdown",
   "id": "f1aa7ebe",
   "metadata": {},
   "source": [
    "## Descriptive Statistic"
   ]
  },
  {
   "cell_type": "code",
   "execution_count": 7,
   "id": "5a764858",
   "metadata": {},
   "outputs": [
    {
     "name": "stdout",
     "output_type": "stream",
     "text": [
      "            Row ID         Sales     Quantity     Discount       Profit\n",
      "count  9994.000000   9994.000000  9994.000000  9994.000000  9994.000000\n",
      "mean   4997.500000    229.858001     3.785471     0.156203    28.669940\n",
      "std    2885.163629    623.245101     2.223391     0.206452   234.257639\n",
      "min       1.000000      0.444000     0.000000     0.000000 -6599.978000\n",
      "25%    2499.250000     17.280000     2.000000     0.000000     1.731375\n",
      "50%    4997.500000     54.490000     3.000000     0.200000     8.671250\n",
      "75%    7495.750000    209.940000     5.000000     0.200000    29.364000\n",
      "max    9994.000000  22638.480000    14.000000     0.800000  8399.976000\n"
     ]
    }
   ],
   "source": [
    "print(df1.describe())"
   ]
  },
  {
   "cell_type": "code",
   "execution_count": 8,
   "id": "69e244ba",
   "metadata": {},
   "outputs": [
    {
     "data": {
      "image/png": "[encoded data removed]",
      "text/plain": [
       "<Figure size 1000x800 with 4 Axes>"
      ]
     },
     "metadata": {},
     "output_type": "display_data"
    }
   ],
   "source": [
    "columns_to_plot = ['Sales', 'Quantity', 'Discount', 'Profit']\n",
    "\n",
    "plt.figure(figsize=(10, 8))\n",
    "for i, column in enumerate(columns_to_plot, 1):\n",
    "    plt.subplot(2, 2, i)\n",
    "    plt.hist(df1[column].dropna(), bins=30, edgecolor='k', alpha=0.7)\n",
    "    plt.title(f'{column}')\n",
    "    plt.xlabel(column)\n",
    "    plt.ylabel('Frequency')\n",
    "\n",
    "plt.tight_layout()\n",
    "plt.show()"
   ]
  },
  {
   "cell_type": "code",
   "execution_count": 24,
   "id": "dedddffa",
   "metadata": {},
   "outputs": [
    {
     "data": {
      "text/plain": [
       "<matplotlib.legend.Legend at 0x27664f991c0>"
      ]
     },
     "execution_count": 24,
     "metadata": {},
     "output_type": "execute_result"
    },
    {
     "data": {
      "image/png": "[encoded data removed]",
      "text/plain": [
       "<Figure size 800x500 with 1 Axes>"
      ]
     },
     "metadata": {},
     "output_type": "display_data"
    }
   ],
   "source": [
    "# plot the three dataframes for Discount and Sales columns in df1\n",
    "\n",
    "plt.rcParams[\"figure.figsize\"] = [8,5]\n",
    "plt.scatter(df1['Discount'], df1['Sales'], color='green',label='Discount - Sales')\n",
    "plt.title(\"\", size=14)\n",
    "plt.xlabel(\"Discount\", size=14)\n",
    "plt.ylabel(\"Profit\", size=14)\n",
    "plt.legend()\n",
    "#plt.savefig(\"\",transparent=False, bbox_inches='tight',pad_inches=0.1)"
   ]
  },
  {
   "cell_type": "markdown",
   "id": "59a448d7",
   "metadata": {},
   "source": [
    "### Use z-score to identify and remove outliers in ['Sales', 'Quantity', 'Discount', 'Profit']"
   ]
  },
  {
   "cell_type": "code",
   "execution_count": 9,
   "id": "9a8ad760",
   "metadata": {},
   "outputs": [],
   "source": [
    "z_scores = zscore(df1[['Sales', 'Quantity', 'Discount', 'Profit']])\n",
    "df1_no_outliers = df1[(abs(z_scores) < 3).all(axis=1)]"
   ]
  },
  {
   "cell_type": "code",
   "execution_count": 25,
   "id": "4823da86",
   "metadata": {},
   "outputs": [
    {
     "data": {
      "text/plain": [
       "<matplotlib.legend.Legend at 0x27664c32ac0>"
      ]
     },
     "execution_count": 25,
     "metadata": {},
     "output_type": "execute_result"
    },
    {
     "data": {
      "image/png": "[encoded data removed]",
      "text/plain": [
       "<Figure size 800x500 with 1 Axes>"
      ]
     },
     "metadata": {},
     "output_type": "display_data"
    }
   ],
   "source": [
    "# plot the three dataframes for Discount and Sales columns in df1_no_outliers\n",
    "\n",
    "plt.rcParams[\"figure.figsize\"] = [8,5]\n",
    "plt.scatter(df1_no_outliers['Discount'], df1_no_outliers['Sales'], color='green',label='Discount - Sales')\n",
    "plt.title(\"\", size=14)\n",
    "plt.xlabel(\"Discount\", size=14)\n",
    "plt.ylabel(\"Sales\", size=14)\n",
    "plt.legend()\n",
    "#plt.savefig(\"\",transparent=False, bbox_inches='tight',pad_inches=0.1)"
   ]
  },
  {
   "cell_type": "markdown",
   "id": "a444dac0",
   "metadata": {},
   "source": [
    "Interpretaion: The bigger discount "
   ]
  },
  {
   "cell_type": "markdown",
   "id": "26a359e7",
   "metadata": {},
   "source": [
    "### Scaling the variables"
   ]
  },
  {
   "cell_type": "code",
   "execution_count": 11,
   "id": "95c0dfb0",
   "metadata": {},
   "outputs": [
    {
     "data": {
      "text/html": [
       "<div>\n",
       "<style scoped>\n",
       "    .dataframe tbody tr th:only-of-type {\n",
       "        vertical-align: middle;\n",
       "    }\n",
       "\n",
       "    .dataframe tbody tr th {\n",
       "        vertical-align: top;\n",
       "    }\n",
       "\n",
       "    .dataframe thead th {\n",
       "        text-align: right;\n",
       "    }\n",
       "</style>\n",
       "<table border=\"1\" class=\"dataframe\">\n",
       "  <thead>\n",
       "    <tr style=\"text-align: right;\">\n",
       "      <th></th>\n",
       "      <th>Sales</th>\n",
       "      <th>Quantity</th>\n",
       "      <th>Discount</th>\n",
       "      <th>Profit</th>\n",
       "    </tr>\n",
       "  </thead>\n",
       "  <tbody>\n",
       "    <tr>\n",
       "      <th>0</th>\n",
       "      <td>0.112740</td>\n",
       "      <td>0.2</td>\n",
       "      <td>0.571429</td>\n",
       "      <td>0.450216</td>\n",
       "    </tr>\n",
       "    <tr>\n",
       "      <th>1</th>\n",
       "      <td>0.188174</td>\n",
       "      <td>0.2</td>\n",
       "      <td>0.000000</td>\n",
       "      <td>0.565907</td>\n",
       "    </tr>\n",
       "    <tr>\n",
       "      <th>2</th>\n",
       "      <td>0.225890</td>\n",
       "      <td>0.3</td>\n",
       "      <td>0.285714</td>\n",
       "      <td>0.521077</td>\n",
       "    </tr>\n",
       "  </tbody>\n",
       "</table>\n",
       "</div>"
      ],
      "text/plain": [
       "      Sales  Quantity  Discount    Profit\n",
       "0  0.112740       0.2  0.571429  0.450216\n",
       "1  0.188174       0.2  0.000000  0.565907\n",
       "2  0.225890       0.3  0.285714  0.521077"
      ]
     },
     "execution_count": 11,
     "metadata": {},
     "output_type": "execute_result"
    }
   ],
   "source": [
    "scaler = MinMaxScaler() # Apply Min-Max scaling\n",
    "numerical_vars = ['Sales', 'Quantity', 'Discount', 'Profit']\n",
    "df1_no_outliers[numerical_vars] = scaler.fit_transform(df1_no_outliers[numerical_vars])\n",
    "df1_no_outliers[numerical_vars].head(3)"
   ]
  },
  {
   "cell_type": "markdown",
   "id": "090b06f7",
   "metadata": {},
   "source": [
    "### Calculate the correlation matrix for the numerical variables"
   ]
  },
  {
   "cell_type": "code",
   "execution_count": 13,
   "id": "8046dc50",
   "metadata": {},
   "outputs": [
    {
     "name": "stdout",
     "output_type": "stream",
     "text": [
      "             Sales  Quantity  Discount    Profit\n",
      "Sales     1.000000  0.251509 -0.010596  0.449966\n",
      "Quantity  0.251509  1.000000  0.001035  0.123694\n",
      "Discount -0.010596  0.001035  1.000000 -0.359503\n",
      "Profit    0.449966  0.123694 -0.359503  1.000000\n"
     ]
    }
   ],
   "source": [
    "correlation_matrix = df1_no_outliers[numerical_vars].corr()\n",
    "print(correlation_matrix)"
   ]
  },
  {
   "cell_type": "markdown",
   "id": "cc26d9bc",
   "metadata": {},
   "source": [
    "Interpretation:\n",
    "\n",
    "Sales and Profit (0.449966): A moderate positive correlation between Sales and Profit. As Sales increase, Profit tends to increase as well.\n",
    "\n",
    "Sales and Quantity (0.251509): A mild positive correlation between Sales and Quantity. The higher quantities sold, the higher sales might be, but the relationship is not as strong as between Sales and Profit.\n",
    "\n",
    "Discount and Profit (-0.359503): A moderate negative correlation between Discount and Profit. The higher discounts associated with lower profits. Discounts might increase sales volume or quantity, it may reduce profit margins."
   ]
  },
  {
   "cell_type": "markdown",
   "id": "6a7ed7fb",
   "metadata": {},
   "source": [
    "## Correlation Analysis for Numerical vs Numerical"
   ]
  },
  {
   "cell_type": "markdown",
   "id": "3e9d6580",
   "metadata": {},
   "source": [
    "### Data aggregations or frequency distributions, Group by 'Category' and calculate the mean of 'Sales' and 'Profit'"
   ]
  },
  {
   "cell_type": "code",
   "execution_count": 15,
   "id": "e876ef44",
   "metadata": {},
   "outputs": [
    {
     "name": "stdout",
     "output_type": "stream",
     "text": [
      "                    Sales  Quantity  Discount    Profit\n",
      "Category                                               \n",
      "Furniture        0.145086  0.361426  0.249789  0.487752\n",
      "Office Supplies  0.045752  0.368867  0.175795  0.497126\n",
      "Technology       0.141447  0.356899  0.187978  0.517914\n"
     ]
    }
   ],
   "source": [
    "Category_num = df1_no_outliers.groupby('Category')['Sales', 'Quantity', 'Discount', 'Profit'].mean()\n",
    "print(Category_num)"
   ]
  },
  {
   "cell_type": "markdown",
   "id": "77bcc339",
   "metadata": {},
   "source": [
    "### Describe features that are related and the nature of that relationship"
   ]
  },
  {
   "cell_type": "code",
   "execution_count": 16,
   "id": "12d92474",
   "metadata": {},
   "outputs": [
    {
     "name": "stdout",
     "output_type": "stream",
     "text": [
      "             Sales  Quantity  Discount    Profit\n",
      "Sales     1.000000 -0.914579  0.651884  0.181800\n",
      "Quantity -0.914579  1.000000 -0.289528 -0.563939\n",
      "Discount  0.651884 -0.289528  1.000000 -0.627170\n",
      "Profit    0.181800 -0.563939 -0.627170  1.000000\n"
     ]
    }
   ],
   "source": [
    "correlation_matrix_Category_num = Category_num.corr()\n",
    "print(correlation_matrix_Category_num)"
   ]
  },
  {
   "cell_type": "markdown",
   "id": "d5daed4d",
   "metadata": {},
   "source": [
    "There is a positive correlation between Sales and Profit with correlation coefficient 0.305937. As one variable increases, the other variable tends to also increase. As the Sales increase, Profit also tends to increase.\n",
    "\n",
    "The correlation coefficient of 0.305937 is a moderate strength of association.\n",
    "\n",
    "The higher sales are associated with higher profits, but the relationship is not very strong, possibly there are influence of other variables on profits as well."
   ]
  },
  {
   "cell_type": "markdown",
   "id": "10f20723",
   "metadata": {},
   "source": [
    "### Data aggregations or frequency distributions, Group by 'Category' and calculate the mean of 'Discount' and 'Profit'"
   ]
  },
  {
   "cell_type": "code",
   "execution_count": 18,
   "id": "86cba7c1",
   "metadata": {},
   "outputs": [
    {
     "name": "stdout",
     "output_type": "stream",
     "text": [
      "                 Discount     Profit\n",
      "Category                            \n",
      "Furniture        0.173923   8.735818\n",
      "Office Supplies  0.157285  20.335838\n",
      "Technology       0.132323  78.752002\n"
     ]
    }
   ],
   "source": [
    "Discount_Profit = df1.groupby('Category')['Discount', 'Profit'].mean()\n",
    "print(Discount_Profit)"
   ]
  },
  {
   "cell_type": "code",
   "execution_count": 19,
   "id": "3afb63e8",
   "metadata": {},
   "outputs": [
    {
     "name": "stdout",
     "output_type": "stream",
     "text": [
      "          Discount    Profit\n",
      "Discount  1.000000 -0.968068\n",
      "Profit   -0.968068  1.000000\n"
     ]
    }
   ],
   "source": [
    "correlation_matrix_Discount_Profit = Discount_Profit.corr()\n",
    "print(correlation_matrix_Discount_Profit)"
   ]
  },
  {
   "cell_type": "markdown",
   "id": "b493fc2c",
   "metadata": {},
   "source": [
    "# Task 3"
   ]
  },
  {
   "cell_type": "markdown",
   "id": "ee15cac4",
   "metadata": {},
   "source": [
    "## Bivariate Analysis of Two Categorical Variables"
   ]
  },
  {
   "cell_type": "code",
   "execution_count": 20,
   "id": "cd8543e8",
   "metadata": {},
   "outputs": [
    {
     "name": "stdout",
     "output_type": "stream",
     "text": [
      "Ship Mode    First Class  Same Day  Second Class  Standard Class\n",
      "Segment                                                         \n",
      "Consumer             769       317          1021            3084\n",
      "Corporate            485       114           610            1811\n",
      "Home Office          284       112           316            1071\n"
     ]
    }
   ],
   "source": [
    "# cross-tabulation (contingency table)\n",
    "crosstab = pd.crosstab(df1['Segment'], df1['Ship Mode'])\n",
    "print(crosstab)"
   ]
  },
  {
   "cell_type": "code",
   "execution_count": 22,
   "id": "c3b76c26",
   "metadata": {},
   "outputs": [
    {
     "data": {
      "image/png": "[encoded data removed]",
      "text/plain": [
       "<Figure size 1000x600 with 1 Axes>"
      ]
     },
     "metadata": {},
     "output_type": "display_data"
    }
   ],
   "source": [
    "# Bar chart of 'Segment' and 'Ship Mode'\n",
    "plt.figure(figsize=(10, 6))\n",
    "sns.countplot(x='Segment', hue='Ship Mode', data=df1)\n",
    "plt.title('Distribution of Ship Modes Across Segments')\n",
    "plt.xlabel('Segment')\n",
    "plt.ylabel('Count')\n",
    "plt.legend(title='Ship Mode')\n",
    "plt.show()"
   ]
  },
  {
   "cell_type": "markdown",
   "id": "573d9a60",
   "metadata": {},
   "source": [
    "<span style=\"color: green;\">Interpretation: Standard Class is the preferred mode of shipping across all segments.</span>"
   ]
  },
  {
   "cell_type": "markdown",
   "id": "8e8e5091",
   "metadata": {},
   "source": [
    "## Bivariate Analysis of Categorical vs Numerical Variables"
   ]
  },
  {
   "cell_type": "code",
   "execution_count": null,
   "id": "ed1a9761",
   "metadata": {},
   "outputs": [],
   "source": [
    "mean_profits_by_region = df.groupby('Region')['Profit'].mean().reset_index()\n",
    "mean_profits_by_region_sorted = mean_profits_by_region.sort_values('Profit', ascending=False)\n",
    "mean_profits_by_region_sorted"
   ]
  },
  {
   "cell_type": "code",
   "execution_count": null,
   "id": "85d96b1f",
   "metadata": {},
   "outputs": [],
   "source": [
    "# Top Region by mean profit\n",
    "top_regions = mean_profits_by_region_sorted.head(1)\n",
    "\n",
    "# Bottom Region by mean profit\n",
    "bottom_regions = mean_profits_by_region_sorted.tail(1)\n",
    "\n",
    "# Combining top and bottom for visualization\n",
    "combined_regions = pd.concat([top_regions, bottom_regions])\n",
    "\n",
    "plt.figure(figsize=(4, 3))\n",
    "sns.barplot(x='Profit', y='Region', data=combined_regions, palette='viridis')\n",
    "plt.title('Top and Bottom Regions by Mean Profit')\n",
    "plt.xlabel('Mean Profit')\n",
    "plt.ylabel('Region')\n",
    "plt.show()"
   ]
  },
  {
   "cell_type": "markdown",
   "id": "8d31d11c",
   "metadata": {},
   "source": [
    "## Bivariate Analysis of Numerical vs Numerical Variables"
   ]
  },
  {
   "cell_type": "code",
   "execution_count": null,
   "id": "d06a83de",
   "metadata": {},
   "outputs": [],
   "source": [
    "#Scatter plot of 'Sales' vs 'Profit'\n",
    "plt.figure(figsize=(4, 3))\n",
    "sns.scatterplot(x='Sales', y='Profit', data=df)\n",
    "plt.title('Sales vs Profit')\n",
    "plt.xlabel('Sales')\n",
    "plt.ylabel('Profit')\n",
    "plt.show()"
   ]
  },
  {
   "cell_type": "code",
   "execution_count": null,
   "id": "ebc13007",
   "metadata": {},
   "outputs": [],
   "source": [
    "# Calculate correlation coefficient between 'Sales' and 'Profit'\n",
    "correlation = df[['Sales', 'Profit']].corr()\n",
    "print(correlation)"
   ]
  },
  {
   "cell_type": "code",
   "execution_count": null,
   "id": "ccae1812",
   "metadata": {},
   "outputs": [],
   "source": [
    "#Scatter plot of 'Sales' vs 'Profit'\n",
    "plt.figure(figsize=(4, 3))\n",
    "sns.scatterplot(x='Sales', y='Profit', data=df_no_outliers)\n",
    "plt.title('Sales vs Profit')\n",
    "plt.xlabel('Sales')\n",
    "plt.ylabel('Profit')\n",
    "plt.show()"
   ]
  },
  {
   "cell_type": "code",
   "execution_count": null,
   "id": "86c54723",
   "metadata": {},
   "outputs": [],
   "source": [
    "# Calculate correlation coefficient between 'Sales' and 'Profit'\n",
    "correlation = df_no_outliers[['Sales', 'Profit']].corr()\n",
    "print(correlation)"
   ]
  },
  {
   "cell_type": "code",
   "execution_count": null,
   "id": "5bd769fd",
   "metadata": {
    "scrolled": true
   },
   "outputs": [],
   "source": [
    "import statsmodels.api as sm\n",
    "\n",
    "# Simple Linear Regression with 'Sales' as independent variable and 'Profit' as dependent variable\n",
    "X = df['Sales']\n",
    "y = df['Profit']\n",
    "\n",
    "X = sm.add_constant(X)\n",
    "model = sm.OLS(y, X).fit()\n",
    "print(model.summary())"
   ]
  },
  {
   "cell_type": "code",
   "execution_count": null,
   "id": "806b1e06",
   "metadata": {},
   "outputs": [],
   "source": []
  },
  {
   "cell_type": "code",
   "execution_count": null,
   "id": "529fff34",
   "metadata": {},
   "outputs": [],
   "source": [
    "#Scatter plot of 'Discount' vs 'Profit'\n",
    "plt.figure(figsize=(4, 3))\n",
    "sns.scatterplot(x='Discount', y='Profit', data=df)\n",
    "plt.title('Discount vs Profit')\n",
    "plt.xlabel('Discount')\n",
    "plt.ylabel('Profit')\n",
    "plt.show()"
   ]
  },
  {
   "cell_type": "code",
   "execution_count": null,
   "id": "da992fb4",
   "metadata": {},
   "outputs": [],
   "source": [
    "# Calculate correlation coefficient between 'Discount' and 'Profit'\n",
    "correlation = df[['Discount', 'Profit']].corr()\n",
    "print(correlation)"
   ]
  },
  {
   "cell_type": "code",
   "execution_count": null,
   "id": "5f252f39",
   "metadata": {},
   "outputs": [],
   "source": [
    "#Scatter plot of 'Discount' vs 'Profit'\n",
    "plt.figure(figsize=(4, 3))\n",
    "sns.scatterplot(x='Discount', y='Profit', data=df_no_outliers)\n",
    "plt.title('Discount vs Profit')\n",
    "plt.xlabel('Discount')\n",
    "plt.ylabel('Profit')\n",
    "plt.show()"
   ]
  },
  {
   "cell_type": "code",
   "execution_count": null,
   "id": "b3717c3c",
   "metadata": {},
   "outputs": [],
   "source": [
    "# Calculate correlation coefficient between 'Discount' and 'Profit'\n",
    "correlation = df_no_outliers[['Discount', 'Profit']].corr()\n",
    "print(correlation)"
   ]
  },
  {
   "cell_type": "code",
   "execution_count": null,
   "id": "33470d25",
   "metadata": {
    "scrolled": true
   },
   "outputs": [],
   "source": [
    "import statsmodels.api as sm\n",
    "\n",
    "# Simple Linear Regression with 'Discount' as independent variable and 'Profit' as dependent variable\n",
    "X = df['Discount']\n",
    "y = df['Profit']\n",
    "\n",
    "X = sm.add_constant(X)\n",
    "model = sm.OLS(y, X).fit()\n",
    "print(model.summary())"
   ]
  },
  {
   "cell_type": "code",
   "execution_count": null,
   "id": "3e4537cb",
   "metadata": {},
   "outputs": [],
   "source": []
  }
 ],
 "metadata": {
  "kernelspec": {
   "display_name": "Python [conda env:jcopml]",
   "language": "python",
   "name": "conda-env-jcopml-py"
  },
  "language_info": {
   "codemirror_mode": {
    "name": "ipython",
    "version": 3
   },
   "file_extension": ".py",
   "mimetype": "text/x-python",
   "name": "python",
   "nbconvert_exporter": "python",
   "pygments_lexer": "ipython3",
   "version": "3.9.0"
  },
  "varInspector": {
   "cols": {
    "lenName": 16,
    "lenType": 16,
    "lenVar": 40
   },
   "kernels_config": {
    "python": {
     "delete_cmd_postfix": "",
     "delete_cmd_prefix": "del ",
     "library": "var_list.py",
     "varRefreshCmd": "print(var_dic_list())"
    },
    "r": {
     "delete_cmd_postfix": ") ",
     "delete_cmd_prefix": "rm(",
     "library": "var_list.r",
     "varRefreshCmd": "cat(var_dic_list()) "
    }
   },
   "types_to_exclude": [
    "module",
    "function",
    "builtin_function_or_method",
    "instance",
    "_Feature"
   ],
   "window_display": false
  }
 },
 "nbformat": 4,
 "nbformat_minor": 5
}
